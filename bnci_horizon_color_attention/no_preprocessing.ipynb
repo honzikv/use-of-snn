{
 "cells": [
  {
   "cell_type": "code",
   "execution_count": 27,
   "metadata": {
    "collapsed": true
   },
   "outputs": [],
   "source": [
    "import numpy as np\n",
    "from pymatreader import read_mat\n",
    "import os"
   ]
  },
  {
   "cell_type": "code",
   "execution_count": 28,
   "outputs": [],
   "source": [
    "dataset_path = 'dataset'"
   ],
   "metadata": {
    "collapsed": false,
    "pycharm": {
     "name": "#%%\n"
    }
   }
  },
  {
   "cell_type": "code",
   "execution_count": 29,
   "outputs": [],
   "source": [
    "def get_data(mat):\n",
    "    bci_exp = mat['bciexp']\n",
    "    features = bci_exp['data']\n",
    "    labels = bci_exp['intention']\n",
    "    channel_labels = bci_exp['label']\n",
    "    channels_of_interest = ['O9', 'CP1', 'CP2', 'O10', 'P7', 'P3', 'Pz',\n",
    "            'P4', 'P8', 'PO7', 'PO3', 'Oz', 'PO4', 'PO8']\n",
    "    channel_indexes = np.array([channel_labels.index(ch) for ch in channels_of_interest])\n",
    "\n",
    "    return features[channel_indexes], labels"
   ],
   "metadata": {
    "collapsed": false,
    "pycharm": {
     "name": "#%%\n"
    }
   }
  },
  {
   "cell_type": "code",
   "execution_count": 30,
   "outputs": [
    {
     "name": "stdout",
     "output_type": "stream",
     "text": [
      "(2976, 14, 4000)\n"
     ]
    }
   ],
   "source": [
    "X, Y = [], []\n",
    "for file in os.listdir(dataset_path):\n",
    "    file_path = os.path.join(dataset_path, file)\n",
    "    mat = read_mat(file_path)\n",
    "    features, labels = get_data(mat)\n",
    "    features = features.reshape(-1, 14, 4000)\n",
    "    X.append(features)\n",
    "    Y.append(labels)\n",
    "\n",
    "X_concat = np.concatenate(X, axis=0)\n",
    "Y_concat = np.concatenate(Y)\n",
    "\n",
    "print(X_concat.shape)\n",
    "\n",
    "os.makedirs('dataset_result', exist_ok=True)\n",
    "np.savez_compressed(os.path.join('dataset_result', 'no_preprocess'), features=X_concat, labels=Y_concat)"
   ],
   "metadata": {
    "collapsed": false,
    "pycharm": {
     "name": "#%%\n"
    }
   }
  }
 ],
 "metadata": {
  "kernelspec": {
   "display_name": "Python 3",
   "language": "python",
   "name": "python3"
  },
  "language_info": {
   "codemirror_mode": {
    "name": "ipython",
    "version": 2
   },
   "file_extension": ".py",
   "mimetype": "text/x-python",
   "name": "python",
   "nbconvert_exporter": "python",
   "pygments_lexer": "ipython2",
   "version": "2.7.6"
  }
 },
 "nbformat": 4,
 "nbformat_minor": 0
}