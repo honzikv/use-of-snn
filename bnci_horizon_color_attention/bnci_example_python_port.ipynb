{
 "cells": [
  {
   "cell_type": "markdown",
   "source": [
    "This notebook contains Python equivalent code to the example in: https://gitlab.stimulate.ovgu.de/christoph.reichert/visual-spatial-attention-bci\n",
    "\n",
    "The notebook should produce close enough data that should be inter-changeable with the resulting data from the original\n",
    "Matlab script.\n",
    "\n",
    "How to use this:\n",
    "\n",
    "1. Create a folder which will contain only dataset files (default name is \"dataset\" in the same folder as this notebook)\n",
    "\n",
    "2. Run all code blocks in this notebook\n",
    "\n",
    "3. The notebook will generate output files in output folder (default name is \"dataset_result\")"
   ],
   "metadata": {
    "collapsed": false,
    "pycharm": {
     "name": "#%% md\n"
    }
   }
  },
  {
   "cell_type": "code",
   "execution_count": null,
   "outputs": [],
   "source": [
    "import scipy.signal\n",
    "import numpy as np\n",
    "from pymatreader import read_mat\n",
    "import os\n",
    "from sklearn.cross_decomposition import CCA\n",
    "from sklearn.model_selection import train_test_split, KFold\n",
    "from meegkit.cca import cca_crossvalidate"
   ],
   "metadata": {
    "collapsed": false,
    "pycharm": {
     "name": "#%%\n"
    }
   }
  },
  {
   "cell_type": "code",
   "execution_count": null,
   "outputs": [],
   "source": [
    "# Create a list with all the dataset files\n",
    "dataset_files = []\n",
    "dataset_folder = 'dataset' # note that this folder\n",
    "\n",
    "for file in os.listdir(dataset_folder):\n",
    "    dataset_files.append(os.path.join(dataset_folder, file)) # append relative path"
   ],
   "metadata": {
    "collapsed": false,
    "pycharm": {
     "name": "#%%\n"
    }
   }
  },
  {
   "cell_type": "code",
   "execution_count": null,
   "outputs": [],
   "source": [
    "def preprocess_data(mat):\n",
    "    bci_exp = mat['bciexp'] # reference to the bci exp data which are the only relevant data\n",
    "    labels = bci_exp['label'] # all channels\n",
    "\n",
    "    sampling_rate = bci_exp['srate']\n",
    "    downsampling_fact = 5 # downsampling factor, 250 / 5 = 50 Hz\n",
    "    bandpass = np.array([1, 12.5]) # cutoff frequencies for the bandpass filter\n",
    "    interval_len = .75 # seconds\n",
    "\n",
    "    # calculate bandpass filter coefficients\n",
    "    butter_b, butter_a = scipy.signal.butter(N=2, Wn=bandpass / (sampling_rate / 2), btype='bandpass')\n",
    "\n",
    "    channels_of_interest = ['O9', 'CP1', 'CP2', 'O10', 'P7', 'P3', 'Pz',\n",
    "            'P4', 'P8', 'PO7', 'PO3', 'Oz', 'PO4', 'PO8']\n",
    "\n",
    "    # get the index of each channel in labels array\n",
    "    channel_indexes = np.array([labels.index(ch) for ch in channels_of_interest])\n",
    "    lmast_channel_idx = np.char.equal('LMAST', labels)\n",
    "\n",
    "    # number of samples per analysis window\n",
    "    num_samples_per_window = int(interval_len * sampling_rate / downsampling_fact) - 1\n",
    "\n",
    "    stimuli = np.array(bci_exp['stim'], dtype=np.double)\n",
    "    num_stimuli = np.sum(np.diff( np.sum(stimuli[:, :, 0], axis=0)) > 0)\n",
    "\n",
    "    eeg_data = bci_exp['data']\n",
    "    num_trials = eeg_data.shape[2]\n",
    "    num_channels = len(channel_indexes)\n",
    "    data = np.zeros(shape=(num_channels, num_samples_per_window, num_stimuli, num_trials))\n",
    "    model = np.zeros(shape=(num_samples_per_window, num_samples_per_window, num_stimuli, num_trials))\n",
    "\n",
    "    # For each trial\n",
    "    for tr in range(num_trials):\n",
    "        rdat = eeg_data[channel_indexes, :, tr] - (eeg_data[lmast_channel_idx, :, tr] / 2)\n",
    "        filtfilt_signal = scipy.signal.filtfilt(butter_b, butter_a, rdat, padtype='odd',\n",
    "                                                padlen=3 * (max(len(butter_b),len(butter_a)) - 1))\n",
    "        rdat = scipy.signal.resample_poly(filtfilt_signal, 1, downsampling_fact, axis=1)\n",
    "        rdat = rdat.T\n",
    "        x1 = np.insert(stimuli[0, :, tr], 0, 0, axis=0)\n",
    "        x2 = np.insert(stimuli[1, :, tr], 0, 0, axis=0)\n",
    "        stim = np.array((np.diff(x1) > 0) + (np.diff(x2) > 0), dtype=np.double)\n",
    "\n",
    "        stim_onsets = np.array(np.where(stim != 0))[0]\n",
    "\n",
    "        for st in range(num_stimuli):\n",
    "            start = int(np.ceil((stim_onsets[st] + 1) / downsampling_fact)) - 1\n",
    "            idx = np.arange(start, start + num_samples_per_window)\n",
    "\n",
    "            data[:, :, st, tr] = rdat[idx, :].T\n",
    "            model[:, :, st, tr] = stim[stim_onsets[st]] * np.eye(num_samples_per_window)\n",
    "\n",
    "    return data\n"
   ],
   "metadata": {
    "collapsed": false,
    "pycharm": {
     "name": "#%%\n"
    }
   }
  },
  {
   "cell_type": "code",
   "execution_count": null,
   "outputs": [],
   "source": [
    "def filter_spatially(data, model, labels):\n",
    "    num_channels = data.shape[0]\n",
    "    num_trial_samples = data.shape[1] * data.shape[2]\n",
    "\n",
    "    X = np.zeros(shape=(num_trial_samples * data.shape[3], data.shape[0]))\n",
    "    Y = np.zeros(shape=(num_trial_samples * model.shape[3], model.shape[0]))\n",
    "\n",
    "    idx = [0]\n",
    "\n",
    "    for trial in range(data.shape[3]):\n",
    "        idx = np.arange(idx[-1], idx[-1] + num_trial_samples)\n",
    "        X[idx, :] = np.reshape(np.transpose(data[:, :, :, trial], axes=(2, 3, 1)),\n",
    "                               newshape=(num_trial_samples, num_channels))\n",
    "\n",
    "        y_sign = 1 if labels[trial] == 'yes' else -1\n",
    "        Y[idx, :] = y_sign * np.reshape(np.transpose(model[:, :, :, trial], axes=(2, 3, 1)),\n",
    "                                        newshape=(num_trial_samples, model.shape[0]))\n",
    "\n",
    "    A, B, R, SD = cca_crossvalidate(X, Y) # canonical correlation analysis\n",
    "\n",
    "    significant_channels = np.argwhere(SD<0.05)\n",
    "    if len(significant_channels) < 2:\n",
    "        significant_channels = [0,1]\n",
    "\n",
    "    return {\n",
    "        'A': A[:, significant_channels],\n",
    "        'B': B[:, significant_channels],\n",
    "        'R': R[:, significant_channels]\n",
    "    }\n",
    "\n",
    "\n",
    "\n",
    "def crossvalidate(data, model, labels, trials_per_fold=24):\n",
    "    num_splits = trials_per_fold // 24\n",
    "\n",
    "    for train_idx, test_idx in KFold(n_splits=num_splits).split(data.reshape((data.shape[3], -1))):\n",
    "        train_data = data[:, :, :, train_idx]\n",
    "        train_model = model[:, :, :, train_idx]\n",
    "        train_labels = labels[train_idx]\n",
    "\n",
    "        T = filter_spatially(train_data, train_model, train_labels)"
   ],
   "metadata": {
    "collapsed": false,
    "pycharm": {
     "name": "#%%\n"
    }
   }
  },
  {
   "cell_type": "code",
   "execution_count": 1,
   "outputs": [
    {
     "name": "stdout",
     "output_type": "stream",
     "text": [
      "[ 0  1  2  3  4  5  6  7  8  9 10 11]\n"
     ]
    }
   ],
   "source": [],
   "metadata": {
    "collapsed": false,
    "pycharm": {
     "name": "#%%\n"
    }
   }
  }
 ],
 "metadata": {
  "kernelspec": {
   "display_name": "Python 3",
   "language": "python",
   "name": "python3"
  },
  "language_info": {
   "codemirror_mode": {
    "name": "ipython",
    "version": 2
   },
   "file_extension": ".py",
   "mimetype": "text/x-python",
   "name": "python",
   "nbconvert_exporter": "python",
   "pygments_lexer": "ipython2",
   "version": "2.7.6"
  }
 },
 "nbformat": 4,
 "nbformat_minor": 0
}