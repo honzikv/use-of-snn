{
 "cells": [
  {
   "cell_type": "code",
   "execution_count": 46,
   "metadata": {
    "collapsed": true
   },
   "outputs": [],
   "source": [
    "import scipy.signal\n",
    "import numpy as np\n",
    "from pymatreader import read_mat\n",
    "import os"
   ]
  },
  {
   "cell_type": "code",
   "execution_count": 47,
   "outputs": [],
   "source": [
    "# Create a list with all the dataset files\n",
    "dataset_files = []\n",
    "dataset_folder = 'dataset' # dataset folder to load data\n",
    "for file in os.listdir(dataset_folder):\n",
    "    dataset_files.append(os.path.join(dataset_folder, file)) # append relative path"
   ],
   "metadata": {
    "collapsed": false,
    "pycharm": {
     "name": "#%%\n"
    }
   }
  },
  {
   "cell_type": "code",
   "execution_count": 48,
   "outputs": [],
   "source": [
    "def preprocess_data(mat):\n",
    "    \"\"\"\n",
    "    This function is a Matlab rewritten function from\n",
    "    https://gitlab.stimulate.ovgu.de/christoph.reichert/visual-spatial-attention-bci\n",
    "    :param mat: matrix loaded with read_mat library\n",
    "    :return: features extracted from the specific file\n",
    "    \"\"\"\n",
    "    bci_exp = mat['bciexp'] # reference to the bci exp data which are the only relevant data\n",
    "    labels = bci_exp['label'] # all channels\n",
    "\n",
    "    sampling_rate = bci_exp['srate']\n",
    "    downsampling_fact = 5 # downsampling factor, 250 / 5 = 50 Hz\n",
    "    bandpass = np.array([1, 12.5]) # cutoff frequencies for the bandpass filter\n",
    "    interval_len = .75 # seconds\n",
    "\n",
    "    # calculate bandpass filter coefficients\n",
    "    butter_b, butter_a = scipy.signal.butter(N=2, Wn=bandpass / (sampling_rate / 2), btype='bandpass')\n",
    "\n",
    "    channels_of_interest = ['O9', 'CP1', 'CP2', 'O10', 'P7', 'P3', 'Pz',\n",
    "            'P4', 'P8', 'PO7', 'PO3', 'Oz', 'PO4', 'PO8']\n",
    "\n",
    "    # get the index of each channel in labels array\n",
    "    channel_indexes = np.array([labels.index(ch) for ch in channels_of_interest])\n",
    "    lmast_channel_idx = np.char.equal('LMAST', labels)\n",
    "\n",
    "    # number of samples per analysis window\n",
    "    num_samples_per_window = int(interval_len * sampling_rate / downsampling_fact) - 1\n",
    "\n",
    "    stimuli = np.array(bci_exp['stim'], dtype=np.double)\n",
    "    num_stimuli = np.sum(np.diff( np.sum(stimuli[:, :, 0], axis=0)) > 0)\n",
    "\n",
    "    eeg_data = bci_exp['data']\n",
    "    num_trials = eeg_data.shape[2]\n",
    "    num_channels = len(channel_indexes)\n",
    "    data = np.zeros(shape=(num_channels, num_samples_per_window, num_stimuli, num_trials))\n",
    "    # model = np.zeros(shape=(num_samples_per_window, num_samples_per_window, num_stimuli, num_trials))\n",
    "\n",
    "    # For each trial\n",
    "    for tr in range(num_trials):\n",
    "        rdat = eeg_data[channel_indexes, :, tr] - (eeg_data[lmast_channel_idx, :, tr] / 2)\n",
    "        filtfilt_signal = scipy.signal.filtfilt(butter_b, butter_a, rdat, padtype='odd',\n",
    "                                                padlen=3 * (max(len(butter_b),len(butter_a)) - 1))\n",
    "        rdat = scipy.signal.resample_poly(filtfilt_signal, 1, downsampling_fact, axis=1)\n",
    "        rdat = rdat.T\n",
    "        x1 = np.insert(stimuli[0, :, tr], 0, 0, axis=0)\n",
    "        x2 = np.insert(stimuli[1, :, tr], 0, 0, axis=0)\n",
    "        stim = np.array((np.diff(x1) > 0) + (np.diff(x2) > 0), dtype=np.double)\n",
    "\n",
    "        stim_onsets = np.array(np.where(stim != 0))[0]\n",
    "\n",
    "        for st in range(num_stimuli):\n",
    "            start = int(np.ceil((stim_onsets[st] + 1) / downsampling_fact)) - 1\n",
    "            idx = np.arange(start, start + num_samples_per_window)\n",
    "\n",
    "            data[:, :, st, tr] = rdat[idx, :].T\n",
    "            # model[:, :, st, tr] = stim[stim_onsets[st]] * np.eye(num_samples_per_window)\n",
    "\n",
    "    return data\n"
   ],
   "metadata": {
    "collapsed": false,
    "pycharm": {
     "name": "#%%\n"
    }
   }
  },
  {
   "cell_type": "code",
   "execution_count": 49,
   "outputs": [],
   "source": [
    "def form_dataset(dataset_files):\n",
    "    '''\n",
    "    Forms the dataset as a pair of features and labels\n",
    "    :param dataset_files: array of all dataset files - their relative or absolute paths\n",
    "    :return: pair of features and labels for ML\n",
    "    '''\n",
    "    X, Y = [], []\n",
    "    for file in dataset_files:\n",
    "        mat = read_mat(file)\n",
    "        data = preprocess_data(mat)\n",
    "        data = data.reshape(-1, 14, 36, 10)\n",
    "        X.append(data)\n",
    "        Y.append(mat['bciexp']['intention'])\n",
    "\n",
    "    X_concat = np.concatenate(X, axis=0)\n",
    "    Y_concat = np.concatenate(Y) # concatenate all labels\n",
    "    print(X_concat.shape)\n",
    "    print(Y_concat.shape)\n",
    "    return X, Y, X_concat, Y_concat\n"
   ],
   "metadata": {
    "collapsed": false,
    "pycharm": {
     "name": "#%%\n"
    }
   }
  },
  {
   "cell_type": "code",
   "execution_count": 50,
   "outputs": [
    {
     "name": "stdout",
     "output_type": "stream",
     "text": [
      "(2976, 14, 36, 10)\n",
      "(2976,)\n"
     ]
    }
   ],
   "source": [
    "# Concatenated dataset\n",
    "X, Y, X_concat, Y_concat = form_dataset(dataset_files)"
   ],
   "metadata": {
    "collapsed": false,
    "pycharm": {
     "name": "#%%\n"
    }
   }
  },
  {
   "cell_type": "code",
   "execution_count": 51,
   "outputs": [
    {
     "name": "stdout",
     "output_type": "stream",
     "text": [
      "All saved\n"
     ]
    }
   ],
   "source": [
    "\n",
    "# Dataset path is dataset_result/bci_dataset.npz relative to this notebook\n",
    "dataset_path = os.path.join('dataset_result')\n",
    "concat_path = os.path.join(dataset_path, 'bci_dataset.npz')\n",
    "\n",
    "# Create a directory if it does not exist already\n",
    "os.makedirs('dataset_result', exist_ok=True)\n",
    "np.savez_compressed(concat_path, features=X_concat, labels=Y_concat)\n",
    "\n",
    "# Save each participant individually\n",
    "for i in range(len(X)):\n",
    "    file_path = os.path.join(dataset_path, 'P{:02d}'.format(i + 1))\n",
    "    np.savez_compressed(file_path, features=X[i], labels=Y[i])\n",
    "\n",
    "print('All saved')"
   ],
   "metadata": {
    "collapsed": false,
    "pycharm": {
     "name": "#%%\n"
    }
   }
  }
 ],
 "metadata": {
  "kernelspec": {
   "name": "pycharm-9c9070f4",
   "language": "python",
   "display_name": "PyCharm (use-of-snn)"
  },
  "language_info": {
   "codemirror_mode": {
    "name": "ipython",
    "version": 2
   },
   "file_extension": ".py",
   "mimetype": "text/x-python",
   "name": "python",
   "nbconvert_exporter": "python",
   "pygments_lexer": "ipython2",
   "version": "2.7.6"
  }
 },
 "nbformat": 4,
 "nbformat_minor": 0
}