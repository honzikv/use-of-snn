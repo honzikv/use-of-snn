{
 "cells": [
  {
   "cell_type": "code",
   "execution_count": 5,
   "outputs": [],
   "source": [
    "import os\n",
    "import nengo_dl\n",
    "import numpy as np\n",
    "import keras\n",
    "import tensorflow as tf\n",
    "import sklearn\n",
    "from keras import Sequential\n",
    "from tensorflow.python.keras import Model\n",
    "from tensorflow.python.keras.callbacks import EarlyStopping\n",
    "from tensorflow.python.keras.layers import Conv2D, BatchNormalization, Dropout, AveragePooling2D, Flatten, Dense\n",
    "\n",
    "dataset_path = os.path.join('..', 'datasets', 'output', 'p300-target-nontarget.npz')\n",
    "dataset = np.load(dataset_path)\n",
    "\n",
    "target_x, non_target_x = dataset['target_features'], dataset['non_target_features']"
   ],
   "metadata": {
    "collapsed": false,
    "pycharm": {
     "name": "#%%\n"
    }
   }
  },
  {
   "cell_type": "code",
   "execution_count": 6,
   "outputs": [],
   "source": [
    "features = np.concatenate((target_x, non_target_x), axis=0)\n",
    "target_labels = np.tile(np.array([1, 0]), (target_x.shape[0], 1))\n",
    "non_target_labels = np.tile(np.array([0, 1]), (non_target_x.shape[0], 1))\n",
    "\n",
    "labels = np.vstack((target_labels, non_target_labels))\n",
    "features = np.expand_dims(features, -1)"
   ],
   "metadata": {
    "collapsed": false,
    "pycharm": {
     "name": "#%%\n"
    }
   }
  },
  {
   "cell_type": "code",
   "execution_count": null,
   "outputs": [],
   "source": [
    "train_x, train_y, test_x, test_y = sklearn.model_selection.train_test_split(\n",
    "    features, labels, test_size=0.25, shuffle=True, random_state=0\n",
    ")\n",
    "save_callback = EarlyStopping(patience=5, verbose=1, restore_best_weights=True)\n",
    "shuffle_split = sklearn.model_selection.ShuffleSplit(n_splits=30, test_size=0.25, random_state=0)"
   ],
   "metadata": {
    "collapsed": false,
    "pycharm": {
     "name": "#%%\n"
    }
   }
  },
  {
   "cell_type": "code",
   "execution_count": null,
   "outputs": [],
   "source": [
    "def create_model():\n",
    "    conv_input = Conv2D(filters=6, kernel_size=(3, 3))\n",
    "    batch_norm1 = BatchNormalization()(conv_input)\n",
    "    dropout1 = Dropout(0.5)(batch_norm1)\n",
    "    avg_pooling = AveragePooling2D(pool_size=(1, 8))(dropout1)\n",
    "    flatten = Flatten()(avg_pooling)\n",
    "    dense1 = Dense(100, activation=keras.activations.elu)(flatten)\n",
    "    batch_norm2 = BatchNormalization()(dense1)\n",
    "    dropout2 = Dropout(0.5)(batch_norm2)\n",
    "    dense_output = Dense(2, activation='softmax')(dropout2)\n",
    "\n",
    "    return Model(inputs= conv_input, outputs=dense_output), conv_input, dense_output"
   ],
   "metadata": {
    "collapsed": false,
    "pycharm": {
     "name": "#%%\n"
    }
   }
  },
  {
   "cell_type": "code",
   "execution_count": null,
   "outputs": [],
   "source": [
    "\n",
    "def validate(validation_metrics, test_metrics, snn_metrics):\n",
    "    model, input_layer, output_layer = create_model()\n",
    "    converter = nengo_dl.Converter(model)\n",
    "\n",
    "    with nengo_dl.Simulator(converter.net, minibatch_size=10) as sim:\n",
    "        sim.compile(\n",
    "            optimizer=keras.optimizers.Adam(),\n",
    "            loss=keras.losses.BinaryCrossentropy(),\n",
    "            metrics=[keras.metrics.binary_accuracy]\n",
    "        )\n",
    "\n",
    "        validation_metrics.append(\n",
    "            sim.fit(\n",
    "                callbacks=[save_callback],\n",
    "                shuffle=True,\n",
    "                epochs=30,\n",
    "                batch_size=16,\n",
    "                validation_data=(\n",
    "                    { converter.inputs[input_layer]: train_x[validation] },\n",
    "                    { converter.outputs[output_layer]: train_y[validation] }\n",
    "                )\n",
    "            )\n",
    "        )\n",
    "\n",
    "        acc, loss = sim.evaluate(\n",
    "            { converter.inputs[input_layer]: test_x },\n",
    "            { converter.outputs[output_layer]: test_y }\n",
    "        )\n",
    "        test_metrics.append({'accuracy': acc, 'loss': loss})\n",
    "\n",
    "        sim.save_params('./keras_to_snn_params')\n",
    "\n",
    "\n",
    "\n",
    "validation_metrics, test_metrics, snn_metrics = [], [], []\n",
    "\n",
    "i = 0\n",
    "for train, validation in shuffle_split(train_x):\n",
    "    print('Iteration {}'.format(i))\n",
    "    validate(validation_metrics, test_metrics, snn_metrics)\n"
   ],
   "metadata": {
    "collapsed": false,
    "pycharm": {
     "name": "#%%\n"
    }
   }
  }
 ],
 "metadata": {
  "kernelspec": {
   "name": "pycharm-9c9070f4",
   "language": "python",
   "display_name": "PyCharm (use-of-snn)"
  },
  "language_info": {
   "codemirror_mode": {
    "name": "ipython",
    "version": 2
   },
   "file_extension": ".py",
   "mimetype": "text/x-python",
   "name": "python",
   "nbconvert_exporter": "python",
   "pygments_lexer": "ipython2",
   "version": "2.7.6"
  }
 },
 "nbformat": 4,
 "nbformat_minor": 0
}