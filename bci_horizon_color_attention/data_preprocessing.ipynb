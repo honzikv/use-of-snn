{
 "cells": [
  {
   "cell_type": "code",
   "execution_count": 287,
   "metadata": {
    "collapsed": true
   },
   "outputs": [],
   "source": [
    "import scipy.signal\n",
    "import numpy as np\n",
    "from pymatreader import read_mat\n",
    "import os\n",
    "from matplotlib.pyplot import plot\n",
    "import resampy\n"
   ]
  },
  {
   "cell_type": "code",
   "execution_count": 288,
   "outputs": [],
   "source": [
    "# Create a list with all the dataset files\n",
    "dataset_files = []\n",
    "dataset_folder = 'dataset' # dataset folder to load data\n",
    "for file in os.listdir(dataset_folder):\n",
    "    dataset_files.append(os.path.join(dataset_folder, file)) # append relative path"
   ],
   "metadata": {
    "collapsed": false,
    "pycharm": {
     "name": "#%%\n"
    }
   }
  },
  {
   "cell_type": "code",
   "execution_count": 289,
   "outputs": [],
   "source": [
    "def preprocess(file):\n",
    "    mat = read_mat(file)\n",
    "    bci_exp = mat['bciexp'] # reference to the bci exp data which are the only relevant data\n",
    "    labels = bci_exp['label'] # all channels\n",
    "\n",
    "    sampling_rate = bci_exp['srate']\n",
    "    downsampling_fact = 5 # downsampling factor, 250 / 5 = 50 Hz\n",
    "    bandpass = np.array([1, 12.5]) # cutoff frequencies for the bandpass filter\n",
    "    interval_len = .75 # seconds\n",
    "\n",
    "    # calculate bandpass filter coefficients\n",
    "    butter_b, butter_a = scipy.signal.butter(N=2, Wn=bandpass / (sampling_rate / 2), btype='bandpass')\n",
    "\n",
    "    channels_of_interest = ['O9', 'CP1', 'CP2', 'O10', 'P7', 'P3', 'Pz',\n",
    "            'P4', 'P8', 'PO7', 'PO3', 'Oz', 'PO4', 'PO8']\n",
    "\n",
    "    # get the index of each channel in labels array\n",
    "    channel_indexes = np.array([labels.index(ch) for ch in channels_of_interest])\n",
    "    lmast_channel_idx = np.char.equal('LMAST', labels)\n",
    "\n",
    "    # number of samples per analysis window\n",
    "    num_samples_per_window = int(interval_len * sampling_rate / downsampling_fact) - 1\n",
    "\n",
    "    stimuli = np.array(bci_exp['stim'], dtype=np.double)\n",
    "    num_stimuli = np.sum(np.diff( np.sum(stimuli[:, :, 0], axis=0)) > 0)\n",
    "\n",
    "    eeg_data = bci_exp['data']\n",
    "    num_trials = eeg_data.shape[2]\n",
    "    num_channels = len(channel_indexes)\n",
    "    data = np.zeros(shape=(num_channels, num_samples_per_window, num_stimuli, num_trials))\n",
    "    model = np.zeros(shape=(num_samples_per_window, num_samples_per_window, num_stimuli, num_trials))\n",
    "\n",
    "    # for trial in range(num_trials):\n",
    "    for trial in range(1):\n",
    "        rdat = eeg_data[channel_indexes, :, trial] - (eeg_data[lmast_channel_idx, :, trial] / 2)\n",
    "        filtfilt_signal = scipy.signal.filtfilt(butter_b, butter_a, rdat, padtype='odd',\n",
    "                                                padlen=3 * (max(len(butter_b),len(butter_a)) - 1))\n",
    "        resampled_signal = scipy.signal.resample_poly(filtfilt_signal, 1, downsampling_fact, axis=1)\n",
    "        "
   ],
   "metadata": {
    "collapsed": false,
    "pycharm": {
     "name": "#%%\n"
    }
   }
  },
  {
   "cell_type": "code",
   "execution_count": 290,
   "outputs": [
    {
     "name": "stdout",
     "output_type": "stream",
     "text": [
      "-8.149351658437611\n"
     ]
    }
   ],
   "source": [
    "preprocess(dataset_files[0])"
   ],
   "metadata": {
    "collapsed": false,
    "pycharm": {
     "name": "#%%\n"
    }
   }
  }
 ],
 "metadata": {
  "kernelspec": {
   "name": "pycharm-9c9070f4",
   "language": "python",
   "display_name": "PyCharm (use-of-snn)"
  },
  "language_info": {
   "codemirror_mode": {
    "name": "ipython",
    "version": 2
   },
   "file_extension": ".py",
   "mimetype": "text/x-python",
   "name": "python",
   "nbconvert_exporter": "python",
   "pygments_lexer": "ipython2",
   "version": "2.7.6"
  }
 },
 "nbformat": 4,
 "nbformat_minor": 0
}