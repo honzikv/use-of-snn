{
 "cells": [
  {
   "cell_type": "code",
   "execution_count": 49,
   "metadata": {
    "collapsed": true
   },
   "outputs": [],
   "source": [
    "import numpy as np\n",
    "import scipy.io\n",
    "import scipy.signal\n",
    "import os\n",
    "import mne\n",
    "import matplotlib.pyplot as plt\n",
    "import pandas\n",
    "import math\n",
    "from pymatreader import read_mat"
   ]
  },
  {
   "cell_type": "code",
   "execution_count": 50,
   "outputs": [
    {
     "name": "stdout",
     "output_type": "stream",
     "text": [
      "Number of files:  18\n"
     ]
    }
   ],
   "source": [
    "dataset_folder = 'dataset'\n",
    "dataset_files = []\n",
    "\n",
    "for file in os.listdir(dataset_folder):\n",
    "    dataset_files.append(os.path.join(dataset_folder, file))\n",
    "\n",
    "print('Number of files: ', len(dataset_files))"
   ],
   "metadata": {
    "collapsed": false,
    "pycharm": {
     "name": "#%%\n"
    }
   }
  },
  {
   "cell_type": "code",
   "execution_count": 51,
   "outputs": [
    {
     "name": "stdout",
     "output_type": "stream",
     "text": [
      "(30, 4000, 120)\n"
     ]
    },
    {
     "ename": "ValueError",
     "evalue": "Must specify a single critical frequency Wn for lowpass or highpass filter",
     "output_type": "error",
     "traceback": [
      "\u001B[1;31m---------------------------------------------------------------------------\u001B[0m",
      "\u001B[1;31mValueError\u001B[0m                                Traceback (most recent call last)",
      "\u001B[1;32m<ipython-input-51-a70559982273>\u001B[0m in \u001B[0;36m<module>\u001B[1;34m\u001B[0m\n\u001B[0;32m     22\u001B[0m \u001B[1;33m\u001B[0m\u001B[0m\n\u001B[0;32m     23\u001B[0m \u001B[0mdata\u001B[0m \u001B[1;33m=\u001B[0m \u001B[0mnp\u001B[0m\u001B[1;33m.\u001B[0m\u001B[0mzeros\u001B[0m\u001B[1;33m(\u001B[0m\u001B[0mshape\u001B[0m\u001B[1;33m=\u001B[0m\u001B[1;33m(\u001B[0m\u001B[0mnum_channels\u001B[0m\u001B[1;33m,\u001B[0m \u001B[0mnum_samples\u001B[0m\u001B[1;33m,\u001B[0m \u001B[0mnum_stimuli\u001B[0m\u001B[1;33m,\u001B[0m \u001B[0mnum_trials\u001B[0m\u001B[1;33m)\u001B[0m\u001B[1;33m)\u001B[0m\u001B[1;33m\u001B[0m\u001B[1;33m\u001B[0m\u001B[0m\n\u001B[1;32m---> 24\u001B[1;33m \u001B[0mbutter_a\u001B[0m\u001B[1;33m,\u001B[0m \u001B[0mbutter_b\u001B[0m \u001B[1;33m=\u001B[0m \u001B[0mscipy\u001B[0m\u001B[1;33m.\u001B[0m\u001B[0msignal\u001B[0m\u001B[1;33m.\u001B[0m\u001B[0mbutter\u001B[0m\u001B[1;33m(\u001B[0m\u001B[1;36m2\u001B[0m\u001B[1;33m,\u001B[0m \u001B[0mpassband_cutoff_freq\u001B[0m \u001B[1;33m/\u001B[0m \u001B[1;33m(\u001B[0m\u001B[0msampling_rate\u001B[0m \u001B[1;33m/\u001B[0m \u001B[1;36m2\u001B[0m\u001B[1;33m)\u001B[0m\u001B[1;33m)\u001B[0m\u001B[1;33m\u001B[0m\u001B[1;33m\u001B[0m\u001B[0m\n\u001B[0m\u001B[0;32m     25\u001B[0m \u001B[1;32mfor\u001B[0m \u001B[0mi\u001B[0m \u001B[1;32min\u001B[0m \u001B[0mrange\u001B[0m\u001B[1;33m(\u001B[0m\u001B[0mnum_trials\u001B[0m\u001B[1;33m)\u001B[0m\u001B[1;33m:\u001B[0m\u001B[1;33m\u001B[0m\u001B[1;33m\u001B[0m\u001B[0m\n\u001B[0;32m     26\u001B[0m     \u001B[0mright_data\u001B[0m \u001B[1;33m=\u001B[0m \u001B[0meeg_data\u001B[0m\u001B[1;33m[\u001B[0m\u001B[0mchannel_indexes\u001B[0m\u001B[1;33m,\u001B[0m \u001B[1;33m:\u001B[0m\u001B[1;33m,\u001B[0m \u001B[0mi\u001B[0m\u001B[1;33m]\u001B[0m \u001B[1;33m-\u001B[0m \u001B[1;33m(\u001B[0m\u001B[0meeg_data\u001B[0m\u001B[1;33m[\u001B[0m\u001B[0mlmast_channel\u001B[0m\u001B[1;33m,\u001B[0m \u001B[1;33m:\u001B[0m\u001B[1;33m,\u001B[0m \u001B[0mi\u001B[0m\u001B[1;33m]\u001B[0m \u001B[1;33m/\u001B[0m \u001B[1;36m2\u001B[0m\u001B[1;33m)\u001B[0m\u001B[1;33m\u001B[0m\u001B[1;33m\u001B[0m\u001B[0m\n",
      "\u001B[1;32m~\\anaconda3\\envs\\data-science\\lib\\site-packages\\scipy\\signal\\filter_design.py\u001B[0m in \u001B[0;36mbutter\u001B[1;34m(N, Wn, btype, analog, output, fs)\u001B[0m\n\u001B[0;32m   2891\u001B[0m     \u001B[1;33m>>\u001B[0m\u001B[1;33m>\u001B[0m \u001B[0mplt\u001B[0m\u001B[1;33m.\u001B[0m\u001B[0mshow\u001B[0m\u001B[1;33m(\u001B[0m\u001B[1;33m)\u001B[0m\u001B[1;33m\u001B[0m\u001B[1;33m\u001B[0m\u001B[0m\n\u001B[0;32m   2892\u001B[0m     \"\"\"\n\u001B[1;32m-> 2893\u001B[1;33m     return iirfilter(N, Wn, btype=btype, analog=analog,\n\u001B[0m\u001B[0;32m   2894\u001B[0m                      output=output, ftype='butter', fs=fs)\n\u001B[0;32m   2895\u001B[0m \u001B[1;33m\u001B[0m\u001B[0m\n",
      "\u001B[1;32m~\\anaconda3\\envs\\data-science\\lib\\site-packages\\scipy\\signal\\filter_design.py\u001B[0m in \u001B[0;36miirfilter\u001B[1;34m(N, Wn, rp, rs, btype, analog, ftype, output, fs)\u001B[0m\n\u001B[0;32m   2375\u001B[0m     \u001B[1;32mif\u001B[0m \u001B[0mbtype\u001B[0m \u001B[1;32min\u001B[0m \u001B[1;33m(\u001B[0m\u001B[1;34m'lowpass'\u001B[0m\u001B[1;33m,\u001B[0m \u001B[1;34m'highpass'\u001B[0m\u001B[1;33m)\u001B[0m\u001B[1;33m:\u001B[0m\u001B[1;33m\u001B[0m\u001B[1;33m\u001B[0m\u001B[0m\n\u001B[0;32m   2376\u001B[0m         \u001B[1;32mif\u001B[0m \u001B[0mnumpy\u001B[0m\u001B[1;33m.\u001B[0m\u001B[0msize\u001B[0m\u001B[1;33m(\u001B[0m\u001B[0mWn\u001B[0m\u001B[1;33m)\u001B[0m \u001B[1;33m!=\u001B[0m \u001B[1;36m1\u001B[0m\u001B[1;33m:\u001B[0m\u001B[1;33m\u001B[0m\u001B[1;33m\u001B[0m\u001B[0m\n\u001B[1;32m-> 2377\u001B[1;33m             \u001B[1;32mraise\u001B[0m \u001B[0mValueError\u001B[0m\u001B[1;33m(\u001B[0m\u001B[1;34m'Must specify a single critical frequency Wn for lowpass or highpass filter'\u001B[0m\u001B[1;33m)\u001B[0m\u001B[1;33m\u001B[0m\u001B[1;33m\u001B[0m\u001B[0m\n\u001B[0m\u001B[0;32m   2378\u001B[0m \u001B[1;33m\u001B[0m\u001B[0m\n\u001B[0;32m   2379\u001B[0m         \u001B[1;32mif\u001B[0m \u001B[0mbtype\u001B[0m \u001B[1;33m==\u001B[0m \u001B[1;34m'lowpass'\u001B[0m\u001B[1;33m:\u001B[0m\u001B[1;33m\u001B[0m\u001B[1;33m\u001B[0m\u001B[0m\n",
      "\u001B[1;31mValueError\u001B[0m: Must specify a single critical frequency Wn for lowpass or highpass filter"
     ]
    }
   ],
   "source": [
    "bci_exp = read_mat(dataset_files[0])['bciexp'] # read only bci_exp object\n",
    "eeg_data = bci_exp['data']\n",
    "print(eeg_data.shape)\n",
    "\n",
    "downsampling_fact = 5 # 250 / 5 = 50 Hz\n",
    "passband_cutoff_freq = np.array([1.0, 12.5]) # cutoff frequencies\n",
    "interval_len = .75 # length of analysis interval in seconds\n",
    "sampling_rate = bci_exp['srate'] # sampling rate in Hz (250)\n",
    "\n",
    "num_samples = int(interval_len * sampling_rate) - 1\n",
    "\n",
    "# nStim = sum( diff( sum( bciexp.stim( :, :, 1))) > 0);\n",
    "num_stimuli = np.sum(np.diff(bci_exp['stim'][:,:,0] > 0))\n",
    "num_trials = eeg_data.shape[2]\n",
    "\n",
    "channels_of_interest = ['O9', 'CP1', 'CP2', 'O10', 'P7', 'P3', 'Pz',\n",
    "            'P4', 'P8', 'PO7', 'PO3', 'Oz', 'PO4', 'PO8']\n",
    "num_channels = len(channels_of_interest)\n",
    "channel_indexes = [bci_exp['label'].index(x) for x in channels_of_interest]\n",
    "\n",
    "lmast_channel = np.char.equal('LMAST', bci_exp['label'])\n",
    "\n",
    "data = np.zeros(shape=(num_channels, num_samples, num_stimuli, num_trials))\n",
    "butter_a, butter_b = scipy.signal.butter(2, passband_cutoff_freq / (sampling_rate / 2))\n",
    "for i in range(num_trials):\n",
    "    right_data = eeg_data[channel_indexes, :, i] - (eeg_data[lmast_channel, :, i] / 2)\n",
    "    right_data = scipy.signal.resample(\n",
    "        scipy.signal.filtfilt()\n",
    "    )"
   ],
   "metadata": {
    "collapsed": false,
    "pycharm": {
     "name": "#%%\n"
    }
   }
  }
 ],
 "metadata": {
  "kernelspec": {
   "name": "pycharm-9c9070f4",
   "language": "python",
   "display_name": "PyCharm (use-of-snn)"
  },
  "language_info": {
   "codemirror_mode": {
    "name": "ipython",
    "version": 2
   },
   "file_extension": ".py",
   "mimetype": "text/x-python",
   "name": "python",
   "nbconvert_exporter": "python",
   "pygments_lexer": "ipython2",
   "version": "2.7.6"
  }
 },
 "nbformat": 4,
 "nbformat_minor": 0
}