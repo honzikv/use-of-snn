{
 "cells": [
  {
   "cell_type": "code",
   "execution_count": 156,
   "metadata": {
    "collapsed": true
   },
   "outputs": [],
   "source": [
    "import scipy.signal\n",
    "import numpy as np\n",
    "from pymatreader import read_mat\n",
    "import os\n"
   ]
  },
  {
   "cell_type": "code",
   "execution_count": 157,
   "outputs": [],
   "source": [
    "# Create a list with all the dataset files\n",
    "dataset_files = []\n",
    "dataset_folder = 'dataset' # dataset folder to load data\n",
    "for file in os.listdir(dataset_folder):\n",
    "    dataset_files.append(os.path.join(dataset_folder, file)) # append relative path"
   ],
   "metadata": {
    "collapsed": false,
    "pycharm": {
     "name": "#%%\n"
    }
   }
  },
  {
   "cell_type": "code",
   "execution_count": 158,
   "outputs": [],
   "source": [
    "def preprocess(file):\n",
    "    mat = read_mat(file)\n",
    "    bci_exp = mat['bciexp'] # reference to the bci exp data which are the only relevant data\n",
    "    labels = bci_exp['label'] # all channels\n",
    "\n",
    "    sampling_rate = bci_exp['srate']\n",
    "    downsampling_fact = 5 # downsampling factor, 250 / 5 = 50 Hz\n",
    "    bandpass = np.array([1, 12.5]) # cutoff frequencies for the bandpass filter\n",
    "    interval_len = .75 # seconds\n",
    "\n",
    "    # calculate bandpass filter coefficients\n",
    "    butter_a, butter_b = scipy.signal.butter(N=2, Wn=bandpass / (sampling_rate / 2), btype='bandpass')\n",
    "\n",
    "    channels_of_interest = ['O9', 'CP1', 'CP2', 'O10', 'P7', 'P3', 'Pz',\n",
    "            'P4', 'P8', 'PO7', 'PO3', 'Oz', 'PO4', 'PO8']\n",
    "\n",
    "    # get the index of each channel in labels array\n",
    "    channel_indexes = np.array([labels.index(ch) for ch in channels_of_interest])\n",
    "    lmast_channel_idx = np.char.equal('LMAST', labels)\n",
    "\n",
    "    # number of samples per analysis window\n",
    "    num_samples_per_window = int(interval_len * sampling_rate / downsampling_fact) - 1\n",
    "\n",
    "    stimuli = np.array(bci_exp['stim'], dtype=np.double)\n",
    "    num_stimuli = np.sum(np.diff( np.sum(stimuli[:, :, 0], axis=0)) > 0)\n",
    "\n",
    "    eeg_data = bci_exp['data']\n",
    "    num_trials = eeg_data.shape[2]\n",
    "    num_channels = len(channel_indexes)\n",
    "    print(num_trials)\n",
    "    data = np.zeros(shape=(num_channels, num_samples_per_window, num_stimuli, num_trials))\n",
    "    model = np.zeros(shape=(num_samples_per_window, num_samples_per_window, num_stimuli, num_trials))\n",
    "\n",
    "    for i in range(num_trials):\n",
    "        right_data = eeg_data[channel_indexes, :, i] - (eeg_data[lmast_channel_idx, :, i] / 2)\n",
    "        right_data = scipy.signal.resample(\n",
    "            scipy.signal.filtfilt(butter_b, butter_a, right_data.T),\n",
    "            1,\n",
    "            downsampling_fact\n",
    "        )\n"
   ],
   "metadata": {
    "collapsed": false,
    "pycharm": {
     "name": "#%%\n"
    }
   }
  },
  {
   "cell_type": "code",
   "execution_count": 159,
   "outputs": [
    {
     "name": "stdout",
     "output_type": "stream",
     "text": [
      "120\n"
     ]
    },
    {
     "ename": "ValueError",
     "evalue": "The length of the input vector x must be greater than padlen, which is 15.",
     "output_type": "error",
     "traceback": [
      "\u001B[1;31m---------------------------------------------------------------------------\u001B[0m",
      "\u001B[1;31mValueError\u001B[0m                                Traceback (most recent call last)",
      "\u001B[1;32m<ipython-input-159-4ba28cfaa6f1>\u001B[0m in \u001B[0;36m<module>\u001B[1;34m\u001B[0m\n\u001B[1;32m----> 1\u001B[1;33m \u001B[0mpreprocess\u001B[0m\u001B[1;33m(\u001B[0m\u001B[0mdataset_files\u001B[0m\u001B[1;33m[\u001B[0m\u001B[1;36m0\u001B[0m\u001B[1;33m]\u001B[0m\u001B[1;33m)\u001B[0m\u001B[1;33m\u001B[0m\u001B[1;33m\u001B[0m\u001B[0m\n\u001B[0m",
      "\u001B[1;32m<ipython-input-158-a342baec5f64>\u001B[0m in \u001B[0;36mpreprocess\u001B[1;34m(file)\u001B[0m\n\u001B[0;32m     35\u001B[0m         \u001B[0mright_data\u001B[0m \u001B[1;33m=\u001B[0m \u001B[0meeg_data\u001B[0m\u001B[1;33m[\u001B[0m\u001B[0mchannel_indexes\u001B[0m\u001B[1;33m,\u001B[0m \u001B[1;33m:\u001B[0m\u001B[1;33m,\u001B[0m \u001B[0mi\u001B[0m\u001B[1;33m]\u001B[0m \u001B[1;33m-\u001B[0m \u001B[1;33m(\u001B[0m\u001B[0meeg_data\u001B[0m\u001B[1;33m[\u001B[0m\u001B[0mlmast_channel_idx\u001B[0m\u001B[1;33m,\u001B[0m \u001B[1;33m:\u001B[0m\u001B[1;33m,\u001B[0m \u001B[0mi\u001B[0m\u001B[1;33m]\u001B[0m \u001B[1;33m/\u001B[0m \u001B[1;36m2\u001B[0m\u001B[1;33m)\u001B[0m\u001B[1;33m\u001B[0m\u001B[1;33m\u001B[0m\u001B[0m\n\u001B[0;32m     36\u001B[0m         right_data = scipy.signal.resample(\n\u001B[1;32m---> 37\u001B[1;33m             \u001B[0mscipy\u001B[0m\u001B[1;33m.\u001B[0m\u001B[0msignal\u001B[0m\u001B[1;33m.\u001B[0m\u001B[0mfiltfilt\u001B[0m\u001B[1;33m(\u001B[0m\u001B[0mbutter_b\u001B[0m\u001B[1;33m,\u001B[0m \u001B[0mbutter_a\u001B[0m\u001B[1;33m,\u001B[0m \u001B[0mright_data\u001B[0m\u001B[1;33m.\u001B[0m\u001B[0mT\u001B[0m\u001B[1;33m)\u001B[0m\u001B[1;33m,\u001B[0m\u001B[1;33m\u001B[0m\u001B[1;33m\u001B[0m\u001B[0m\n\u001B[0m\u001B[0;32m     38\u001B[0m             \u001B[1;36m1\u001B[0m\u001B[1;33m,\u001B[0m\u001B[1;33m\u001B[0m\u001B[1;33m\u001B[0m\u001B[0m\n\u001B[0;32m     39\u001B[0m             \u001B[0mdownsampling_fact\u001B[0m\u001B[1;33m\u001B[0m\u001B[1;33m\u001B[0m\u001B[0m\n",
      "\u001B[1;32m~\\anaconda3\\envs\\data-science\\lib\\site-packages\\scipy\\signal\\signaltools.py\u001B[0m in \u001B[0;36mfiltfilt\u001B[1;34m(b, a, x, axis, padtype, padlen, method, irlen)\u001B[0m\n\u001B[0;32m   3891\u001B[0m \u001B[1;33m\u001B[0m\u001B[0m\n\u001B[0;32m   3892\u001B[0m     \u001B[1;31m# method == \"pad\"\u001B[0m\u001B[1;33m\u001B[0m\u001B[1;33m\u001B[0m\u001B[1;33m\u001B[0m\u001B[0m\n\u001B[1;32m-> 3893\u001B[1;33m     edge, ext = _validate_pad(padtype, padlen, x, axis,\n\u001B[0m\u001B[0;32m   3894\u001B[0m                               ntaps=max(len(a), len(b)))\n\u001B[0;32m   3895\u001B[0m \u001B[1;33m\u001B[0m\u001B[0m\n",
      "\u001B[1;32m~\\anaconda3\\envs\\data-science\\lib\\site-packages\\scipy\\signal\\signaltools.py\u001B[0m in \u001B[0;36m_validate_pad\u001B[1;34m(padtype, padlen, x, axis, ntaps)\u001B[0m\n\u001B[0;32m   3941\u001B[0m     \u001B[1;31m# x's 'axis' dimension must be bigger than edge.\u001B[0m\u001B[1;33m\u001B[0m\u001B[1;33m\u001B[0m\u001B[1;33m\u001B[0m\u001B[0m\n\u001B[0;32m   3942\u001B[0m     \u001B[1;32mif\u001B[0m \u001B[0mx\u001B[0m\u001B[1;33m.\u001B[0m\u001B[0mshape\u001B[0m\u001B[1;33m[\u001B[0m\u001B[0maxis\u001B[0m\u001B[1;33m]\u001B[0m \u001B[1;33m<=\u001B[0m \u001B[0medge\u001B[0m\u001B[1;33m:\u001B[0m\u001B[1;33m\u001B[0m\u001B[1;33m\u001B[0m\u001B[0m\n\u001B[1;32m-> 3943\u001B[1;33m         raise ValueError(\"The length of the input vector x must be greater \"\n\u001B[0m\u001B[0;32m   3944\u001B[0m                          \"than padlen, which is %d.\" % edge)\n\u001B[0;32m   3945\u001B[0m \u001B[1;33m\u001B[0m\u001B[0m\n",
      "\u001B[1;31mValueError\u001B[0m: The length of the input vector x must be greater than padlen, which is 15."
     ]
    }
   ],
   "source": [
    "preprocess(dataset_files[0])"
   ],
   "metadata": {
    "collapsed": false,
    "pycharm": {
     "name": "#%%\n"
    }
   }
  }
 ],
 "metadata": {
  "kernelspec": {
   "name": "pycharm-9c9070f4",
   "language": "python",
   "display_name": "PyCharm (use-of-snn)"
  },
  "language_info": {
   "codemirror_mode": {
    "name": "ipython",
    "version": 2
   },
   "file_extension": ".py",
   "mimetype": "text/x-python",
   "name": "python",
   "nbconvert_exporter": "python",
   "pygments_lexer": "ipython2",
   "version": "2.7.6"
  }
 },
 "nbformat": 4,
 "nbformat_minor": 0
}