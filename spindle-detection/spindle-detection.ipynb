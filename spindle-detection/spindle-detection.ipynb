{
 "cells": [
  {
   "cell_type": "code",
   "execution_count": 82,
   "metadata": {
    "collapsed": true
   },
   "outputs": [],
   "source": [
    "import pandas as pd\n",
    "import numpy as np\n",
    "import h5py\n",
    "import os\n",
    "import scipy.io"
   ]
  },
  {
   "cell_type": "code",
   "execution_count": 83,
   "outputs": [],
   "source": [
    "dataset_folder = os.path.join('MODA_GC-3.0', 'output') # path to dataset\n",
    "user_groups = ['exp', 'ne', 're'] # expert, nonexpert and researcher groups which were used to form the GC\n",
    "freq_sampling_rate = 100 # Hz"
   ],
   "metadata": {
    "collapsed": false,
    "pycharm": {
     "name": "#%%\n"
    }
   }
  },
  {
   "cell_type": "code",
   "execution_count": 84,
   "outputs": [
    {
     "name": "stderr",
     "output_type": "stream",
     "text": [
      "<ipython-input-84-7152d44c9105>:14: H5pyDeprecationWarning: dataset.value has been deprecated. Use dataset[()] instead.\n",
      "  data = file.get('scoreVectorAvg').value\n"
     ]
    }
   ],
   "source": [
    "# phase#1 : 405 blocks of 115 sec sampled at 100 Hz with a NaN between each block (4657905 samples)\n",
    "#\t\tan unseen block is marked NaN.\n",
    "\n",
    "# load scores averaged across scorers\n",
    "\n",
    "# this dictionary will contain avg score for each group - exp, ne and re\n",
    "average_score_vect = {}\n",
    "for group in user_groups:\n",
    "    file_name = 'scoreAvg_{}_p1.mat'.format(group)\n",
    "    file_path = os.path.join(dataset_folder, group, file_name)\n",
    "\n",
    "    # read file of each group and save data to python dictionary\n",
    "    with h5py.File(file_path, 'r') as file:\n",
    "        data = file.get('scoreVectorAvg').value\n",
    "        # save each dictionary to average_score_vect dictionary\n",
    "        average_score_vect[group] = data"
   ],
   "metadata": {
    "collapsed": false,
    "pycharm": {
     "name": "#%%\n"
    }
   }
  },
  {
   "cell_type": "code",
   "execution_count": 85,
   "metadata": {},
   "outputs": [],
   "source": [
    "gc_vects = {}\n",
    "for group in user_groups:\n",
    "    file_name = 'GCVect_{}_p1.mat'.format(group)\n",
    "    file_path = os.path.join(dataset_folder, group, file_name)\n",
    "    gc_vects[group] = scipy.io.loadmat(file_path) # load matlab matrix\n",
    "    gc_vects[group] = np.array(gc_vects[group]['GCVect'])"
   ]
  },
  {
   "cell_type": "code",
   "execution_count": 86,
   "outputs": [],
   "source": [
    "# load events for each spindle\n",
    "gc_events = {}\n",
    "for group in user_groups:\n",
    "    file_name = 'GC_spindlesLst_4EEGVect_{}_p1.txt'.format(group)\n",
    "    file_path = os.path.join(dataset_folder, group, file_name)\n",
    "    gc_events[group] = pd.read_csv(file_path, sep='\\t', header=0, index_col=0).iloc[:, :-1]"
   ],
   "metadata": {
    "collapsed": false,
    "pycharm": {
     "name": "#%%\n"
    }
   }
  },
  {
   "cell_type": "code",
   "execution_count": 87,
   "outputs": [],
   "source": [
    "annotation_data = {} # dictionary of pandas data frames\n",
    "\n",
    "for group in user_groups:\n",
    "    folder_path = os.path.join(dataset_folder, group, 'annotFiles')\n",
    "\n",
    "    annotation_data[group] = {}\n",
    "    for file_name in os.listdir(folder_path):\n",
    "        file_path = os.path.join(folder_path, file_name)\n",
    "\n",
    "        # read data from text file and drop last column\n",
    "        annotation_data[group][file_name] = pd.read_csv(file_path, sep='\\t', header=0).iloc[:, :-1]"
   ],
   "metadata": {
    "collapsed": false,
    "pycharm": {
     "name": "#%%\n"
    }
   }
  },
  {
   "cell_type": "code",
   "execution_count": 88,
   "outputs": [],
   "source": [
    "def using_clump(a):\n",
    "    return np.array([a[s] for s in np.ma.clump_unmasked(np.ma.masked_invalid(a))])\n",
    "\n",
    "features = {} # todo 414 instead of 415\n",
    "for group, vect in gc_vects.items():\n",
    "    features[group] = using_clump(vect)"
   ],
   "metadata": {
    "collapsed": false,
    "pycharm": {
     "name": "#%%\n"
    }
   }
  },
  {
   "cell_type": "code",
   "execution_count": 89,
   "outputs": [
    {
     "name": "stdout",
     "output_type": "stream",
     "text": [
      "       startSec  durationSec      eventName\n",
      "0     8218.9336       115.00  segmentViewed\n",
      "1     8488.9336       115.00  segmentViewed\n",
      "2    14548.9336       115.00  segmentViewed\n",
      "3    18328.9336       115.00  segmentViewed\n",
      "4    19398.9336       115.00  segmentViewed\n",
      "..          ...          ...            ...\n",
      "128  25604.3336         0.87        spindle\n",
      "129  25608.3736         1.04        spindle\n",
      "130  25612.8936         0.51        spindle\n",
      "131  25616.7136         0.40        spindle\n",
      "132  25630.1036         0.84        spindle\n",
      "\n",
      "[133 rows x 3 columns]\n",
      "          startSamples  durationSamples  startSec  durationSec\n",
      "eventNum                                                      \n",
      "1                 1441               57     14.41         0.57\n",
      "2                 2147               69     21.47         0.69\n",
      "3                 3878              106     38.78         1.06\n",
      "4                 5001               55     50.01         0.55\n",
      "5                 5808               79     58.08         0.79\n",
      "...                ...              ...       ...          ...\n",
      "3334           4646146               96  46461.46         0.96\n",
      "3335           4646796               62  46467.96         0.62\n",
      "3336           4649601               71  46496.01         0.71\n",
      "3337           4652002               73  46520.02         0.73\n",
      "3338           4652605              202  46526.05         2.02\n",
      "\n",
      "[3338 rows x 4 columns]\n"
     ]
    }
   ],
   "source": [
    "print(annotation_data['exp']['01-01-0001_MODA_GS.txt'])\n",
    "print(gc_events['exp'])"
   ],
   "metadata": {
    "collapsed": false,
    "pycharm": {
     "name": "#%%\n"
    }
   }
  }
 ],
 "metadata": {
  "kernelspec": {
   "name": "pycharm-9c9070f4",
   "language": "python",
   "display_name": "PyCharm (use-of-snn)"
  },
  "language_info": {
   "codemirror_mode": {
    "name": "ipython",
    "version": 2
   },
   "file_extension": ".py",
   "mimetype": "text/x-python",
   "name": "python",
   "nbconvert_exporter": "python",
   "pygments_lexer": "ipython2",
   "version": "3.8.5-final"
  }
 },
 "nbformat": 4,
 "nbformat_minor": 0
}