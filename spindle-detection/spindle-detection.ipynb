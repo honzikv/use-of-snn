{
 "cells": [
  {
   "cell_type": "code",
   "execution_count": 46,
   "metadata": {
    "collapsed": true
   },
   "outputs": [],
   "source": [
    "import pandas as pd\n",
    "import numpy as np\n",
    "import h5py\n",
    "import os\n",
    "import scipy.io"
   ]
  },
  {
   "cell_type": "code",
   "execution_count": 47,
   "outputs": [],
   "source": [
    "dataset_folder = os.path.join('MODA_GC-master', 'output') # path to dataset\n",
    "user_groups = ['exp', 'ne', 're'] # expert, nonexpert and researcher groups which were used to form the GC\n",
    "freq_sampling_rate = 100 # Hz"
   ],
   "metadata": {
    "collapsed": false,
    "pycharm": {
     "name": "#%%\n"
    }
   }
  },
  {
   "cell_type": "code",
   "execution_count": 48,
   "outputs": [
    {
     "name": "stderr",
     "output_type": "stream",
     "text": [
      "<ipython-input-48-d5b373c66848>:14: H5pyDeprecationWarning: dataset.value has been deprecated. Use dataset[()] instead.\n",
      "  data = file.get('scoreVectorAvg').value\n"
     ]
    }
   ],
   "source": [
    "# phase#1 : 405 blocks of 115 sec sampled at 100 Hz with a NaN between each block (4657905 samples)\n",
    "#\t\tan unseen block is marked NaN.\n",
    "\n",
    "# load scores averaged across scorers\n",
    "\n",
    "# this dictionary will contain avg score for each group - exp, ne and re\n",
    "average_score_vect = {}\n",
    "for group in user_groups:\n",
    "    file_name = 'scoreAvg_{}_p1.mat'.format(group)\n",
    "    file_path = os.path.join(dataset_folder, group, file_name)\n",
    "\n",
    "    # read file of each group and save data to python dictionary\n",
    "    with h5py.File(file_path, 'r') as file:\n",
    "        data = file.get('scoreVectorAvg').value\n",
    "        # save each dictionary to average_score_vect dictionary\n",
    "        average_score_vect[group] = data"
   ],
   "metadata": {
    "collapsed": false,
    "pycharm": {
     "name": "#%%\n"
    }
   }
  },
  {
   "cell_type": "code",
   "execution_count": 49,
   "metadata": {},
   "outputs": [],
   "source": [
    "gc_vects = {}\n",
    "for group in user_groups:\n",
    "    file_name = 'GCVect_{}_p1.mat'.format(group)\n",
    "    file_path = os.path.join(dataset_folder, group, file_name)\n",
    "    gc_vects[group] = scipy.io.loadmat(file_path) # load matlab matrix"
   ]
  },
  {
   "cell_type": "code",
   "execution_count": 50,
   "outputs": [],
   "source": [
    "# load events for each spindle\n",
    "gc_events = {}\n",
    "for group in user_groups:\n",
    "    file_name = 'GC_spindlesLst_4EEGVect_{}_p1.txt'.format(group)\n",
    "    file_path = os.path.join(dataset_folder, group, file_name)\n",
    "\n",
    "    with open(file_path, 'r') as file:\n",
    "        line = file.readline() # read first line\n",
    "        cols = line.split() # columns are first line in the file\n",
    "        rows = []\n",
    "\n",
    "\n",
    "        line = file.readline()\n",
    "        while line:\n",
    "            line = line.split() # remove whitespaces\n",
    "            rows.append(line) # append to rows\n",
    "            line = file.readline() # read single line\n",
    "\n",
    "        gc_events[group] = pd.DataFrame(rows, columns=cols)"
   ],
   "metadata": {
    "collapsed": false,
    "pycharm": {
     "name": "#%%\n"
    }
   }
  },
  {
   "cell_type": "code",
   "execution_count": 51,
   "outputs": [],
   "source": [
    "# finally load annotation data\n",
    "annot_data = {}\n",
    "for group in user_groups:\n",
    "    folder_path = os.path.join(dataset_folder, group, 'annotFiles')\n",
    "\n",
    "    annot_data[group] = {}\n",
    "    for file_name in os.listdir(folder_path):\n",
    "        file_path = os.path.join(folder_path, file_name)\n",
    "\n",
    "        with open(file_path, 'r') as file:\n",
    "            line = file.readline() # read columns\n",
    "            cols = line.split() # strip whitespaces\n",
    "            rows = [] # rows\n",
    "\n",
    "            line = file.readline()\n",
    "            while line:\n",
    "                line = line.split()\n",
    "                rows.append(line)\n",
    "                file = file.readline()\n",
    "\n",
    "            annot_data[group][file_name] = pd.DataFrame(rows, columns=cols)"
   ],
   "metadata": {
    "collapsed": false,
    "pycharm": {
     "name": "#%%\n"
    }
   }
  }
 ],
 "metadata": {
  "kernelspec": {
   "name": "pycharm-9c9070f4",
   "language": "python",
   "display_name": "PyCharm (use-of-snn)"
  },
  "language_info": {
   "codemirror_mode": {
    "name": "ipython",
    "version": 2
   },
   "file_extension": ".py",
   "mimetype": "text/x-python",
   "name": "python",
   "nbconvert_exporter": "python",
   "pygments_lexer": "ipython2",
   "version": "3.8.5-final"
  }
 },
 "nbformat": 4,
 "nbformat_minor": 0
}