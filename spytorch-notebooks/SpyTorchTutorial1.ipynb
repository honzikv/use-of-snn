{
 "cells": [
  {
   "cell_type": "markdown",
   "metadata": {},
   "source": [
    "# Tutorial 1: Training a spiking neural network with surrogate gradients\n",
    "\n",
    "Friedemann Zenke (https://fzenke.net)"
   ]
  },
  {
   "cell_type": "markdown",
   "metadata": {},
   "source": [
    "> For more details on surrogate gradient learning, please see: \n",
    "> Neftci, E.O., Mostafa, H., and Zenke, F. (2019). Surrogate Gradient Learning in Spiking Neural Networks.\n",
    "> https://arxiv.org/abs/1901.09948"
   ]
  },
  {
   "cell_type": "markdown",
   "metadata": {},
   "source": [
    "## Introduction \n",
    "\n",
    "The last months have seen a surge of interest in training spiking neural networks to do meaningful computations. On the one hand, this surge was fueled by the limited accomplishment of more traditional, and often considered more biologically plausible, learning paradigms in creating functional neural networks that solve interesting computational problems. This limitation was met by the undeniable success of deep neural networks in acing a diversity of challenging computational problems. A success that has raised both the bar and the question of how well this progress would translate to spiking neural networks.\n",
    "\n",
    "The rise of deep learning over the last decade is in large part due to GPUs and their increased computational power, growing training data sets, and --- perhaps most importantly --- advances in understanding the quirks and needs of the error back-propagation algorithm. For instance, we now know that we have to avoid vanishing and exploding gradients, a feat that can be accomplished by choice of a sensible nonlinearity, proper weight initialization, and a suitable optimizer. Powerful software packages supporting auto-differentiation have since made mangling with deep neural networks a breeze in comparison to what it used to be. This development begs the question of how much of this knowledge gain from deep learning and its tools we can leverage to train spiking neural networks. Although a complete answer to these questions cannot be given at the moment, it seems that we can learn a lot.\n",
    "\n",
    "In this tutorial, we use insights and tools from machine learning to build, step-by-step, a spiking neural network. Explicitly, we set out with the goal of building networks that solve (simple) real-world problems. To that end, we focus on classification problems and use supervised learning in conjunction with the aforementioned back-propagation algorithm. To do this, we have to overcome a vanishing gradient problem caused by the binary nature of the spikes themselves.\n",
    "\n",
    "In this tutorial, we will first show how a simple feed-forward spiking neural network of leaky integrate-and-fire (LIF) neurons with current-based synapses can be formally mapped to a discrete-time recurrent neural network (RNN). We will use this formulation to explain why gradients vanish at spikes and show one way of how the problem can be alleviated. Specifically, we will introduce surrogate gradients and provide practical examples of how they can be implemented in PyTorch."
   ]
  },
  {
   "cell_type": "markdown",
   "metadata": {},
   "source": [
    "## Mapping LIF neurons to RNN dynamics\n",
    "\n",
    "The de-facto standard neuron model for network simulations in computational neuroscience is the LIF neuron model which is often formally written as a time continuous dynamical system in differential form:\n",
    "$$\\tau_\\mathrm{mem} \\frac{\\mathrm{d}U_i^{(l)}}{\\mathrm{d}t} = -(U_i^{(l)}-U_\\mathrm{rest}) + RI_i^{(l)}$$\n",
    "where $U_i$ is the membrane potential of neuron $i$ in layer $l$, $U_\\mathrm{rest}$ is the resting potential, $\\tau_\\mathrm{mem}$ is the membrane time constant, $R$ is the input resistance, and $I_i$ is the input current. The membrane potential $U_i$ characterizes the hidden state of each neuron and, importantly, it is not directly communicated to downstream neurons. However, a neuron fires an action potential or spike at the time $t$ when its membrane voltage exceeds the firing threshold $\\vartheta$. After having fired a spike, a neurons membrane voltage is reset $U_i \\rightarrow U_\\mathrm{rest}$. We write\n",
    "$$S_i^{(l)}(t)=\\sum_{k \\in C_i^l} \\delta(t-t_j^k)$$ \n",
    "for the spike train (ie. the sum of all spikes $C_i^l$ emitted by neuron $i$ in layer $l$). Here $\\delta$ is the Dirac delta function and $t_i^k$ are the associated firing times of the neuron.\n",
    "\n",
    "Spikes travel down the axon and generate a postsynaptic currents in connected neurons. Using our above formalism we can thus write\n",
    "$$\\frac{\\mathrm{d}I_i}{\\mathrm{d}t}= -\\frac{I_i(t)}{\\tau_\\mathrm{syn}} + \\sum_j W_{ij} S_j^{(0)}(t) + \\sum_j V_{ij} S_j^{(1)}(t)$$\n",
    "where we have introduced the synaptic weight matrices $W_{ij}$ (feed-forward), $V_{ij}$ (recurrent), and the synaptic decay time constant $\\tau_\\mathrm{syn}$.\n",
    "\n",
    "To link to RNNs apparent, we will now express the above equations in discrete time. In the interest of brevity we switch to natural units $U_\\mathrm{rest}=0$, $R=1$, and $\\vartheta=1$. Our arguments remain unaffected by this choice, and all results can always be re-scaled back to physical units. To highlight the nonlinear character of a spike, we start by noting that we can set\n",
    "$$S_i^{(l)}(t)=\\Theta(U_i^{(l)}(t)-\\vartheta)$$\n",
    "where $\\Theta$ denotes the Heaviside step function.\n",
    "\n",
    "Assuming a small simulation time step of $\\Delta_t>0$ we can approximate the synaptic dynamics by\n",
    "$$I_i^{(l)}(t+1) = \\alpha I_i^{(l)}(t) + \\sum_j W_{ij} S_j^{(l-1)}(t) +\\sum_j V_{ij} S_j^{(l)}(t)$$\n",
    "with the constant $\\alpha=\\exp\\left(-\\frac{\\Delta_t}{\\tau_\\mathrm{syn}} \\right)$. Further, the membrane dynamics can be written as\n",
    "$$U_i^{(l)}(t+1) = \\underbrace{\\beta U_i^{(l)}(t)}_{\\mathrm{leak}} + \\underbrace{I_i^{(l)}(t)}_{\\mathrm{input}} -\\underbrace{S_i^{(l)}(t)}_{\\mathrm{reset}}$$\n",
    "with the output $S_i(t) = \\Theta(U_i(t)-1)$ and the constant $\\beta=\\exp\\left(-\\frac{\\Delta_t}{\\tau_\\mathrm{mem}}\\right)$. Note the distinct terms on the right-hand-side of the equation which are responsible individually for i) leak, ii) synaptic input, and iii) the spike reset.\n",
    "\n",
    "\n",
    "\n",
    "These equations can be summarized succinctly as the computational graph of an RNN with a specific connectivity structure. \n",
    "<img src=\"figures/snn_graph/snn_graph.png\" width=\"450\">\n",
    "Time flows from left to right. Inputs enter the network at each time step from the bottom of the graph ($S_i^{(0)}$). These inputs sequentially influence the synaptic currents $I_i^{(1)}$, membrane potentials the $U_i^{(1)}$, and finally the spiking output $S_i^{(1)}$.  Moreover, dynamic quantities have direct input on future time steps. We have suppressed the indices $i$ in the figure for clarity.\n",
    "\n",
    "The computational graph illustrates a concept which is known as unrolling in time, which emphasizes the duality between a deep neural network and a recurrent neural network, which is nothing more but a deep network in time (with tied weights). Due to this fact, we can train RNNs using the back-propagation of error through time (BPTT). We will discuss problems arising from the binary character of the spiking nonlinearity later. For now, let us start by implementing the above dynamics in a three-layer spiking neural network in PyTorch."
   ]
  },
  {
   "cell_type": "markdown",
   "metadata": {},
   "source": [
    "## Example network"
   ]
  },
  {
   "cell_type": "markdown",
   "metadata": {},
   "source": [
    "Let's start with a simple multilayer network model with a single hidden layer, as shown below. For simplicity, we will not use recurrent connections $V$ for now, keeping in mind that they can be added later should the need arise.\n",
    "\n",
    "<img src=\"figures/mlp_sketch/mlp_sketch.png\">\n",
    "\n",
    "For the sake of argument, we set the numbers for the input, hidden and output neurons as follows:"
   ]
  },
  {
   "cell_type": "code",
   "execution_count": 3,
   "metadata": {},
   "outputs": [],
   "source": [
    "nb_inputs  = 100\n",
    "nb_hidden  = 4\n",
    "nb_outputs = 2"
   ]
  },
  {
   "cell_type": "markdown",
   "metadata": {},
   "source": [
    "As we have seen above, we are technically simulating an RNN. Thus we have to simulate our neurons for a certain number of timesteps. We will use 1ms timesteps, and we want to simulate our network for say 200 timesteps. "
   ]
  },
  {
   "cell_type": "code",
   "execution_count": 4,
   "metadata": {},
   "outputs": [],
   "source": [
    "time_step = 1e-3\n",
    "nb_steps  = 1000 # 200"
   ]
  },
  {
   "cell_type": "markdown",
   "metadata": {},
   "source": [
    "To take advantage of parallelism, we will set up our code to work on batches of data like this is usually done for neural networks that are trained in a supervised manner.\n",
    "To that end, we specify a batch size here."
   ]
  },
  {
   "cell_type": "code",
   "execution_count": 5,
   "metadata": {},
   "outputs": [],
   "source": [
    "batch_size = 256"
   ]
  },
  {
   "cell_type": "markdown",
   "metadata": {},
   "source": [
    "With these basic design choices made, we can now start building the actual network. Here we will be using PyTorch, but you will be able to reproduce these results in most common machine learning libraries.\n",
    "\n",
    "We start by importing the libraries we need."
   ]
  },
  {
   "cell_type": "code",
   "execution_count": 6,
   "metadata": {},
   "outputs": [],
   "source": [
    "import os\n",
    "\n",
    "import numpy as np\n",
    "import matplotlib.pyplot as plt\n",
    "from matplotlib.gridspec import GridSpec\n",
    "import seaborn as sns\n",
    "\n",
    "import torch\n",
    "import torch.nn as nn"
   ]
  },
  {
   "cell_type": "code",
   "execution_count": 7,
   "metadata": {},
   "outputs": [],
   "source": [
    "dtype = torch.float\n",
    "device = torch.device('cpu')\n",
    "\n",
    "# Uncomment the line below to run on GPU\n",
    "device = torch.device('cuda:0')"
   ]
  },
  {
   "cell_type": "markdown",
   "metadata": {},
   "source": [
    "### A simple synthetic dataset \n",
    "\n",
    "We start by generating some random spiking data set, which we will use as input to our network. In the beginning, we will work with a single batch of data. It will be straight forward to expand later what we have learned to larger datasets.\n",
    "\n",
    "Suppose we want our network to classify a set of different sparse input spike trains into two categories. \n",
    "\n",
    "To generate some synthetic data, we fill a tensor of (batch_size x nb_steps x nb_inputs) with random uniform numbers between 0 and 1 and use this to generate our input dataset:"
   ]
  },
  {
   "cell_type": "code",
   "execution_count": 8,
   "metadata": {},
   "outputs": [],
   "source": [
    "# Generate random dataset with numbers between 0 and 1\n",
    "\n",
    "freq = 5 # Hz\n",
    "prob = freq*time_step\n",
    "mask = torch.rand((batch_size,nb_steps,nb_inputs), device=device, dtype=dtype)\n",
    "x_data = torch.zeros((batch_size,nb_steps,nb_inputs), device=device, dtype=dtype, requires_grad=False)\n",
    "x_data[mask<prob] = 1.0"
   ]
  },
  {
   "cell_type": "markdown",
   "metadata": {},
   "source": [
    "If the plot the spike raster of the first input pattern, this synthetic dataset looks as follows."
   ]
  },
  {
   "cell_type": "code",
   "execution_count": 9,
   "metadata": {},
   "outputs": [
    {
     "output_type": "display_data",
     "data": {
      "text/plain": "<Figure size 432x288 with 1 Axes>",
      "image/svg+xml": "<?xml version=\"1.0\" encoding=\"utf-8\" standalone=\"no\"?>\r\n<!DOCTYPE svg PUBLIC \"-//W3C//DTD SVG 1.1//EN\"\r\n  \"http://www.w3.org/Graphics/SVG/1.1/DTD/svg11.dtd\">\r\n<!-- Created with matplotlib (https://matplotlib.org/) -->\r\n<svg height=\"264.908269pt\" version=\"1.1\" viewBox=\"0 0 382.603125 264.908269\" width=\"382.603125pt\" xmlns=\"http://www.w3.org/2000/svg\" xmlns:xlink=\"http://www.w3.org/1999/xlink\">\r\n <metadata>\r\n  <rdf:RDF xmlns:cc=\"http://creativecommons.org/ns#\" xmlns:dc=\"http://purl.org/dc/elements/1.1/\" xmlns:rdf=\"http://www.w3.org/1999/02/22-rdf-syntax-ns#\">\r\n   <cc:Work>\r\n    <dc:type rdf:resource=\"http://purl.org/dc/dcmitype/StillImage\"/>\r\n    <dc:date>2020-12-01T13:27:34.918120</dc:date>\r\n    <dc:format>image/svg+xml</dc:format>\r\n    <dc:creator>\r\n     <cc:Agent>\r\n      <dc:title>Matplotlib v3.3.2, https://matplotlib.org/</dc:title>\r\n     </cc:Agent>\r\n    </dc:creator>\r\n   </cc:Work>\r\n  </rdf:RDF>\r\n </metadata>\r\n <defs>\r\n  <style type=\"text/css\">*{stroke-linecap:butt;stroke-linejoin:round;}</style>\r\n </defs>\r\n <g id=\"figure_1\">\r\n  <g id=\"patch_1\">\r\n   <path d=\"M 0 264.908269 \r\nL 382.603125 264.908269 \r\nL 382.603125 0 \r\nL 0 0 \r\nz\r\n\" style=\"fill:none;\"/>\r\n  </g>\r\n  <g id=\"axes_1\">\r\n   <g id=\"patch_2\">\r\n    <path d=\"M 40.603125 227.352019 \r\nL 375.403125 227.352019 \r\nL 375.403125 9.912019 \r\nL 40.603125 9.912019 \r\nz\r\n\" style=\"fill:#ffffff;\"/>\r\n   </g>\r\n   <g clip-path=\"url(#p43e93bd1a9)\">\r\n    <image height=\"218\" id=\"image7659e65049\" transform=\"scale(1 -1)translate(0 -218)\" width=\"335\" x=\"40.603125\" xlink:href=\"data:image/png;base64,\r\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\" y=\"-9.352019\"/>\r\n   </g>\r\n   <g id=\"matplotlib.axis_1\">\r\n    <g id=\"xtick_1\">\r\n     <g id=\"line2d_1\">\r\n      <defs>\r\n       <path d=\"M 0 0 \r\nL 0 3.5 \r\n\" id=\"m61ff536fea\" style=\"stroke:#000000;stroke-width:0.8;\"/>\r\n      </defs>\r\n      <g>\r\n       <use style=\"stroke:#000000;stroke-width:0.8;\" x=\"40.770525\" xlink:href=\"#m61ff536fea\" y=\"227.352019\"/>\r\n      </g>\r\n     </g>\r\n     <g id=\"text_1\">\r\n      <!-- 0 -->\r\n      <g transform=\"translate(37.589275 241.950456)scale(0.1 -0.1)\">\r\n       <defs>\r\n        <path d=\"M 31.78125 66.40625 \r\nQ 24.171875 66.40625 20.328125 58.90625 \r\nQ 16.5 51.421875 16.5 36.375 \r\nQ 16.5 21.390625 20.328125 13.890625 \r\nQ 24.171875 6.390625 31.78125 6.390625 \r\nQ 39.453125 6.390625 43.28125 13.890625 \r\nQ 47.125 21.390625 47.125 36.375 \r\nQ 47.125 51.421875 43.28125 58.90625 \r\nQ 39.453125 66.40625 31.78125 66.40625 \r\nz\r\nM 31.78125 74.21875 \r\nQ 44.046875 74.21875 50.515625 64.515625 \r\nQ 56.984375 54.828125 56.984375 36.375 \r\nQ 56.984375 17.96875 50.515625 8.265625 \r\nQ 44.046875 -1.421875 31.78125 -1.421875 \r\nQ 19.53125 -1.421875 13.0625 8.265625 \r\nQ 6.59375 17.96875 6.59375 36.375 \r\nQ 6.59375 54.828125 13.0625 64.515625 \r\nQ 19.53125 74.21875 31.78125 74.21875 \r\nz\r\n\" id=\"DejaVuSans-48\"/>\r\n       </defs>\r\n       <use xlink:href=\"#DejaVuSans-48\"/>\r\n      </g>\r\n     </g>\r\n    </g>\r\n    <g id=\"xtick_2\">\r\n     <g id=\"line2d_2\">\r\n      <g>\r\n       <use style=\"stroke:#000000;stroke-width:0.8;\" x=\"107.730525\" xlink:href=\"#m61ff536fea\" y=\"227.352019\"/>\r\n      </g>\r\n     </g>\r\n     <g id=\"text_2\">\r\n      <!-- 200 -->\r\n      <g transform=\"translate(98.186775 241.950456)scale(0.1 -0.1)\">\r\n       <defs>\r\n        <path d=\"M 19.1875 8.296875 \r\nL 53.609375 8.296875 \r\nL 53.609375 0 \r\nL 7.328125 0 \r\nL 7.328125 8.296875 \r\nQ 12.9375 14.109375 22.625 23.890625 \r\nQ 32.328125 33.6875 34.8125 36.53125 \r\nQ 39.546875 41.84375 41.421875 45.53125 \r\nQ 43.3125 49.21875 43.3125 52.78125 \r\nQ 43.3125 58.59375 39.234375 62.25 \r\nQ 35.15625 65.921875 28.609375 65.921875 \r\nQ 23.96875 65.921875 18.8125 64.3125 \r\nQ 13.671875 62.703125 7.8125 59.421875 \r\nL 7.8125 69.390625 \r\nQ 13.765625 71.78125 18.9375 73 \r\nQ 24.125 74.21875 28.421875 74.21875 \r\nQ 39.75 74.21875 46.484375 68.546875 \r\nQ 53.21875 62.890625 53.21875 53.421875 \r\nQ 53.21875 48.921875 51.53125 44.890625 \r\nQ 49.859375 40.875 45.40625 35.40625 \r\nQ 44.1875 33.984375 37.640625 27.21875 \r\nQ 31.109375 20.453125 19.1875 8.296875 \r\nz\r\n\" id=\"DejaVuSans-50\"/>\r\n       </defs>\r\n       <use xlink:href=\"#DejaVuSans-50\"/>\r\n       <use x=\"63.623047\" xlink:href=\"#DejaVuSans-48\"/>\r\n       <use x=\"127.246094\" xlink:href=\"#DejaVuSans-48\"/>\r\n      </g>\r\n     </g>\r\n    </g>\r\n    <g id=\"xtick_3\">\r\n     <g id=\"line2d_3\">\r\n      <g>\r\n       <use style=\"stroke:#000000;stroke-width:0.8;\" x=\"174.690525\" xlink:href=\"#m61ff536fea\" y=\"227.352019\"/>\r\n      </g>\r\n     </g>\r\n     <g id=\"text_3\">\r\n      <!-- 400 -->\r\n      <g transform=\"translate(165.146775 241.950456)scale(0.1 -0.1)\">\r\n       <defs>\r\n        <path d=\"M 37.796875 64.3125 \r\nL 12.890625 25.390625 \r\nL 37.796875 25.390625 \r\nz\r\nM 35.203125 72.90625 \r\nL 47.609375 72.90625 \r\nL 47.609375 25.390625 \r\nL 58.015625 25.390625 \r\nL 58.015625 17.1875 \r\nL 47.609375 17.1875 \r\nL 47.609375 0 \r\nL 37.796875 0 \r\nL 37.796875 17.1875 \r\nL 4.890625 17.1875 \r\nL 4.890625 26.703125 \r\nz\r\n\" id=\"DejaVuSans-52\"/>\r\n       </defs>\r\n       <use xlink:href=\"#DejaVuSans-52\"/>\r\n       <use x=\"63.623047\" xlink:href=\"#DejaVuSans-48\"/>\r\n       <use x=\"127.246094\" xlink:href=\"#DejaVuSans-48\"/>\r\n      </g>\r\n     </g>\r\n    </g>\r\n    <g id=\"xtick_4\">\r\n     <g id=\"line2d_4\">\r\n      <g>\r\n       <use style=\"stroke:#000000;stroke-width:0.8;\" x=\"241.650525\" xlink:href=\"#m61ff536fea\" y=\"227.352019\"/>\r\n      </g>\r\n     </g>\r\n     <g id=\"text_4\">\r\n      <!-- 600 -->\r\n      <g transform=\"translate(232.106775 241.950456)scale(0.1 -0.1)\">\r\n       <defs>\r\n        <path d=\"M 33.015625 40.375 \r\nQ 26.375 40.375 22.484375 35.828125 \r\nQ 18.609375 31.296875 18.609375 23.390625 \r\nQ 18.609375 15.53125 22.484375 10.953125 \r\nQ 26.375 6.390625 33.015625 6.390625 \r\nQ 39.65625 6.390625 43.53125 10.953125 \r\nQ 47.40625 15.53125 47.40625 23.390625 \r\nQ 47.40625 31.296875 43.53125 35.828125 \r\nQ 39.65625 40.375 33.015625 40.375 \r\nz\r\nM 52.59375 71.296875 \r\nL 52.59375 62.3125 \r\nQ 48.875 64.0625 45.09375 64.984375 \r\nQ 41.3125 65.921875 37.59375 65.921875 \r\nQ 27.828125 65.921875 22.671875 59.328125 \r\nQ 17.53125 52.734375 16.796875 39.40625 \r\nQ 19.671875 43.65625 24.015625 45.921875 \r\nQ 28.375 48.1875 33.59375 48.1875 \r\nQ 44.578125 48.1875 50.953125 41.515625 \r\nQ 57.328125 34.859375 57.328125 23.390625 \r\nQ 57.328125 12.15625 50.6875 5.359375 \r\nQ 44.046875 -1.421875 33.015625 -1.421875 \r\nQ 20.359375 -1.421875 13.671875 8.265625 \r\nQ 6.984375 17.96875 6.984375 36.375 \r\nQ 6.984375 53.65625 15.1875 63.9375 \r\nQ 23.390625 74.21875 37.203125 74.21875 \r\nQ 40.921875 74.21875 44.703125 73.484375 \r\nQ 48.484375 72.75 52.59375 71.296875 \r\nz\r\n\" id=\"DejaVuSans-54\"/>\r\n       </defs>\r\n       <use xlink:href=\"#DejaVuSans-54\"/>\r\n       <use x=\"63.623047\" xlink:href=\"#DejaVuSans-48\"/>\r\n       <use x=\"127.246094\" xlink:href=\"#DejaVuSans-48\"/>\r\n      </g>\r\n     </g>\r\n    </g>\r\n    <g id=\"xtick_5\">\r\n     <g id=\"line2d_5\">\r\n      <g>\r\n       <use style=\"stroke:#000000;stroke-width:0.8;\" x=\"308.610525\" xlink:href=\"#m61ff536fea\" y=\"227.352019\"/>\r\n      </g>\r\n     </g>\r\n     <g id=\"text_5\">\r\n      <!-- 800 -->\r\n      <g transform=\"translate(299.066775 241.950456)scale(0.1 -0.1)\">\r\n       <defs>\r\n        <path d=\"M 31.78125 34.625 \r\nQ 24.75 34.625 20.71875 30.859375 \r\nQ 16.703125 27.09375 16.703125 20.515625 \r\nQ 16.703125 13.921875 20.71875 10.15625 \r\nQ 24.75 6.390625 31.78125 6.390625 \r\nQ 38.8125 6.390625 42.859375 10.171875 \r\nQ 46.921875 13.96875 46.921875 20.515625 \r\nQ 46.921875 27.09375 42.890625 30.859375 \r\nQ 38.875 34.625 31.78125 34.625 \r\nz\r\nM 21.921875 38.8125 \r\nQ 15.578125 40.375 12.03125 44.71875 \r\nQ 8.5 49.078125 8.5 55.328125 \r\nQ 8.5 64.0625 14.71875 69.140625 \r\nQ 20.953125 74.21875 31.78125 74.21875 \r\nQ 42.671875 74.21875 48.875 69.140625 \r\nQ 55.078125 64.0625 55.078125 55.328125 \r\nQ 55.078125 49.078125 51.53125 44.71875 \r\nQ 48 40.375 41.703125 38.8125 \r\nQ 48.828125 37.15625 52.796875 32.3125 \r\nQ 56.78125 27.484375 56.78125 20.515625 \r\nQ 56.78125 9.90625 50.3125 4.234375 \r\nQ 43.84375 -1.421875 31.78125 -1.421875 \r\nQ 19.734375 -1.421875 13.25 4.234375 \r\nQ 6.78125 9.90625 6.78125 20.515625 \r\nQ 6.78125 27.484375 10.78125 32.3125 \r\nQ 14.796875 37.15625 21.921875 38.8125 \r\nz\r\nM 18.3125 54.390625 \r\nQ 18.3125 48.734375 21.84375 45.5625 \r\nQ 25.390625 42.390625 31.78125 42.390625 \r\nQ 38.140625 42.390625 41.71875 45.5625 \r\nQ 45.3125 48.734375 45.3125 54.390625 \r\nQ 45.3125 60.0625 41.71875 63.234375 \r\nQ 38.140625 66.40625 31.78125 66.40625 \r\nQ 25.390625 66.40625 21.84375 63.234375 \r\nQ 18.3125 60.0625 18.3125 54.390625 \r\nz\r\n\" id=\"DejaVuSans-56\"/>\r\n       </defs>\r\n       <use xlink:href=\"#DejaVuSans-56\"/>\r\n       <use x=\"63.623047\" xlink:href=\"#DejaVuSans-48\"/>\r\n       <use x=\"127.246094\" xlink:href=\"#DejaVuSans-48\"/>\r\n      </g>\r\n     </g>\r\n    </g>\r\n    <g id=\"text_6\">\r\n     <!-- Time (ms) -->\r\n     <g transform=\"translate(182.803906 255.628581)scale(0.1 -0.1)\">\r\n      <defs>\r\n       <path d=\"M -0.296875 72.90625 \r\nL 61.375 72.90625 \r\nL 61.375 64.59375 \r\nL 35.5 64.59375 \r\nL 35.5 0 \r\nL 25.59375 0 \r\nL 25.59375 64.59375 \r\nL -0.296875 64.59375 \r\nz\r\n\" id=\"DejaVuSans-84\"/>\r\n       <path d=\"M 9.421875 54.6875 \r\nL 18.40625 54.6875 \r\nL 18.40625 0 \r\nL 9.421875 0 \r\nz\r\nM 9.421875 75.984375 \r\nL 18.40625 75.984375 \r\nL 18.40625 64.59375 \r\nL 9.421875 64.59375 \r\nz\r\n\" id=\"DejaVuSans-105\"/>\r\n       <path d=\"M 52 44.1875 \r\nQ 55.375 50.25 60.0625 53.125 \r\nQ 64.75 56 71.09375 56 \r\nQ 79.640625 56 84.28125 50.015625 \r\nQ 88.921875 44.046875 88.921875 33.015625 \r\nL 88.921875 0 \r\nL 79.890625 0 \r\nL 79.890625 32.71875 \r\nQ 79.890625 40.578125 77.09375 44.375 \r\nQ 74.3125 48.1875 68.609375 48.1875 \r\nQ 61.625 48.1875 57.5625 43.546875 \r\nQ 53.515625 38.921875 53.515625 30.90625 \r\nL 53.515625 0 \r\nL 44.484375 0 \r\nL 44.484375 32.71875 \r\nQ 44.484375 40.625 41.703125 44.40625 \r\nQ 38.921875 48.1875 33.109375 48.1875 \r\nQ 26.21875 48.1875 22.15625 43.53125 \r\nQ 18.109375 38.875 18.109375 30.90625 \r\nL 18.109375 0 \r\nL 9.078125 0 \r\nL 9.078125 54.6875 \r\nL 18.109375 54.6875 \r\nL 18.109375 46.1875 \r\nQ 21.1875 51.21875 25.484375 53.609375 \r\nQ 29.78125 56 35.6875 56 \r\nQ 41.65625 56 45.828125 52.96875 \r\nQ 50 49.953125 52 44.1875 \r\nz\r\n\" id=\"DejaVuSans-109\"/>\r\n       <path d=\"M 56.203125 29.59375 \r\nL 56.203125 25.203125 \r\nL 14.890625 25.203125 \r\nQ 15.484375 15.921875 20.484375 11.0625 \r\nQ 25.484375 6.203125 34.421875 6.203125 \r\nQ 39.59375 6.203125 44.453125 7.46875 \r\nQ 49.3125 8.734375 54.109375 11.28125 \r\nL 54.109375 2.78125 \r\nQ 49.265625 0.734375 44.1875 -0.34375 \r\nQ 39.109375 -1.421875 33.890625 -1.421875 \r\nQ 20.796875 -1.421875 13.15625 6.1875 \r\nQ 5.515625 13.8125 5.515625 26.8125 \r\nQ 5.515625 40.234375 12.765625 48.109375 \r\nQ 20.015625 56 32.328125 56 \r\nQ 43.359375 56 49.78125 48.890625 \r\nQ 56.203125 41.796875 56.203125 29.59375 \r\nz\r\nM 47.21875 32.234375 \r\nQ 47.125 39.59375 43.09375 43.984375 \r\nQ 39.0625 48.390625 32.421875 48.390625 \r\nQ 24.90625 48.390625 20.390625 44.140625 \r\nQ 15.875 39.890625 15.1875 32.171875 \r\nz\r\n\" id=\"DejaVuSans-101\"/>\r\n       <path id=\"DejaVuSans-32\"/>\r\n       <path d=\"M 31 75.875 \r\nQ 24.46875 64.65625 21.28125 53.65625 \r\nQ 18.109375 42.671875 18.109375 31.390625 \r\nQ 18.109375 20.125 21.3125 9.0625 \r\nQ 24.515625 -2 31 -13.1875 \r\nL 23.1875 -13.1875 \r\nQ 15.875 -1.703125 12.234375 9.375 \r\nQ 8.59375 20.453125 8.59375 31.390625 \r\nQ 8.59375 42.28125 12.203125 53.3125 \r\nQ 15.828125 64.359375 23.1875 75.875 \r\nz\r\n\" id=\"DejaVuSans-40\"/>\r\n       <path d=\"M 44.28125 53.078125 \r\nL 44.28125 44.578125 \r\nQ 40.484375 46.53125 36.375 47.5 \r\nQ 32.28125 48.484375 27.875 48.484375 \r\nQ 21.1875 48.484375 17.84375 46.4375 \r\nQ 14.5 44.390625 14.5 40.28125 \r\nQ 14.5 37.15625 16.890625 35.375 \r\nQ 19.28125 33.59375 26.515625 31.984375 \r\nL 29.59375 31.296875 \r\nQ 39.15625 29.25 43.1875 25.515625 \r\nQ 47.21875 21.78125 47.21875 15.09375 \r\nQ 47.21875 7.46875 41.1875 3.015625 \r\nQ 35.15625 -1.421875 24.609375 -1.421875 \r\nQ 20.21875 -1.421875 15.453125 -0.5625 \r\nQ 10.6875 0.296875 5.421875 2 \r\nL 5.421875 11.28125 \r\nQ 10.40625 8.6875 15.234375 7.390625 \r\nQ 20.0625 6.109375 24.8125 6.109375 \r\nQ 31.15625 6.109375 34.5625 8.28125 \r\nQ 37.984375 10.453125 37.984375 14.40625 \r\nQ 37.984375 18.0625 35.515625 20.015625 \r\nQ 33.0625 21.96875 24.703125 23.78125 \r\nL 21.578125 24.515625 \r\nQ 13.234375 26.265625 9.515625 29.90625 \r\nQ 5.8125 33.546875 5.8125 39.890625 \r\nQ 5.8125 47.609375 11.28125 51.796875 \r\nQ 16.75 56 26.8125 56 \r\nQ 31.78125 56 36.171875 55.265625 \r\nQ 40.578125 54.546875 44.28125 53.078125 \r\nz\r\n\" id=\"DejaVuSans-115\"/>\r\n       <path d=\"M 8.015625 75.875 \r\nL 15.828125 75.875 \r\nQ 23.140625 64.359375 26.78125 53.3125 \r\nQ 30.421875 42.28125 30.421875 31.390625 \r\nQ 30.421875 20.453125 26.78125 9.375 \r\nQ 23.140625 -1.703125 15.828125 -13.1875 \r\nL 8.015625 -13.1875 \r\nQ 14.5 -2 17.703125 9.0625 \r\nQ 20.90625 20.125 20.90625 31.390625 \r\nQ 20.90625 42.671875 17.703125 53.65625 \r\nQ 14.5 64.65625 8.015625 75.875 \r\nz\r\n\" id=\"DejaVuSans-41\"/>\r\n      </defs>\r\n      <use xlink:href=\"#DejaVuSans-84\"/>\r\n      <use x=\"57.958984\" xlink:href=\"#DejaVuSans-105\"/>\r\n      <use x=\"85.742188\" xlink:href=\"#DejaVuSans-109\"/>\r\n      <use x=\"183.154297\" xlink:href=\"#DejaVuSans-101\"/>\r\n      <use x=\"244.677734\" xlink:href=\"#DejaVuSans-32\"/>\r\n      <use x=\"276.464844\" xlink:href=\"#DejaVuSans-40\"/>\r\n      <use x=\"315.478516\" xlink:href=\"#DejaVuSans-109\"/>\r\n      <use x=\"412.890625\" xlink:href=\"#DejaVuSans-115\"/>\r\n      <use x=\"464.990234\" xlink:href=\"#DejaVuSans-41\"/>\r\n     </g>\r\n    </g>\r\n   </g>\r\n   <g id=\"matplotlib.axis_2\">\r\n    <g id=\"ytick_1\">\r\n     <g id=\"line2d_6\">\r\n      <defs>\r\n       <path d=\"M 0 0 \r\nL -3.5 0 \r\n\" id=\"m71c3dd5b79\" style=\"stroke:#000000;stroke-width:0.8;\"/>\r\n      </defs>\r\n      <g>\r\n       <use style=\"stroke:#000000;stroke-width:0.8;\" x=\"40.603125\" xlink:href=\"#m71c3dd5b79\" y=\"10.999219\"/>\r\n      </g>\r\n     </g>\r\n     <g id=\"text_7\">\r\n      <!-- 0 -->\r\n      <g transform=\"translate(27.240625 14.798437)scale(0.1 -0.1)\">\r\n       <use xlink:href=\"#DejaVuSans-48\"/>\r\n      </g>\r\n     </g>\r\n    </g>\r\n    <g id=\"ytick_2\">\r\n     <g id=\"line2d_7\">\r\n      <g>\r\n       <use style=\"stroke:#000000;stroke-width:0.8;\" x=\"40.603125\" xlink:href=\"#m71c3dd5b79\" y=\"54.487219\"/>\r\n      </g>\r\n     </g>\r\n     <g id=\"text_8\">\r\n      <!-- 20 -->\r\n      <g transform=\"translate(20.878125 58.286437)scale(0.1 -0.1)\">\r\n       <use xlink:href=\"#DejaVuSans-50\"/>\r\n       <use x=\"63.623047\" xlink:href=\"#DejaVuSans-48\"/>\r\n      </g>\r\n     </g>\r\n    </g>\r\n    <g id=\"ytick_3\">\r\n     <g id=\"line2d_8\">\r\n      <g>\r\n       <use style=\"stroke:#000000;stroke-width:0.8;\" x=\"40.603125\" xlink:href=\"#m71c3dd5b79\" y=\"97.975219\"/>\r\n      </g>\r\n     </g>\r\n     <g id=\"text_9\">\r\n      <!-- 40 -->\r\n      <g transform=\"translate(20.878125 101.774437)scale(0.1 -0.1)\">\r\n       <use xlink:href=\"#DejaVuSans-52\"/>\r\n       <use x=\"63.623047\" xlink:href=\"#DejaVuSans-48\"/>\r\n      </g>\r\n     </g>\r\n    </g>\r\n    <g id=\"ytick_4\">\r\n     <g id=\"line2d_9\">\r\n      <g>\r\n       <use style=\"stroke:#000000;stroke-width:0.8;\" x=\"40.603125\" xlink:href=\"#m71c3dd5b79\" y=\"141.463219\"/>\r\n      </g>\r\n     </g>\r\n     <g id=\"text_10\">\r\n      <!-- 60 -->\r\n      <g transform=\"translate(20.878125 145.262437)scale(0.1 -0.1)\">\r\n       <use xlink:href=\"#DejaVuSans-54\"/>\r\n       <use x=\"63.623047\" xlink:href=\"#DejaVuSans-48\"/>\r\n      </g>\r\n     </g>\r\n    </g>\r\n    <g id=\"ytick_5\">\r\n     <g id=\"line2d_10\">\r\n      <g>\r\n       <use style=\"stroke:#000000;stroke-width:0.8;\" x=\"40.603125\" xlink:href=\"#m71c3dd5b79\" y=\"184.951219\"/>\r\n      </g>\r\n     </g>\r\n     <g id=\"text_11\">\r\n      <!-- 80 -->\r\n      <g transform=\"translate(20.878125 188.750437)scale(0.1 -0.1)\">\r\n       <use xlink:href=\"#DejaVuSans-56\"/>\r\n       <use x=\"63.623047\" xlink:href=\"#DejaVuSans-48\"/>\r\n      </g>\r\n     </g>\r\n    </g>\r\n    <g id=\"text_12\">\r\n     <!-- Unit -->\r\n     <g transform=\"translate(14.798438 128.809362)rotate(-90)scale(0.1 -0.1)\">\r\n      <defs>\r\n       <path d=\"M 8.6875 72.90625 \r\nL 18.609375 72.90625 \r\nL 18.609375 28.609375 \r\nQ 18.609375 16.890625 22.84375 11.734375 \r\nQ 27.09375 6.59375 36.625 6.59375 \r\nQ 46.09375 6.59375 50.34375 11.734375 \r\nQ 54.59375 16.890625 54.59375 28.609375 \r\nL 54.59375 72.90625 \r\nL 64.5 72.90625 \r\nL 64.5 27.390625 \r\nQ 64.5 13.140625 57.4375 5.859375 \r\nQ 50.390625 -1.421875 36.625 -1.421875 \r\nQ 22.796875 -1.421875 15.734375 5.859375 \r\nQ 8.6875 13.140625 8.6875 27.390625 \r\nz\r\n\" id=\"DejaVuSans-85\"/>\r\n       <path d=\"M 54.890625 33.015625 \r\nL 54.890625 0 \r\nL 45.90625 0 \r\nL 45.90625 32.71875 \r\nQ 45.90625 40.484375 42.875 44.328125 \r\nQ 39.84375 48.1875 33.796875 48.1875 \r\nQ 26.515625 48.1875 22.3125 43.546875 \r\nQ 18.109375 38.921875 18.109375 30.90625 \r\nL 18.109375 0 \r\nL 9.078125 0 \r\nL 9.078125 54.6875 \r\nL 18.109375 54.6875 \r\nL 18.109375 46.1875 \r\nQ 21.34375 51.125 25.703125 53.5625 \r\nQ 30.078125 56 35.796875 56 \r\nQ 45.21875 56 50.046875 50.171875 \r\nQ 54.890625 44.34375 54.890625 33.015625 \r\nz\r\n\" id=\"DejaVuSans-110\"/>\r\n       <path d=\"M 18.3125 70.21875 \r\nL 18.3125 54.6875 \r\nL 36.8125 54.6875 \r\nL 36.8125 47.703125 \r\nL 18.3125 47.703125 \r\nL 18.3125 18.015625 \r\nQ 18.3125 11.328125 20.140625 9.421875 \r\nQ 21.96875 7.515625 27.59375 7.515625 \r\nL 36.8125 7.515625 \r\nL 36.8125 0 \r\nL 27.59375 0 \r\nQ 17.1875 0 13.234375 3.875 \r\nQ 9.28125 7.765625 9.28125 18.015625 \r\nL 9.28125 47.703125 \r\nL 2.6875 47.703125 \r\nL 2.6875 54.6875 \r\nL 9.28125 54.6875 \r\nL 9.28125 70.21875 \r\nz\r\n\" id=\"DejaVuSans-116\"/>\r\n      </defs>\r\n      <use xlink:href=\"#DejaVuSans-85\"/>\r\n      <use x=\"73.193359\" xlink:href=\"#DejaVuSans-110\"/>\r\n      <use x=\"136.572266\" xlink:href=\"#DejaVuSans-105\"/>\r\n      <use x=\"164.355469\" xlink:href=\"#DejaVuSans-116\"/>\r\n     </g>\r\n    </g>\r\n   </g>\r\n   <g id=\"patch_3\">\r\n    <path d=\"M 40.603125 227.352019 \r\nL 40.603125 9.912019 \r\n\" style=\"fill:none;stroke:#000000;stroke-linecap:square;stroke-linejoin:miter;stroke-width:0.8;\"/>\r\n   </g>\r\n   <g id=\"patch_4\">\r\n    <path d=\"M 40.603125 227.352019 \r\nL 375.403125 227.352019 \r\n\" style=\"fill:none;stroke:#000000;stroke-linecap:square;stroke-linejoin:miter;stroke-width:0.8;\"/>\r\n   </g>\r\n  </g>\r\n </g>\r\n <defs>\r\n  <clipPath id=\"p43e93bd1a9\">\r\n   <rect height=\"217.44\" width=\"334.8\" x=\"40.603125\" y=\"9.912019\"/>\r\n  </clipPath>\r\n </defs>\r\n</svg>\r\n",
      "image/png": "[encoded data removed]"
     },
     "metadata": {
      "needs_background": "light"
     }
    }
   ],
   "source": [
    "data_id = 0\n",
    "plt.imshow(x_data[data_id].cpu().t(), cmap=plt.cm.gray_r, aspect=\"auto\")\n",
    "plt.xlabel(\"Time (ms)\")\n",
    "plt.ylabel(\"Unit\")\n",
    "sns.despine()"
   ]
  },
  {
   "cell_type": "markdown",
   "metadata": {},
   "source": [
    "Next, we assign a random label of 0 or 1 to each of our input patterns. Our network's task will be to differentiate these patterns."
   ]
  },
  {
   "cell_type": "code",
   "execution_count": 10,
   "metadata": {},
   "outputs": [],
   "source": [
    "y_data = torch.tensor(1*(np.random.rand(batch_size)<0.5), device=device, dtype=dtype)"
   ]
  },
  {
   "cell_type": "markdown",
   "metadata": {},
   "source": [
    "Note that there is no structure in the data (because it is entirely random). Thus we won't worry about generalization now and only care about our ability to overfit these data with the spiking neural network we are going to build in a jiffy."
   ]
  },
  {
   "cell_type": "markdown",
   "metadata": {},
   "source": [
    "### Setup of the spiking network model"
   ]
  },
  {
   "cell_type": "markdown",
   "metadata": {},
   "source": [
    "Now is the time to implement our LIF neuron model in discrete time.\n",
    "We will first do this step by step before we wrap all the steps into a function later on.\n",
    "But first, we fix several model constants such as the membrane and the synaptic time constant.\n",
    "Moreover, we define some essential variables, including our $\\alpha$ and $\\beta$ as described above.\n",
    "We do this now because we will use some of these variables to scale our weights to meaningful ranges."
   ]
  },
  {
   "cell_type": "code",
   "execution_count": 11,
   "metadata": {},
   "outputs": [
    {
     "output_type": "stream",
     "name": "stdout",
     "text": [
      "0.8187307530779818\n0.9048374180359595\n"
     ]
    }
   ],
   "source": [
    "tau_mem = 10e-3\n",
    "tau_syn = 5e-3\n",
    "\n",
    "alpha   = float(np.exp(-time_step/tau_syn)) # e ** - 1e-3/5e-3\n",
    "beta    = float(np.exp(-time_step/tau_mem)) # e ** - 1e-3/10e-3\n",
    "\n",
    "print(alpha)\n",
    "print(beta)"
   ]
  },
  {
   "cell_type": "markdown",
   "metadata": {},
   "source": [
    "Now we set up our weight matrices, which connect the input and the hidden layer,\n",
    "as well as the matrix connecting the hidden layer with the output layer.\n",
    "Moreover, we initialize these weights randomly from a normal distribution.\n",
    "Note that we scale the variance with the inverse square root of the number of input connections.\n",
    "Moreover, for the sake of simplicity, we ignore Dale's law in this tutorial.\n",
    "Thus weights can be either excitatory or inhibitory. This choice is prevalent in artificial neural networks."
   ]
  },
  {
   "cell_type": "code",
   "execution_count": 12,
   "metadata": {},
   "outputs": [
    {
     "output_type": "stream",
     "name": "stdout",
     "text": [
      "init done\n"
     ]
    }
   ],
   "source": [
    "weight_scale = 7*(1.0-beta) # this should give us some spikes to begin with\n",
    "\n",
    "w1 = torch.empty((nb_inputs, nb_hidden),  device=device, dtype=dtype, requires_grad=True )\n",
    "torch.nn.init.normal_(w1, mean=0.0, std=weight_scale/np.sqrt(nb_inputs))\n",
    "\n",
    "w2 = torch.empty((nb_hidden, nb_outputs), device=device, dtype=dtype, requires_grad=True)\n",
    "torch.nn.init.normal_(w2, mean=0.0, std=weight_scale/np.sqrt(nb_hidden))\n",
    "\n",
    "print(\"init done\")"
   ]
  },
  {
   "cell_type": "markdown",
   "metadata": {},
   "source": [
    "### A spiking neuron model in discrete time"
   ]
  },
  {
   "cell_type": "markdown",
   "metadata": {},
   "source": [
    "The first thing we need to do to implement our spiking neuron is to multiply all input spikes with the weight matrix.\n",
    "We have to do this for each time step in each input example in the batch.\n",
    "Because we have stored our input spikes in a rank three tensor we can express this operation in a single line:"
   ]
  },
  {
   "cell_type": "code",
   "execution_count": 13,
   "metadata": {},
   "outputs": [],
   "source": [
    "h1 = torch.einsum(\"abc,cd->abd\", (x_data, w1))\n"
   ]
  },
  {
   "cell_type": "markdown",
   "metadata": {},
   "source": [
    "These \"weighted\" input spikes will now feed into our synaptic variable and, ultimately, the membrane potential.\n",
    "To trigger a spike, we need to define moreover a threshold or spike function, which we do in the following.\n",
    "We will later have to alter this definition to train the network, but more about that later."
   ]
  },
  {
   "cell_type": "markdown",
   "metadata": {},
   "source": [
    "### The spiking nonlinearity (the naive way)\n",
    "\n",
    "In discrete-time, as explained earlier, we can formulate our spiking nonlinearity as a Heaviside step function.\n",
    "So let's begin with defining a Heaviside function. One way of implementing it is the following:"
   ]
  },
  {
   "cell_type": "code",
   "execution_count": 14,
   "metadata": {},
   "outputs": [],
   "source": [
    "def spike_fn(x):\n",
    "    out = torch.zeros_like(x)\n",
    "    out[x > 0] = 1.0\n",
    "    return out"
   ]
  },
  {
   "cell_type": "markdown",
   "metadata": {},
   "source": [
    "For each trial, we initialize the synaptic currents and membrane potentials at zero.\n",
    "Next, we need to implement a loop that simulates our neuron models over time. \n",
    "Moreover, we will record the membrane potentials and output spikes of all trials and all neurons."
   ]
  },
  {
   "cell_type": "code",
   "execution_count": 16,
   "metadata": {},
   "outputs": [
    {
     "output_type": "error",
     "ename": "NameError",
     "evalue": "name 'mem' is not defined",
     "traceback": [
      "\u001B[1;31m---------------------------------------------------------------------------\u001B[0m",
      "\u001B[1;31mNameError\u001B[0m                                 Traceback (most recent call last)",
      "\u001B[1;32m<ipython-input-16-d49490629d48>\u001B[0m in \u001B[0;36m<module>\u001B[1;34m\u001B[0m\n\u001B[0;32m     12\u001B[0m     \u001B[0mrst\u001B[0m \u001B[1;33m=\u001B[0m \u001B[0mtorch\u001B[0m\u001B[1;33m.\u001B[0m\u001B[0mzeros_like\u001B[0m\u001B[1;33m(\u001B[0m\u001B[0mmembrane\u001B[0m\u001B[1;33m)\u001B[0m\u001B[1;33m\u001B[0m\u001B[1;33m\u001B[0m\u001B[0m\n\u001B[0;32m     13\u001B[0m     \u001B[0mc\u001B[0m \u001B[1;33m=\u001B[0m \u001B[1;33m(\u001B[0m\u001B[0mmthr\u001B[0m \u001B[1;33m>\u001B[0m \u001B[1;36m0\u001B[0m\u001B[1;33m)\u001B[0m\u001B[1;33m\u001B[0m\u001B[1;33m\u001B[0m\u001B[0m\n\u001B[1;32m---> 14\u001B[1;33m     \u001B[0mrst\u001B[0m\u001B[1;33m[\u001B[0m\u001B[0mc\u001B[0m\u001B[1;33m]\u001B[0m \u001B[1;33m=\u001B[0m \u001B[0mtorch\u001B[0m\u001B[1;33m.\u001B[0m\u001B[0mones_like\u001B[0m\u001B[1;33m(\u001B[0m\u001B[0mmem\u001B[0m\u001B[1;33m)\u001B[0m\u001B[1;33m[\u001B[0m\u001B[0mc\u001B[0m\u001B[1;33m]\u001B[0m\u001B[1;33m\u001B[0m\u001B[1;33m\u001B[0m\u001B[0m\n\u001B[0m\u001B[0;32m     15\u001B[0m \u001B[1;33m\u001B[0m\u001B[0m\n\u001B[0;32m     16\u001B[0m     \u001B[0mnew_syn\u001B[0m \u001B[1;33m=\u001B[0m \u001B[0malpha\u001B[0m\u001B[1;33m*\u001B[0m\u001B[0msynapse\u001B[0m \u001B[1;33m+\u001B[0m\u001B[0mh1\u001B[0m\u001B[1;33m[\u001B[0m\u001B[1;33m:\u001B[0m\u001B[1;33m,\u001B[0m\u001B[0mt\u001B[0m\u001B[1;33m]\u001B[0m\u001B[1;33m\u001B[0m\u001B[1;33m\u001B[0m\u001B[0m\n",
      "\u001B[1;31mNameError\u001B[0m: name 'mem' is not defined"
     ]
    }
   ],
   "source": [
    "synapse = torch.zeros((batch_size,nb_hidden), device=device, dtype=dtype)\n",
    "membrane = torch.zeros((batch_size,nb_hidden), device=device, dtype=dtype)\n",
    "\n",
    "# Here we define two lists which we use to record the membrane potentials and output spikes\n",
    "mem_rec = [membrane]\n",
    "spk_rec = [membrane]\n",
    "\n",
    "# Here we loop over time\n",
    "for t in range(nb_steps):\n",
    "    mthr = membrane-1.0\n",
    "    out = spike_fn(mthr)\n",
    "    rst = torch.zeros_like(membrane)\n",
    "    c = (mthr > 0)\n",
    "    rst[c] = torch.ones_like(membrane)[c]\n",
    "    \n",
    "    new_syn = alpha*synapse +h1[:,t]\n",
    "    new_mem = beta*mem +synapse -rst\n",
    "    \n",
    "    membrane = new_mem\n",
    "    syn = new_syn\n",
    "    \n",
    "    mem_rec.append(mem)\n",
    "    spk_rec.append(out)\n",
    "\n",
    "# Now we merge the recorded membrane potentials into a single tensor\n",
    "mem_rec = torch.stack(mem_rec,dim=1)\n",
    "spk_rec = torch.stack(spk_rec,dim=1)"
   ]
  },
  {
   "cell_type": "markdown",
   "metadata": {},
   "source": [
    "And that's it. The above loop has now simulated our neurons for '''nb_steps''' and stored their membrane traces\n",
    "and output spikes. Let us take a look at those membrane potentials in which we directly \"paste\" the spikes for\n",
    "visual inspection. We will directly plot multiple trials at once and define a little helper function for this purpose."
   ]
  },
  {
   "cell_type": "code",
   "execution_count": 24,
   "metadata": {},
   "outputs": [],
   "source": [
    "def plot_voltage_traces(mem, spk=None, dim=(3,5), spike_height=5):\n",
    "    gs=GridSpec(*dim)\n",
    "    if spk is not None:\n",
    "        dat = (mem+spike_height*spk).detach().cpu().numpy()\n",
    "    else:\n",
    "        dat = mem.detach().cpu().numpy()\n",
    "    for i in range(np.prod(dim)):\n",
    "        if i==0: a0=ax=plt.subplot(gs[i])\n",
    "        else: ax=plt.subplot(gs[i],sharey=a0)\n",
    "        ax.plot(dat[i])\n",
    "        ax.axis(\"off\")"
   ]
  },
  {
   "cell_type": "code",
   "execution_count": 25,
   "metadata": {},
   "outputs": [
    {
     "data": {
      "text/plain": "<Figure size 600x400 with 15 Axes>",
      "image/png": "[encoded data removed]"
     },
     "metadata": {
      "needs_background": "light"
     },
     "output_type": "display_data"
    }
   ],
   "source": [
    "fig=plt.figure(dpi=100)\n",
    "plot_voltage_traces(mem_rec, spk_rec)"
   ]
  },
  {
   "cell_type": "markdown",
   "metadata": {},
   "source": [
    "As you can see, our random initialization gives us some sporadic spiking.\n",
    "Thus far, we have only an input layer and a spiking layer, which should become our hidden layer.\n",
    "Next, we will have to add a readout layer to our network."
   ]
  },
  {
   "cell_type": "markdown",
   "metadata": {},
   "source": [
    "## Adding a readout layer\n",
    "\n",
    "To use our network as a classifier, we need to have a readout layer on whose output we can define a cost function.\n",
    "There are several possibilities for doing this. For instance, we could count output layer spikes,\n",
    "or we could directly define an objective function on the membrane potential of the output neurons.\n",
    "Here we will follow the latter approach, but keep in mind that there are many other possibilities of defining\n",
    "an output layer and respective cost functions on them.\n",
    "\n",
    "In the following, we will build the output layer as a population of leaky integrator neurons.\n",
    "The reason for this choice is that leaky integration is the natural way of how neurons receive the spiking output\n",
    "of their brethren. Moreover, because we will need this code again, we combine our code from above plus the added\n",
    "readout layer into a single function."
   ]
  },
  {
   "cell_type": "code",
   "execution_count": 26,
   "metadata": {},
   "outputs": [],
   "source": [
    "def run_snn(inputs):\n",
    "    h1 = torch.einsum(\"abc,cd->abd\", (inputs, w1))\n",
    "    syn = torch.zeros((batch_size,nb_hidden), device=device, dtype=dtype)\n",
    "    mem = torch.zeros((batch_size,nb_hidden), device=device, dtype=dtype)\n",
    "\n",
    "    mem_rec = [mem]\n",
    "    spk_rec = [mem]\n",
    "\n",
    "    # Compute hidden layer activity\n",
    "    for t in range(nb_steps):\n",
    "        mthr = mem-1.0\n",
    "        out = spike_fn(mthr)\n",
    "        rst = torch.zeros_like(mem)\n",
    "        c   = (mthr > 0)\n",
    "        rst[c] = torch.ones_like(mem)[c]\n",
    "\n",
    "        new_syn = alpha*syn +h1[:,t]\n",
    "        new_mem = beta*mem +syn -rst\n",
    "\n",
    "        mem = new_mem\n",
    "        syn = new_syn\n",
    "\n",
    "        mem_rec.append(mem)\n",
    "        spk_rec.append(out)\n",
    "\n",
    "    mem_rec = torch.stack(mem_rec,dim=1)\n",
    "    spk_rec = torch.stack(spk_rec,dim=1)\n",
    "\n",
    "    # Readout layer\n",
    "    h2= torch.einsum(\"abc,cd->abd\", (spk_rec, w2))\n",
    "    flt = torch.zeros((batch_size,nb_outputs), device=device, dtype=dtype)\n",
    "    out = torch.zeros((batch_size,nb_outputs), device=device, dtype=dtype)\n",
    "    out_rec = [out]\n",
    "    for t in range(nb_steps):\n",
    "        new_flt = alpha*flt +h2[:,t]\n",
    "        new_out = beta*out +flt\n",
    "\n",
    "        flt = new_flt\n",
    "        out = new_out\n",
    "\n",
    "        out_rec.append(out)\n",
    "\n",
    "    out_rec = torch.stack(out_rec,dim=1)\n",
    "    other_recs = [mem_rec, spk_rec]\n",
    "    return out_rec, other_recs"
   ]
  },
  {
   "cell_type": "markdown",
   "metadata": {},
   "source": [
    "We can now run this code and plot the output layer \"membrane potentials\" below.\n",
    "As desired, these potentials do not have spikes riding on them."
   ]
  },
  {
   "cell_type": "code",
   "execution_count": 27,
   "metadata": {},
   "outputs": [],
   "source": [
    "out_rec,other_recs = run_snn(x_data)"
   ]
  },
  {
   "cell_type": "code",
   "execution_count": null,
   "metadata": {},
   "outputs": [],
   "source": [
    "fig=plt.figure(dpi=100)\n",
    "plot_voltage_traces(out_rec)"
   ]
  },
  {
   "cell_type": "markdown",
   "metadata": {},
   "source": [
    "By preventing the output neurons from spiking themselves, we can define a relatively smooth objective on their membrane voltages directly. Specifically, we use the maximum voltage over time of each output unit\n",
    "$$\\hat U^\\mathrm{out}_i=\\max_t U^\\mathrm{out}_i(t)$$\n",
    "and then use this vector as input for either an argmax to compute the classification accuracy or as we will see below as input for a standard softmax function in conjunction with a negative log-likelihood loss for optimizing the weights in the network. \n",
    "\n",
    "Let us first compute the classification accuracy of this random network. We will see that this accuracy is somewhere around 50% as it should be since that corresponds to the chance level of our synthetic task."
   ]
  },
  {
   "cell_type": "code",
   "execution_count": 28,
   "metadata": {},
   "outputs": [
    {
     "name": "stdout",
     "output_type": "stream",
     "text": [
      "Accuracy 0.508\n"
     ]
    }
   ],
   "source": [
    "def print_classification_accuracy():\n",
    "    \"\"\" Dirty little helper function to compute classification accuracy. \"\"\"\n",
    "    output,_ = run_snn(x_data)\n",
    "    m,_= torch.max(output,1) # max over time\n",
    "    _,am=torch.max(m,1) # argmax over output units\n",
    "    acc = np.mean((y_data==am).detach().cpu().numpy()) # compare to labels\n",
    "    print(\"Accuracy %.3f\"%acc)\n",
    "    \n",
    "print_classification_accuracy()"
   ]
  },
  {
   "cell_type": "markdown",
   "metadata": {},
   "source": [
    "## Supervised learning\n",
    "\n",
    "So far, we have built the infrastructure to simulate our spiking neural network, but we have worked with purely\n",
    "random network weights thus far.\n",
    "The vanilla method to adjust network weights to decrease the specified objective is gradient descent. \n",
    "Machine learning libraries like Tensorflow and PyTorch make implementing gradient descent a breeze.\n",
    "We first perform gradient descent on the correct gradient and use this as a motivation for introducing surrogate gradients.\n",
    "Here we go."
   ]
  },
  {
   "cell_type": "markdown",
   "metadata": {},
   "source": [
    "### Supervised learning with the true gradient"
   ]
  },
  {
   "cell_type": "code",
   "execution_count": 29,
   "metadata": {},
   "outputs": [
    {
     "ename": "RuntimeError",
     "evalue": "Expected object of scalar type Long but got scalar type Int for argument #2 'target' in call to _thnn_nll_loss_forward",
     "output_type": "error",
     "traceback": [
      "\u001B[1;31m---------------------------------------------------------------------------\u001B[0m",
      "\u001B[1;31mRuntimeError\u001B[0m                              Traceback (most recent call last)",
      "\u001B[1;32m<ipython-input-29-1404b84caac0>\u001B[0m in \u001B[0;36m<module>\u001B[1;34m\u001B[0m\n\u001B[0;32m     13\u001B[0m     \u001B[0mm\u001B[0m\u001B[1;33m,\u001B[0m\u001B[0m_\u001B[0m\u001B[1;33m=\u001B[0m\u001B[0mtorch\u001B[0m\u001B[1;33m.\u001B[0m\u001B[0mmax\u001B[0m\u001B[1;33m(\u001B[0m\u001B[0moutput\u001B[0m\u001B[1;33m,\u001B[0m\u001B[1;36m1\u001B[0m\u001B[1;33m)\u001B[0m\u001B[1;33m\u001B[0m\u001B[1;33m\u001B[0m\u001B[0m\n\u001B[0;32m     14\u001B[0m     \u001B[0mlog_p_y\u001B[0m \u001B[1;33m=\u001B[0m \u001B[0mlog_softmax_fn\u001B[0m\u001B[1;33m(\u001B[0m\u001B[0mm\u001B[0m\u001B[1;33m)\u001B[0m\u001B[1;33m\u001B[0m\u001B[1;33m\u001B[0m\u001B[0m\n\u001B[1;32m---> 15\u001B[1;33m     \u001B[0mloss_val\u001B[0m \u001B[1;33m=\u001B[0m \u001B[0mloss_fn\u001B[0m\u001B[1;33m(\u001B[0m\u001B[0mlog_p_y\u001B[0m\u001B[1;33m,\u001B[0m \u001B[0my_data\u001B[0m\u001B[1;33m)\u001B[0m\u001B[1;33m\u001B[0m\u001B[1;33m\u001B[0m\u001B[0m\n\u001B[0m\u001B[0;32m     16\u001B[0m \u001B[1;33m\u001B[0m\u001B[0m\n\u001B[0;32m     17\u001B[0m     \u001B[1;31m# update the weights\u001B[0m\u001B[1;33m\u001B[0m\u001B[1;33m\u001B[0m\u001B[1;33m\u001B[0m\u001B[0m\n",
      "\u001B[1;32m~\\anaconda3\\envs\\data-science\\lib\\site-packages\\torch\\nn\\modules\\module.py\u001B[0m in \u001B[0;36m_call_impl\u001B[1;34m(self, *input, **kwargs)\u001B[0m\n\u001B[0;32m    725\u001B[0m             \u001B[0mresult\u001B[0m \u001B[1;33m=\u001B[0m \u001B[0mself\u001B[0m\u001B[1;33m.\u001B[0m\u001B[0m_slow_forward\u001B[0m\u001B[1;33m(\u001B[0m\u001B[1;33m*\u001B[0m\u001B[0minput\u001B[0m\u001B[1;33m,\u001B[0m \u001B[1;33m**\u001B[0m\u001B[0mkwargs\u001B[0m\u001B[1;33m)\u001B[0m\u001B[1;33m\u001B[0m\u001B[1;33m\u001B[0m\u001B[0m\n\u001B[0;32m    726\u001B[0m         \u001B[1;32melse\u001B[0m\u001B[1;33m:\u001B[0m\u001B[1;33m\u001B[0m\u001B[1;33m\u001B[0m\u001B[0m\n\u001B[1;32m--> 727\u001B[1;33m             \u001B[0mresult\u001B[0m \u001B[1;33m=\u001B[0m \u001B[0mself\u001B[0m\u001B[1;33m.\u001B[0m\u001B[0mforward\u001B[0m\u001B[1;33m(\u001B[0m\u001B[1;33m*\u001B[0m\u001B[0minput\u001B[0m\u001B[1;33m,\u001B[0m \u001B[1;33m**\u001B[0m\u001B[0mkwargs\u001B[0m\u001B[1;33m)\u001B[0m\u001B[1;33m\u001B[0m\u001B[1;33m\u001B[0m\u001B[0m\n\u001B[0m\u001B[0;32m    728\u001B[0m         for hook in itertools.chain(\n\u001B[0;32m    729\u001B[0m                 \u001B[0m_global_forward_hooks\u001B[0m\u001B[1;33m.\u001B[0m\u001B[0mvalues\u001B[0m\u001B[1;33m(\u001B[0m\u001B[1;33m)\u001B[0m\u001B[1;33m,\u001B[0m\u001B[1;33m\u001B[0m\u001B[1;33m\u001B[0m\u001B[0m\n",
      "\u001B[1;32m~\\anaconda3\\envs\\data-science\\lib\\site-packages\\torch\\nn\\modules\\loss.py\u001B[0m in \u001B[0;36mforward\u001B[1;34m(self, input, target)\u001B[0m\n\u001B[0;32m    211\u001B[0m \u001B[1;33m\u001B[0m\u001B[0m\n\u001B[0;32m    212\u001B[0m     \u001B[1;32mdef\u001B[0m \u001B[0mforward\u001B[0m\u001B[1;33m(\u001B[0m\u001B[0mself\u001B[0m\u001B[1;33m,\u001B[0m \u001B[0minput\u001B[0m\u001B[1;33m:\u001B[0m \u001B[0mTensor\u001B[0m\u001B[1;33m,\u001B[0m \u001B[0mtarget\u001B[0m\u001B[1;33m:\u001B[0m \u001B[0mTensor\u001B[0m\u001B[1;33m)\u001B[0m \u001B[1;33m->\u001B[0m \u001B[0mTensor\u001B[0m\u001B[1;33m:\u001B[0m\u001B[1;33m\u001B[0m\u001B[1;33m\u001B[0m\u001B[0m\n\u001B[1;32m--> 213\u001B[1;33m         \u001B[1;32mreturn\u001B[0m \u001B[0mF\u001B[0m\u001B[1;33m.\u001B[0m\u001B[0mnll_loss\u001B[0m\u001B[1;33m(\u001B[0m\u001B[0minput\u001B[0m\u001B[1;33m,\u001B[0m \u001B[0mtarget\u001B[0m\u001B[1;33m,\u001B[0m \u001B[0mweight\u001B[0m\u001B[1;33m=\u001B[0m\u001B[0mself\u001B[0m\u001B[1;33m.\u001B[0m\u001B[0mweight\u001B[0m\u001B[1;33m,\u001B[0m \u001B[0mignore_index\u001B[0m\u001B[1;33m=\u001B[0m\u001B[0mself\u001B[0m\u001B[1;33m.\u001B[0m\u001B[0mignore_index\u001B[0m\u001B[1;33m,\u001B[0m \u001B[0mreduction\u001B[0m\u001B[1;33m=\u001B[0m\u001B[0mself\u001B[0m\u001B[1;33m.\u001B[0m\u001B[0mreduction\u001B[0m\u001B[1;33m)\u001B[0m\u001B[1;33m\u001B[0m\u001B[1;33m\u001B[0m\u001B[0m\n\u001B[0m\u001B[0;32m    214\u001B[0m \u001B[1;33m\u001B[0m\u001B[0m\n\u001B[0;32m    215\u001B[0m \u001B[1;33m\u001B[0m\u001B[0m\n",
      "\u001B[1;32m~\\anaconda3\\envs\\data-science\\lib\\site-packages\\torch\\nn\\functional.py\u001B[0m in \u001B[0;36mnll_loss\u001B[1;34m(input, target, weight, size_average, ignore_index, reduce, reduction)\u001B[0m\n\u001B[0;32m   2262\u001B[0m                          .format(input.size(0), target.size(0)))\n\u001B[0;32m   2263\u001B[0m     \u001B[1;32mif\u001B[0m \u001B[0mdim\u001B[0m \u001B[1;33m==\u001B[0m \u001B[1;36m2\u001B[0m\u001B[1;33m:\u001B[0m\u001B[1;33m\u001B[0m\u001B[1;33m\u001B[0m\u001B[0m\n\u001B[1;32m-> 2264\u001B[1;33m         \u001B[0mret\u001B[0m \u001B[1;33m=\u001B[0m \u001B[0mtorch\u001B[0m\u001B[1;33m.\u001B[0m\u001B[0m_C\u001B[0m\u001B[1;33m.\u001B[0m\u001B[0m_nn\u001B[0m\u001B[1;33m.\u001B[0m\u001B[0mnll_loss\u001B[0m\u001B[1;33m(\u001B[0m\u001B[0minput\u001B[0m\u001B[1;33m,\u001B[0m \u001B[0mtarget\u001B[0m\u001B[1;33m,\u001B[0m \u001B[0mweight\u001B[0m\u001B[1;33m,\u001B[0m \u001B[0m_Reduction\u001B[0m\u001B[1;33m.\u001B[0m\u001B[0mget_enum\u001B[0m\u001B[1;33m(\u001B[0m\u001B[0mreduction\u001B[0m\u001B[1;33m)\u001B[0m\u001B[1;33m,\u001B[0m \u001B[0mignore_index\u001B[0m\u001B[1;33m)\u001B[0m\u001B[1;33m\u001B[0m\u001B[1;33m\u001B[0m\u001B[0m\n\u001B[0m\u001B[0;32m   2265\u001B[0m     \u001B[1;32melif\u001B[0m \u001B[0mdim\u001B[0m \u001B[1;33m==\u001B[0m \u001B[1;36m4\u001B[0m\u001B[1;33m:\u001B[0m\u001B[1;33m\u001B[0m\u001B[1;33m\u001B[0m\u001B[0m\n\u001B[0;32m   2266\u001B[0m         \u001B[0mret\u001B[0m \u001B[1;33m=\u001B[0m \u001B[0mtorch\u001B[0m\u001B[1;33m.\u001B[0m\u001B[0m_C\u001B[0m\u001B[1;33m.\u001B[0m\u001B[0m_nn\u001B[0m\u001B[1;33m.\u001B[0m\u001B[0mnll_loss2d\u001B[0m\u001B[1;33m(\u001B[0m\u001B[0minput\u001B[0m\u001B[1;33m,\u001B[0m \u001B[0mtarget\u001B[0m\u001B[1;33m,\u001B[0m \u001B[0mweight\u001B[0m\u001B[1;33m,\u001B[0m \u001B[0m_Reduction\u001B[0m\u001B[1;33m.\u001B[0m\u001B[0mget_enum\u001B[0m\u001B[1;33m(\u001B[0m\u001B[0mreduction\u001B[0m\u001B[1;33m)\u001B[0m\u001B[1;33m,\u001B[0m \u001B[0mignore_index\u001B[0m\u001B[1;33m)\u001B[0m\u001B[1;33m\u001B[0m\u001B[1;33m\u001B[0m\u001B[0m\n",
      "\u001B[1;31mRuntimeError\u001B[0m: Expected object of scalar type Long but got scalar type Int for argument #2 'target' in call to _thnn_nll_loss_forward"
     ]
    }
   ],
   "source": [
    "params = [w1,w2] # The paramters we want to optimize\n",
    "optimizer = torch.optim.Adam(params, lr=2e-3, betas=(0.9,0.999)) # The optimizer we are going to use\n",
    "\n",
    "log_softmax_fn = nn.LogSoftmax(dim=1) # The log softmax function across output units\n",
    "loss_fn = nn.NLLLoss() # The negative log likelihood loss function\n",
    "\n",
    "# The optimization loop\n",
    "loss_hist = []\n",
    "for e in range(1000):\n",
    "    # run the network and get output\n",
    "    output,_ = run_snn(x_data) \n",
    "    # compute the loss\n",
    "    m,_=torch.max(output,1)\n",
    "    log_p_y = log_softmax_fn(m) \n",
    "    loss_val = loss_fn(log_p_y, y_data)\n",
    "\n",
    "    # update the weights\n",
    "    optimizer.zero_grad()\n",
    "    loss_val.backward()\n",
    "    optimizer.step()\n",
    "    \n",
    "    # store loss value\n",
    "    loss_hist.append(loss_val.item())\n",
    "    \n",
    "loss_hist_true_grad = loss_hist # store for later use"
   ]
  },
  {
   "cell_type": "code",
   "execution_count": 30,
   "metadata": {},
   "outputs": [
    {
     "data": {
      "text/plain": "<Figure size 432x288 with 1 Axes>",
      "image/png": "[encoded data removed]"
     },
     "metadata": {
      "needs_background": "light"
     },
     "output_type": "display_data"
    }
   ],
   "source": [
    "plt.plot(loss_hist)\n",
    "plt.xlabel(\"Epoch\")\n",
    "plt.ylabel(\"Loss\")\n",
    "sns.despine()"
   ]
  },
  {
   "cell_type": "code",
   "execution_count": null,
   "metadata": {},
   "outputs": [],
   "source": [
    "print_classification_accuracy()"
   ]
  },
  {
   "cell_type": "markdown",
   "metadata": {},
   "source": [
    "We appreciate that loss decreases over iterations and converges towards a steady state. The classification accuracy, however, does not seem to improve dramatically throughout the optimization. What a shame! \n",
    "\n",
    "The underlying reason is that the nonlinearity of the hidden units have zero derivatives everywhere except at threshold crossings, where they become infinite. In practice that means that weight updates in the hidden layer vanish and the weights remain unmodified. By plotting the hidden layer activations and comparing them with what we have plotted before, we will see that these activations have not changed at all. Thus no learning happens in the hidden layer. The reason why the loss decreased initially during optimization is that the output layer weights could still change and allow for some improvement (even if it was very little).\n",
    "\n",
    "To improve performance, we need to get the hidden layer units to take part in learning. To achieve this, we will introduce a surrogate gradient in the next section."
   ]
  },
  {
   "cell_type": "code",
   "execution_count": null,
   "metadata": {},
   "outputs": [],
   "source": [
    "output,other_recordings = run_snn(x_data)\n",
    "mem_rec, spk_rec = other_recordings"
   ]
  },
  {
   "cell_type": "code",
   "execution_count": null,
   "metadata": {},
   "outputs": [],
   "source": [
    "fig=plt.figure(dpi=100)\n",
    "plot_voltage_traces(mem_rec, spk_rec)"
   ]
  },
  {
   "cell_type": "code",
   "execution_count": null,
   "metadata": {},
   "outputs": [],
   "source": [
    "fig=plt.figure(dpi=100)\n",
    "plot_voltage_traces(output)"
   ]
  },
  {
   "cell_type": "markdown",
   "metadata": {},
   "source": [
    "### Supervised learning with surrogate gradients\n",
    "\n",
    "In the last section, we saw that the hidden layer units did not participate.\n",
    "The underlying reason is that the partial derivative of the step function we used has a vanishing derivative everywhere (except at zero where it becomes infinite).\n",
    "\n",
    "Most conventional neural networks avoid this problem by choosing a nonlinearity with non-zero partial derivative. For instance, sigmoidal or tanh units were standard during the beginnings of neural networks research. Today, ReLUs are more common. Importantly, all these activation functions have substantial non-zero support, which allows gradients to flow (to a greater or lesser extent).\n",
    "\n",
    "What do we if we want to stick to our binary nonlinearity? There have been several approaches to tackle this problem. Here we use one such strategy which has been applied successfully to spiking neural networks: We use a surrogate gradient approach.\n",
    "\n",
    "The idea behind a surrogate gradient is dead simple. Instead of changing the nonlinearity itself, we only change the gradient. Thus we use a different \"surrogate\" gradient to optimize parameters that would otherwise have a vanishing gradient.\n",
    "\n",
    "<img src=\"figures/surrgrad/surrgrad.png\" width=\"450\">\n",
    "Specifically, we use the partial derivative of a function which to some extent approximates the stepfunction $\\Theta(x)$.\n",
    "In what follows, chiefly, we will use (up to rescaling) the partial derivative of a fast sigmoid function $\\sigma(x)$. \n",
    "While $\\Theta$ is invariant to multiplicative rescaling, $\\sigma$ isn't. Thus we have to introduce a scale parameter."
   ]
  },
  {
   "cell_type": "code",
   "execution_count": null,
   "metadata": {},
   "outputs": [],
   "source": [
    "class SurrGradSpike(torch.autograd.Function):\n",
    "    \"\"\"\n",
    "    Here we implement our spiking nonlinearity which also implements \n",
    "    the surrogate gradient. By subclassing torch.autograd.Function, \n",
    "    we will be able to use all of PyTorch's autograd functionality.\n",
    "    Here we use the normalized negative part of a fast sigmoid \n",
    "    as this was done in Zenke & Ganguli (2018).\n",
    "    \"\"\"\n",
    "    \n",
    "    scale = 100.0 # controls steepness of surrogate gradient\n",
    "\n",
    "    @staticmethod\n",
    "    def forward(ctx, input):\n",
    "        \"\"\"\n",
    "        In the forward pass we compute a step function of the input Tensor\n",
    "        and return it. ctx is a context object that we use to stash information which \n",
    "        we need to later backpropagate our error signals. To achieve this we use the \n",
    "        ctx.save_for_backward method.\n",
    "        \"\"\"\n",
    "        ctx.save_for_backward(input)\n",
    "        out = torch.zeros_like(input)\n",
    "        out[input > 0] = 1.0\n",
    "        return out\n",
    "\n",
    "    @staticmethod\n",
    "    def backward(ctx, grad_output):\n",
    "        \"\"\"\n",
    "        In the backward pass we receive a Tensor we need to compute the \n",
    "        surrogate gradient of the loss with respect to the input. \n",
    "        Here we use the normalized negative part of a fast sigmoid \n",
    "        as this was done in Zenke & Ganguli (2018).\n",
    "        \"\"\"\n",
    "        input, = ctx.saved_tensors\n",
    "        grad_input = grad_output.clone()\n",
    "        grad = grad_input/(SurrGradSpike.scale*torch.abs(input)+1.0)**2\n",
    "        return grad\n",
    "    \n",
    "# here we overwrite our naive spike function by the \"SurrGradSpike\" nonlinearity which implements a surrogate gradient\n",
    "spike_fn  = SurrGradSpike.apply"
   ]
  },
  {
   "cell_type": "code",
   "execution_count": null,
   "metadata": {},
   "outputs": [],
   "source": [
    "# The following lines will reinitialize the weights\n",
    "torch.nn.init.normal_(w1, mean=0.0, std=weight_scale/np.sqrt(nb_inputs))\n",
    "torch.nn.init.normal_(w2, mean=0.0, std=weight_scale/np.sqrt(nb_hidden))\n",
    "print(\"init done\")"
   ]
  },
  {
   "cell_type": "code",
   "execution_count": null,
   "metadata": {},
   "outputs": [],
   "source": [
    "params = [w1,w2]\n",
    "optimizer = torch.optim.Adam(params, lr=2e-3, betas=(0.9,0.999))\n",
    "\n",
    "log_softmax_fn = nn.LogSoftmax(dim=1)\n",
    "loss_fn = nn.NLLLoss()\n",
    "\n",
    "loss_hist = []\n",
    "for e in range(1000):\n",
    "    output,_ = run_snn(x_data)\n",
    "    m,_=torch.max(output,1)\n",
    "    log_p_y = log_softmax_fn(m)\n",
    "    loss_val = loss_fn(log_p_y, y_data)\n",
    "\n",
    "    optimizer.zero_grad()\n",
    "    loss_val.backward()\n",
    "    optimizer.step()\n",
    "    loss_hist.append(loss_val.item())"
   ]
  },
  {
   "cell_type": "code",
   "execution_count": null,
   "metadata": {},
   "outputs": [],
   "source": [
    "plt.figure(figsize=(3.3,2),dpi=150)\n",
    "plt.plot(loss_hist_true_grad, label=\"True gradient\")\n",
    "plt.plot(loss_hist, label=\"Surrogate gradient\")\n",
    "plt.xlabel(\"Epoch\")\n",
    "plt.ylabel(\"Loss\")\n",
    "plt.legend()\n",
    "sns.despine()"
   ]
  },
  {
   "cell_type": "code",
   "execution_count": null,
   "metadata": {},
   "outputs": [],
   "source": [
    "output,other_recordings = run_snn(x_data)\n",
    "mem_rec, spk_rec = other_recordings"
   ]
  },
  {
   "cell_type": "code",
   "execution_count": null,
   "metadata": {},
   "outputs": [],
   "source": [
    "fig=plt.figure(dpi=100)\n",
    "plot_voltage_traces(mem_rec, spk_rec)"
   ]
  },
  {
   "cell_type": "code",
   "execution_count": null,
   "metadata": {},
   "outputs": [],
   "source": [
    "fig=plt.figure(dpi=100)\n",
    "plot_voltage_traces(output)"
   ]
  },
  {
   "cell_type": "code",
   "execution_count": null,
   "metadata": {},
   "outputs": [],
   "source": [
    "output,_ = run_snn(x_data)\n",
    "m,_=torch.max(output,1)\n",
    "\n",
    "# Compute training accuracy\n",
    "_,am=torch.max(m,1)\n",
    "acc = np.mean((y_data==am).detach().cpu().numpy())\n",
    "print(\"Accuracy %f\"%acc)"
   ]
  },
  {
   "cell_type": "code",
   "execution_count": null,
   "metadata": {},
   "outputs": [],
   "source": []
  },
  {
   "cell_type": "markdown",
   "metadata": {},
   "source": [
    "<a rel=\"license\" href=\"http://creativecommons.org/licenses/by/4.0/\"><img alt=\"Creative Commons License\" style=\"border-width:0\" src=\"https://i.creativecommons.org/l/by/4.0/88x31.png\" /></a><br />This work is licensed under a <a rel=\"license\" href=\"http://creativecommons.org/licenses/by/4.0/\">Creative Commons Attribution 4.0 International License</a>."
   ]
  }
 ],
 "metadata": {
  "kernelspec": {
   "name": "pycharm-9c9070f4",
   "language": "python",
   "display_name": "PyCharm (use-of-snn)"
  },
  "language_info": {
   "codemirror_mode": {
    "name": "ipython",
    "version": 3
   },
   "file_extension": ".py",
   "mimetype": "text/x-python",
   "name": "python",
   "nbconvert_exporter": "python",
   "pygments_lexer": "ipython3",
   "version": "3.8.5-final"
  }
 },
 "nbformat": 4,
 "nbformat_minor": 2
}