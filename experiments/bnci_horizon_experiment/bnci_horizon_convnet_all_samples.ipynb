{
 "cells": [
  {
   "cell_type": "markdown",
   "metadata": {
    "pycharm": {
     "name": "#%% md\n"
    }
   },
   "source": [
    "To run this notebook, **bnci_utils.py** is necessary. Before running this, preprocessing is necessary which can\n",
    "be done using the\n",
    "\n",
    "Make sure that all the dataset files are located in \"dataset\" folder\n",
    "and that it does not contain any other files (except \\_\\_init\\_\\_.py)"
   ]
  },
  {
   "cell_type": "code",
   "execution_count": 2,
   "metadata": {},
   "outputs": [],
   "source": [
    "import os\n",
    "import numpy as np\n",
    "import tensorflow as tf\n",
    "import keras\n",
    "import nengo_dl\n",
    "from tensorflow.python.keras import Input, Model\n",
    "import nengo\n",
    "from tensorflow.python.keras.callbacks import EarlyStopping\n",
    "from tensorflow.python.keras.layers import Conv2D, Dropout, AveragePooling2D, Flatten, Dense, BatchNormalization, \\\n",
    "    Conv3D, MaxPooling2D, Conv1D, MaxPooling1D\n",
    "from sklearn.preprocessing import OneHotEncoder\n",
    "from sklearn.model_selection import train_test_split, KFold\n",
    "from keras import backend as K\n",
    "import pandas as pd\n",
    "from sklearn import metrics\n",
    "\n",
    "import bnci_utils as utils"
   ]
  },
  {
   "cell_type": "code",
   "execution_count": 3,
   "metadata": {
    "pycharm": {
     "name": "#%%\n"
    }
   },
   "outputs": [],
   "source": [
    "# All the datasets that can be run with this notebook\n",
    "#   Entire dataset - all data\n",
    "#   Female subjects - data from female subjects\n",
    "#   Male subjects - data from male subjects\n",
    "datasets = {\n",
    "    'entire_dataset': 'entire_dataset.npz',\n",
    "    'female_subjects': 'dataset_female_gender.npz',\n",
    "    'male_subjects': 'dataset_male_gender.npz'\n",
    "}\n",
    "\n",
    "dataset_path = os.path.join('dataset_result', datasets['male_subjects'])\n",
    "\n",
    "data_output_folder = 'entire_dataset_output_cnn' # output path for statistics from the simulation\n",
    "iteration_data_file_name = 'cnn_exp_10_fold_male_subj.xlsx' # file name of excel file with data from each iteration\n",
    "iteration_stats_file_name = 'cnn_exp_10_fold_male_subj_stats.xlsx' # file name for statistics from the simulation (i.e\n",
    "                                                                   # max and average accuracy, max and average recall...)\n",
    "\n",
    "\n",
    "# List of tested models - default CNN is the originally tested network, p300_exp_cnn is the CNN from the P300 experiment\n",
    "models = {\n",
    "    'default_cnn': utils.cnn_model,\n",
    "    'p300_exp_cnn': utils.original_p300_model\n",
    "}\n",
    "\n",
    "# Model function to create the model for simulation\n",
    "model_fn = models['default_cnn']"
   ]
  },
  {
   "cell_type": "code",
   "execution_count": 4,
   "metadata": {
    "pycharm": {
     "name": "#%%\n"
    }
   },
   "outputs": [
    {
     "data": {
      "text/plain": [
       "'Features shape: (1296, 14, 36, 10), labels shape: (1296,)'"
      ]
     },
     "execution_count": 4,
     "metadata": {},
     "output_type": "execute_result"
    }
   ],
   "source": [
    "# Get features and labels\n",
    "features, labels = utils.load_dataset(dataset_path)\n",
    "\n",
    "f'Features shape: {features.shape}, labels shape: {labels.shape}'"
   ]
  },
  {
   "cell_type": "code",
   "execution_count": 5,
   "metadata": {
    "pycharm": {
     "name": "#%%\n"
    }
   },
   "outputs": [
    {
     "data": {
      "text/plain": [
       "'yes: (672,) (51.85185185185185%), no: (624,) (48.148148148148145%)'"
      ]
     },
     "execution_count": 5,
     "metadata": {},
     "output_type": "execute_result"
    }
   ],
   "source": [
    "# Check if the dataset is balanced\n",
    "yes = labels[labels == 'yes']\n",
    "no = labels[labels == 'no']\n",
    "\n",
    "f'yes: {yes.shape} ({(yes.shape[0]/labels.shape[0]) * 100}%), no: {no.shape} ({(no.shape[0]/labels.shape[0]) * 100}%)'"
   ]
  },
  {
   "cell_type": "code",
   "execution_count": 6,
   "metadata": {
    "pycharm": {
     "name": "#%%\n"
    }
   },
   "outputs": [
    {
     "data": {
      "text/plain": [
       "'Features shape: (1296, 1, 5040), labels shape: (1296, 1, 2)'"
      ]
     },
     "execution_count": 6,
     "metadata": {},
     "output_type": "execute_result"
    }
   ],
   "source": [
    "# Reshape the dataset\n",
    "features, labels = utils.reshape_dataset(features, labels)\n",
    "f'Features shape: {features.shape}, labels shape: {labels.shape}'"
   ]
  },
  {
   "cell_type": "code",
   "execution_count": 7,
   "metadata": {
    "pycharm": {
     "name": "#%%\n"
    }
   },
   "outputs": [],
   "source": [
    "# Set seed for consistency\n",
    "seed = 1\n",
    "np.random.seed(seed)\n",
    "tf.random.set_seed(seed)"
   ]
  },
  {
   "cell_type": "code",
   "execution_count": 8,
   "metadata": {
    "pycharm": {
     "name": "#%%\n"
    }
   },
   "outputs": [
    {
     "data": {
      "text/plain": [
       "'x_train shape: (972, 1, 5040), y_train shape: (972, 1, 2), x_test shape: (324, 1, 5040), y_test shape: (324, 1, 2)'"
      ]
     },
     "execution_count": 8,
     "metadata": {},
     "output_type": "execute_result"
    }
   ],
   "source": [
    "x_train, x_test, y_train, y_test = train_test_split(features, labels, test_size=0.25, random_state=seed, shuffle=True)\n",
    "\n",
    "f'x_train shape: {x_train.shape}, y_train shape: {y_train.shape}, ' \\\n",
    "f'x_test shape: {x_test.shape}, y_test shape: {y_test.shape}'"
   ]
  },
  {
   "cell_type": "code",
   "execution_count": 9,
   "metadata": {
    "pycharm": {
     "name": "#%%\n"
    }
   },
   "outputs": [
    {
     "name": "stdout",
     "output_type": "stream",
     "text": [
      "Model: \"model\"\n",
      "_________________________________________________________________\n",
      "Layer (type)                 Output Shape              Param #   \n",
      "=================================================================\n",
      "input_layer (InputLayer)     [(None, 14, 360, 1)]      0         \n",
      "_________________________________________________________________\n",
      "conv2d (Conv2D)              (None, 14, 360, 32)       832       \n",
      "_________________________________________________________________\n",
      "dropout (Dropout)            (None, 14, 360, 32)       0         \n",
      "_________________________________________________________________\n",
      "average_pooling2d (AveragePo (None, 7, 180, 32)        0         \n",
      "_________________________________________________________________\n",
      "conv2d_1 (Conv2D)            (None, 5, 178, 64)        18496     \n",
      "_________________________________________________________________\n",
      "dropout_1 (Dropout)          (None, 5, 178, 64)        0         \n",
      "_________________________________________________________________\n",
      "average_pooling2d_1 (Average (None, 2, 89, 64)         0         \n",
      "_________________________________________________________________\n",
      "flatten (Flatten)            (None, 11392)             0         \n",
      "_________________________________________________________________\n",
      "dense (Dense)                (None, 512)               5833216   \n",
      "_________________________________________________________________\n",
      "dropout_2 (Dropout)          (None, 512)               0         \n",
      "_________________________________________________________________\n",
      "dense_1 (Dense)              (None, 256)               131328    \n",
      "_________________________________________________________________\n",
      "output_layer (Dense)         (None, 2)                 514       \n",
      "=================================================================\n",
      "Total params: 5,984,386\n",
      "Trainable params: 5,984,386\n",
      "Non-trainable params: 0\n",
      "_________________________________________________________________\n"
     ]
    }
   ],
   "source": [
    "params_output_path = 'cnn_all_samples_nengo_params'\n",
    "os.makedirs(params_output_path, exist_ok=True)\n",
    "\n",
    "utils.cnn_model(seed=seed).summary() # Print the model"
   ]
  },
  {
   "cell_type": "code",
   "execution_count": 10,
   "metadata": {
    "pycharm": {
     "name": "#%%\n"
    }
   },
   "outputs": [
    {
     "name": "stdout",
     "output_type": "stream",
     "text": [
      "Current iteration:  1\n",
      "|                     Building network (0%)                    | ETA:  --:--:--"
     ]
    },
    {
     "name": "stderr",
     "output_type": "stream",
     "text": [
      "c:\\dev\\anaconda\\envs\\conda_tutorial\\lib\\site-packages\\nengo_dl\\converter.py:324: UserWarning: Layer type <class 'tensorflow.python.keras.layers.core.Dropout'> does not have a registered converter. Falling back to TensorNode.\n",
      "  warnings.warn(\n",
      "c:\\dev\\anaconda\\envs\\conda_tutorial\\lib\\site-packages\\nengo_dl\\converter.py:586: UserWarning: Activation type <function softmax_v2 at 0x000002B021647F70> does not have a native Nengo equivalent; falling back to a TensorNode\n",
      "  warnings.warn(\n"
     ]
    },
    {
     "name": "stdout",
     "output_type": "stream",
     "text": [
      "Build finished in 0:00:01                                                      \n",
      "Optimization finished in 0:00:00                                               \n",
      "Construction finished in 0:00:00                                               \n",
      "Epoch 1/30\n",
      "|             Constructing graph: build stage (0%)             | ETA:  --:--:--"
     ]
    },
    {
     "name": "stderr",
     "output_type": "stream",
     "text": [
      "c:\\dev\\anaconda\\envs\\conda_tutorial\\lib\\site-packages\\nengo_dl\\simulator.py:1927: UserWarning: Number of elements in input data (98) is not evenly divisible by Simulator.minibatch_size (16); input data will be truncated.\n",
      "  warnings.warn(\n",
      "c:\\dev\\anaconda\\envs\\conda_tutorial\\lib\\site-packages\\nengo_dl\\simulator.py:1927: UserWarning: Number of elements in input data (874) is not evenly divisible by Simulator.minibatch_size (16); input data will be truncated.\n",
      "  warnings.warn(\n"
     ]
    },
    {
     "name": "stdout",
     "output_type": "stream",
     "text": [
      "54/54 [==============================] - 9s 63ms/step - loss: 1.0161 - probe_loss: 1.0161 - probe_accuracy: 0.5415 - val_loss: 0.6941 - val_probe_loss: 0.6941 - val_probe_accuracy: 0.4896\n",
      "Epoch 2/30\n",
      "54/54 [==============================] - 1s 23ms/step - loss: 0.6929 - probe_loss: 0.6929 - probe_accuracy: 0.5153 - val_loss: 0.6943 - val_probe_loss: 0.6943 - val_probe_accuracy: 0.4896\n",
      "Epoch 3/30\n",
      "54/54 [==============================] - 1s 23ms/step - loss: 0.6953 - probe_loss: 0.6953 - probe_accuracy: 0.5294 - val_loss: 0.6853 - val_probe_loss: 0.6853 - val_probe_accuracy: 0.5104\n",
      "Epoch 4/30\n",
      "54/54 [==============================] - 1s 23ms/step - loss: 0.6954 - probe_loss: 0.6954 - probe_accuracy: 0.4637 - val_loss: 0.6990 - val_probe_loss: 0.6990 - val_probe_accuracy: 0.4792\n",
      "Epoch 5/30\n",
      "54/54 [==============================] - 1s 23ms/step - loss: 0.6948 - probe_loss: 0.6948 - probe_accuracy: 0.5018 - val_loss: 0.6964 - val_probe_loss: 0.6964 - val_probe_accuracy: 0.4896\n",
      "Epoch 6/30\n",
      "54/54 [==============================] - 1s 23ms/step - loss: 0.6929 - probe_loss: 0.6929 - probe_accuracy: 0.5394 - val_loss: 0.6946 - val_probe_loss: 0.6946 - val_probe_accuracy: 0.4896\n",
      "Epoch 7/30\n",
      "54/54 [==============================] - 1s 23ms/step - loss: 0.6920 - probe_loss: 0.6920 - probe_accuracy: 0.5333 - val_loss: 0.6946 - val_probe_loss: 0.6946 - val_probe_accuracy: 0.4896\n",
      "Epoch 8/30\n",
      "54/54 [==============================] - 1s 23ms/step - loss: 0.6951 - probe_loss: 0.6951 - probe_accuracy: 0.4833 - val_loss: 0.6954 - val_probe_loss: 0.6954 - val_probe_accuracy: 0.4896\n",
      "Epoch 9/30\n",
      "54/54 [==============================] - 1s 23ms/step - loss: 0.6939 - probe_loss: 0.6939 - probe_accuracy: 0.4963 - val_loss: 0.6942 - val_probe_loss: 0.6942 - val_probe_accuracy: 0.4896\n",
      "Epoch 10/30\n",
      "54/54 [==============================] - 1s 23ms/step - loss: 0.6935 - probe_loss: 0.6935 - probe_accuracy: 0.4985 - val_loss: 0.6960 - val_probe_loss: 0.6960 - val_probe_accuracy: 0.4896\n",
      "Epoch 11/30\n",
      "54/54 [==============================] - 1s 23ms/step - loss: 0.6894 - probe_loss: 0.6894 - probe_accuracy: 0.5319 - val_loss: 0.6922 - val_probe_loss: 0.6922 - val_probe_accuracy: 0.5208\n",
      "Restoring model weights from the end of the best epoch.\n",
      "Epoch 00011: early stopping\n",
      "|###           Constructing graph: build stage (5%)              | ETA: 0:00:01"
     ]
    },
    {
     "name": "stderr",
     "output_type": "stream",
     "text": [
      "c:\\dev\\anaconda\\envs\\conda_tutorial\\lib\\site-packages\\nengo_dl\\simulator.py:1765: UserWarning: Number of elements (1) in ['ndarray'] does not match number of Nodes (4); consider using an explicit input dictionary in this case, so that the assignment of data to objects is unambiguous.\n",
      "  warnings.warn(\n"
     ]
    },
    {
     "name": "stdout",
     "output_type": "stream",
     "text": [
      "1. CNN: accuracy = 45.9375%, precision = 0.5, recall = 0.011560693641618497, f1 = 0.022598870056497175\n",
      "Confusion matrix:\n",
      "[[145   2]\n",
      " [171   2]]\n"
     ]
    },
    {
     "name": "stderr",
     "output_type": "stream",
     "text": [
      "c:\\dev\\anaconda\\envs\\conda_tutorial\\lib\\site-packages\\nengo_dl\\converter.py:324: UserWarning: Layer type <class 'tensorflow.python.keras.layers.core.Dropout'> does not have a registered converter. Falling back to TensorNode.\n",
      "  warnings.warn(\n",
      "c:\\dev\\anaconda\\envs\\conda_tutorial\\lib\\site-packages\\nengo_dl\\converter.py:586: UserWarning: Activation type <function softmax_v2 at 0x000002B021647F70> does not have a native Nengo equivalent; falling back to a TensorNode\n",
      "  warnings.warn(\n"
     ]
    },
    {
     "name": "stdout",
     "output_type": "stream",
     "text": [
      "Build finished in 0:00:01                                                      \n",
      "Optimization finished in 0:00:00                                               \n",
      "Construction finished in 0:00:00                                               \n",
      "|           Constructing graph: pre-build stage (0%)           | ETA:  --:--:--"
     ]
    },
    {
     "name": "stderr",
     "output_type": "stream",
     "text": [
      "c:\\dev\\anaconda\\envs\\conda_tutorial\\lib\\site-packages\\nengo_dl\\simulator.py:1765: UserWarning: Number of elements (1) in ['ndarray'] does not match number of Nodes (4); consider using an explicit input dictionary in this case, so that the assignment of data to objects is unambiguous.\n",
      "  warnings.warn(\n"
     ]
    },
    {
     "name": "stdout",
     "output_type": "stream",
     "text": [
      "1. CNN (SNN conversion): accuracy = 45.0%, precision = 0.4666666666666667, recall = 0.12138728323699421, f1 = 0.1926605504587156\n",
      "Confusion matrix:\n",
      "[[123  24]\n",
      " [152  21]]\n",
      "Current iteration:  2\n",
      "|                     Building network (0%)                    | ETA:  --:--:--"
     ]
    },
    {
     "name": "stderr",
     "output_type": "stream",
     "text": [
      "c:\\dev\\anaconda\\envs\\conda_tutorial\\lib\\site-packages\\nengo_dl\\converter.py:324: UserWarning: Layer type <class 'tensorflow.python.keras.layers.core.Dropout'> does not have a registered converter. Falling back to TensorNode.\n",
      "  warnings.warn(\n",
      "c:\\dev\\anaconda\\envs\\conda_tutorial\\lib\\site-packages\\nengo_dl\\converter.py:586: UserWarning: Activation type <function softmax_v2 at 0x000002B021647F70> does not have a native Nengo equivalent; falling back to a TensorNode\n",
      "  warnings.warn(\n"
     ]
    },
    {
     "name": "stdout",
     "output_type": "stream",
     "text": [
      "Build finished in 0:00:01                                                      \n",
      "Optimization finished in 0:00:00                                               \n",
      "Construction finished in 0:00:00                                               \n",
      "Epoch 1/30\n",
      "|###           Constructing graph: build stage (5%)              | ETA: 0:00:00"
     ]
    },
    {
     "name": "stderr",
     "output_type": "stream",
     "text": [
      "c:\\dev\\anaconda\\envs\\conda_tutorial\\lib\\site-packages\\nengo_dl\\simulator.py:1927: UserWarning: Number of elements in input data (98) is not evenly divisible by Simulator.minibatch_size (16); input data will be truncated.\n",
      "  warnings.warn(\n",
      "c:\\dev\\anaconda\\envs\\conda_tutorial\\lib\\site-packages\\nengo_dl\\simulator.py:1927: UserWarning: Number of elements in input data (874) is not evenly divisible by Simulator.minibatch_size (16); input data will be truncated.\n",
      "  warnings.warn(\n"
     ]
    },
    {
     "name": "stdout",
     "output_type": "stream",
     "text": [
      "54/54 [==============================] - 8s 52ms/step - loss: 1.0666 - probe_loss: 1.0666 - probe_accuracy: 0.5240 - val_loss: 0.6924 - val_probe_loss: 0.6924 - val_probe_accuracy: 0.5312\n",
      "Epoch 2/30\n",
      "54/54 [==============================] - 1s 24ms/step - loss: 0.6935 - probe_loss: 0.6935 - probe_accuracy: 0.4978 - val_loss: 0.6926 - val_probe_loss: 0.6926 - val_probe_accuracy: 0.5312\n",
      "Epoch 3/30\n",
      "54/54 [==============================] - 1s 24ms/step - loss: 0.6932 - probe_loss: 0.6932 - probe_accuracy: 0.5072 - val_loss: 0.6925 - val_probe_loss: 0.6925 - val_probe_accuracy: 0.5312\n",
      "Epoch 4/30\n",
      "54/54 [==============================] - 1s 23ms/step - loss: 0.6928 - probe_loss: 0.6928 - probe_accuracy: 0.5052 - val_loss: 0.6939 - val_probe_loss: 0.6939 - val_probe_accuracy: 0.3750\n",
      "Epoch 5/30\n",
      "54/54 [==============================] - 1s 24ms/step - loss: 0.6942 - probe_loss: 0.6942 - probe_accuracy: 0.5414 - val_loss: 0.6944 - val_probe_loss: 0.6944 - val_probe_accuracy: 0.4271\n",
      "Epoch 6/30\n",
      "54/54 [==============================] - 1s 24ms/step - loss: 0.6896 - probe_loss: 0.6896 - probe_accuracy: 0.5597 - val_loss: 0.6933 - val_probe_loss: 0.6933 - val_probe_accuracy: 0.4688\n",
      "Epoch 7/30\n",
      "54/54 [==============================] - 1s 23ms/step - loss: 0.6905 - probe_loss: 0.6905 - probe_accuracy: 0.5424 - val_loss: 0.6911 - val_probe_loss: 0.6911 - val_probe_accuracy: 0.5625\n",
      "Epoch 8/30\n",
      "54/54 [==============================] - 1s 24ms/step - loss: 0.6870 - probe_loss: 0.6870 - probe_accuracy: 0.5714 - val_loss: 0.7156 - val_probe_loss: 0.7156 - val_probe_accuracy: 0.3854\n",
      "Epoch 9/30\n",
      "54/54 [==============================] - 1s 24ms/step - loss: 0.6821 - probe_loss: 0.6821 - probe_accuracy: 0.5914 - val_loss: 0.6995 - val_probe_loss: 0.6995 - val_probe_accuracy: 0.4375\n",
      "Epoch 10/30\n",
      "54/54 [==============================] - 1s 24ms/step - loss: 0.6704 - probe_loss: 0.6704 - probe_accuracy: 0.6134 - val_loss: 0.7318 - val_probe_loss: 0.7318 - val_probe_accuracy: 0.4062\n",
      "Epoch 11/30\n",
      "54/54 [==============================] - 1s 25ms/step - loss: 0.6563 - probe_loss: 0.6563 - probe_accuracy: 0.6145 - val_loss: 0.7091 - val_probe_loss: 0.7091 - val_probe_accuracy: 0.5208\n",
      "Epoch 12/30\n",
      "54/54 [==============================] - 1s 25ms/step - loss: 0.6686 - probe_loss: 0.6686 - probe_accuracy: 0.6010 - val_loss: 0.6919 - val_probe_loss: 0.6919 - val_probe_accuracy: 0.5417\n",
      "Epoch 13/30\n",
      "54/54 [==============================] - 1s 25ms/step - loss: 0.6816 - probe_loss: 0.6816 - probe_accuracy: 0.6008 - val_loss: 0.7252 - val_probe_loss: 0.7252 - val_probe_accuracy: 0.3958\n",
      "Epoch 14/30\n",
      "54/54 [==============================] - 1s 24ms/step - loss: 0.6634 - probe_loss: 0.6634 - probe_accuracy: 0.6181 - val_loss: 0.6979 - val_probe_loss: 0.6979 - val_probe_accuracy: 0.4896\n",
      "Epoch 15/30\n",
      "54/54 [==============================] - 1s 24ms/step - loss: 0.6726 - probe_loss: 0.6726 - probe_accuracy: 0.5981 - val_loss: 0.7400 - val_probe_loss: 0.7400 - val_probe_accuracy: 0.4688\n",
      "Restoring model weights from the end of the best epoch.\n",
      "Epoch 00015: early stopping\n",
      "|###           Constructing graph: build stage (5%)              | ETA: 0:00:01"
     ]
    },
    {
     "name": "stderr",
     "output_type": "stream",
     "text": [
      "c:\\dev\\anaconda\\envs\\conda_tutorial\\lib\\site-packages\\nengo_dl\\simulator.py:1765: UserWarning: Number of elements (1) in ['ndarray'] does not match number of Nodes (4); consider using an explicit input dictionary in this case, so that the assignment of data to objects is unambiguous.\n",
      "  warnings.warn(\n"
     ]
    },
    {
     "name": "stdout",
     "output_type": "stream",
     "text": [
      "2. CNN: accuracy = 53.43750000000001%, precision = 0.5447761194029851, recall = 0.8439306358381503, f1 = 0.6621315192743764\n",
      "Confusion matrix:\n",
      "[[ 25 122]\n",
      " [ 27 146]]\n"
     ]
    },
    {
     "name": "stderr",
     "output_type": "stream",
     "text": [
      "c:\\dev\\anaconda\\envs\\conda_tutorial\\lib\\site-packages\\nengo_dl\\converter.py:324: UserWarning: Layer type <class 'tensorflow.python.keras.layers.core.Dropout'> does not have a registered converter. Falling back to TensorNode.\n",
      "  warnings.warn(\n",
      "c:\\dev\\anaconda\\envs\\conda_tutorial\\lib\\site-packages\\nengo_dl\\converter.py:586: UserWarning: Activation type <function softmax_v2 at 0x000002B021647F70> does not have a native Nengo equivalent; falling back to a TensorNode\n",
      "  warnings.warn(\n"
     ]
    },
    {
     "name": "stdout",
     "output_type": "stream",
     "text": [
      "Build finished in 0:00:01                                                      \n",
      "Optimization finished in 0:00:00                                               \n",
      "Construction finished in 0:00:00                                               \n",
      "|           Constructing graph: pre-build stage (0%)           | ETA:  --:--:--"
     ]
    },
    {
     "name": "stderr",
     "output_type": "stream",
     "text": [
      "c:\\dev\\anaconda\\envs\\conda_tutorial\\lib\\site-packages\\nengo_dl\\simulator.py:1765: UserWarning: Number of elements (1) in ['ndarray'] does not match number of Nodes (4); consider using an explicit input dictionary in this case, so that the assignment of data to objects is unambiguous.\n",
      "  warnings.warn(\n"
     ]
    },
    {
     "name": "stdout",
     "output_type": "stream",
     "text": [
      "2. CNN (SNN conversion): accuracy = 42.8125%, precision = 0.25, recall = 0.028901734104046242, f1 = 0.05181347150259068\n",
      "Confusion matrix:\n",
      "[[132  15]\n",
      " [168   5]]\n",
      "Current iteration:  3\n",
      "|                     Building network (0%)                    | ETA:  --:--:--"
     ]
    },
    {
     "name": "stderr",
     "output_type": "stream",
     "text": [
      "c:\\dev\\anaconda\\envs\\conda_tutorial\\lib\\site-packages\\nengo_dl\\converter.py:324: UserWarning: Layer type <class 'tensorflow.python.keras.layers.core.Dropout'> does not have a registered converter. Falling back to TensorNode.\n",
      "  warnings.warn(\n",
      "c:\\dev\\anaconda\\envs\\conda_tutorial\\lib\\site-packages\\nengo_dl\\converter.py:586: UserWarning: Activation type <function softmax_v2 at 0x000002B021647F70> does not have a native Nengo equivalent; falling back to a TensorNode\n",
      "  warnings.warn(\n"
     ]
    },
    {
     "name": "stdout",
     "output_type": "stream",
     "text": [
      "Build finished in 0:00:01                                                      \n",
      "Optimization finished in 0:00:00                                               \n",
      "Construction finished in 0:00:00                                               \n",
      "Epoch 1/30\n",
      "|###           Constructing graph: build stage (5%)              | ETA: 0:00:00"
     ]
    },
    {
     "name": "stderr",
     "output_type": "stream",
     "text": [
      "c:\\dev\\anaconda\\envs\\conda_tutorial\\lib\\site-packages\\nengo_dl\\simulator.py:1927: UserWarning: Number of elements in input data (97) is not evenly divisible by Simulator.minibatch_size (16); input data will be truncated.\n",
      "  warnings.warn(\n",
      "c:\\dev\\anaconda\\envs\\conda_tutorial\\lib\\site-packages\\nengo_dl\\simulator.py:1927: UserWarning: Number of elements in input data (875) is not evenly divisible by Simulator.minibatch_size (16); input data will be truncated.\n",
      "  warnings.warn(\n"
     ]
    },
    {
     "name": "stdout",
     "output_type": "stream",
     "text": [
      "54/54 [==============================] - 8s 54ms/step - loss: 1.1481 - probe_loss: 1.1481 - probe_accuracy: 0.4866 - val_loss: 0.6948 - val_probe_loss: 0.6948 - val_probe_accuracy: 0.4583\n",
      "Epoch 2/30\n",
      "54/54 [==============================] - 1s 26ms/step - loss: 0.6990 - probe_loss: 0.6990 - probe_accuracy: 0.4580 - val_loss: 0.6916 - val_probe_loss: 0.6916 - val_probe_accuracy: 0.5417\n",
      "Epoch 3/30\n",
      "54/54 [==============================] - 1s 24ms/step - loss: 0.6932 - probe_loss: 0.6932 - probe_accuracy: 0.5076 - val_loss: 0.6924 - val_probe_loss: 0.6924 - val_probe_accuracy: 0.5417\n",
      "Epoch 4/30\n",
      "54/54 [==============================] - 1s 23ms/step - loss: 0.6943 - probe_loss: 0.6943 - probe_accuracy: 0.5417 - val_loss: 0.6920 - val_probe_loss: 0.6920 - val_probe_accuracy: 0.5417\n",
      "Epoch 5/30\n",
      "54/54 [==============================] - 1s 23ms/step - loss: 0.6934 - probe_loss: 0.6934 - probe_accuracy: 0.4759 - val_loss: 0.6918 - val_probe_loss: 0.6918 - val_probe_accuracy: 0.5417\n",
      "Epoch 6/30\n",
      "54/54 [==============================] - 1s 23ms/step - loss: 0.6927 - probe_loss: 0.6927 - probe_accuracy: 0.5029 - val_loss: 0.6929 - val_probe_loss: 0.6929 - val_probe_accuracy: 0.5521\n",
      "Epoch 7/30\n",
      "54/54 [==============================] - 1s 23ms/step - loss: 0.6939 - probe_loss: 0.6939 - probe_accuracy: 0.5359 - val_loss: 0.6912 - val_probe_loss: 0.6912 - val_probe_accuracy: 0.6042\n",
      "Epoch 8/30\n",
      "54/54 [==============================] - 1s 23ms/step - loss: 0.6900 - probe_loss: 0.6900 - probe_accuracy: 0.5356 - val_loss: 0.6927 - val_probe_loss: 0.6927 - val_probe_accuracy: 0.4896\n",
      "Epoch 9/30\n",
      "54/54 [==============================] - 1s 23ms/step - loss: 0.6926 - probe_loss: 0.6926 - probe_accuracy: 0.5153 - val_loss: 0.6919 - val_probe_loss: 0.6919 - val_probe_accuracy: 0.5104\n",
      "Epoch 10/30\n",
      "54/54 [==============================] - 1s 23ms/step - loss: 0.6907 - probe_loss: 0.6907 - probe_accuracy: 0.5372 - val_loss: 0.7988 - val_probe_loss: 0.7988 - val_probe_accuracy: 0.5000\n",
      "Epoch 11/30\n",
      "54/54 [==============================] - 1s 23ms/step - loss: 0.7003 - probe_loss: 0.7003 - probe_accuracy: 0.5053 - val_loss: 0.6925 - val_probe_loss: 0.6925 - val_probe_accuracy: 0.5417\n",
      "Epoch 12/30\n",
      "54/54 [==============================] - 1s 23ms/step - loss: 0.6927 - probe_loss: 0.6927 - probe_accuracy: 0.5020 - val_loss: 0.6897 - val_probe_loss: 0.6897 - val_probe_accuracy: 0.5312\n",
      "Epoch 13/30\n",
      "54/54 [==============================] - 1s 23ms/step - loss: 0.6942 - probe_loss: 0.6942 - probe_accuracy: 0.5729 - val_loss: 0.6912 - val_probe_loss: 0.6912 - val_probe_accuracy: 0.5312\n",
      "Epoch 14/30\n",
      "54/54 [==============================] - 1s 23ms/step - loss: 0.6820 - probe_loss: 0.6820 - probe_accuracy: 0.5805 - val_loss: 0.7035 - val_probe_loss: 0.7035 - val_probe_accuracy: 0.4375\n",
      "Epoch 15/30\n",
      "54/54 [==============================] - 1s 23ms/step - loss: 0.6698 - probe_loss: 0.6698 - probe_accuracy: 0.6051 - val_loss: 0.7077 - val_probe_loss: 0.7077 - val_probe_accuracy: 0.4583\n",
      "Epoch 16/30\n",
      "54/54 [==============================] - 1s 23ms/step - loss: 0.6708 - probe_loss: 0.6708 - probe_accuracy: 0.5855 - val_loss: 0.7071 - val_probe_loss: 0.7071 - val_probe_accuracy: 0.5625\n",
      "Epoch 17/30\n",
      "54/54 [==============================] - 1s 23ms/step - loss: 0.6654 - probe_loss: 0.6654 - probe_accuracy: 0.5901 - val_loss: 0.7694 - val_probe_loss: 0.7694 - val_probe_accuracy: 0.5521\n",
      "Epoch 18/30\n",
      "54/54 [==============================] - 1s 23ms/step - loss: 0.6530 - probe_loss: 0.6530 - probe_accuracy: 0.6010 - val_loss: 0.7967 - val_probe_loss: 0.7967 - val_probe_accuracy: 0.4688\n",
      "Epoch 19/30\n",
      "54/54 [==============================] - 1s 23ms/step - loss: 0.6399 - probe_loss: 0.6399 - probe_accuracy: 0.6284 - val_loss: 0.7382 - val_probe_loss: 0.7382 - val_probe_accuracy: 0.4792\n",
      "Epoch 20/30\n",
      "54/54 [==============================] - 1s 23ms/step - loss: 0.6300 - probe_loss: 0.6300 - probe_accuracy: 0.6409 - val_loss: 0.7882 - val_probe_loss: 0.7882 - val_probe_accuracy: 0.4688\n",
      "Restoring model weights from the end of the best epoch.\n",
      "Epoch 00020: early stopping\n",
      "|##############Constructing graph: build stage (29%)             | ETA: 0:00:00"
     ]
    },
    {
     "name": "stderr",
     "output_type": "stream",
     "text": [
      "c:\\dev\\anaconda\\envs\\conda_tutorial\\lib\\site-packages\\nengo_dl\\simulator.py:1765: UserWarning: Number of elements (1) in ['ndarray'] does not match number of Nodes (4); consider using an explicit input dictionary in this case, so that the assignment of data to objects is unambiguous.\n",
      "  warnings.warn(\n"
     ]
    },
    {
     "name": "stdout",
     "output_type": "stream",
     "text": [
      "3. CNN: accuracy = 53.75%, precision = 0.5541125541125541, recall = 0.7398843930635838, f1 = 0.6336633663366337\n",
      "Confusion matrix:\n",
      "[[ 44 103]\n",
      " [ 45 128]]\n",
      "|                     Building network (0%)                    | ETA:  --:--:--"
     ]
    },
    {
     "name": "stderr",
     "output_type": "stream",
     "text": [
      "c:\\dev\\anaconda\\envs\\conda_tutorial\\lib\\site-packages\\nengo_dl\\converter.py:324: UserWarning: Layer type <class 'tensorflow.python.keras.layers.core.Dropout'> does not have a registered converter. Falling back to TensorNode.\n",
      "  warnings.warn(\n",
      "c:\\dev\\anaconda\\envs\\conda_tutorial\\lib\\site-packages\\nengo_dl\\converter.py:586: UserWarning: Activation type <function softmax_v2 at 0x000002B021647F70> does not have a native Nengo equivalent; falling back to a TensorNode\n",
      "  warnings.warn(\n"
     ]
    },
    {
     "name": "stdout",
     "output_type": "stream",
     "text": [
      "Build finished in 0:00:01                                                      \n",
      "Optimization finished in 0:00:00                                               \n",
      "Construction finished in 0:00:00                                               \n",
      "Constructing graph: pre-build stage finished in 0:00:00                        "
     ]
    },
    {
     "name": "stderr",
     "output_type": "stream",
     "text": [
      "c:\\dev\\anaconda\\envs\\conda_tutorial\\lib\\site-packages\\nengo_dl\\simulator.py:1765: UserWarning: Number of elements (1) in ['ndarray'] does not match number of Nodes (4); consider using an explicit input dictionary in this case, so that the assignment of data to objects is unambiguous.\n",
      "  warnings.warn(\n"
     ]
    },
    {
     "name": "stdout",
     "output_type": "stream",
     "text": [
      "3. CNN (SNN conversion): accuracy = 50.31250000000001%, precision = 0.5897435897435898, recall = 0.2658959537572254, f1 = 0.3665338645418327\n",
      "Confusion matrix:\n",
      "[[115  32]\n",
      " [127  46]]\n",
      "Current iteration:  4\n",
      "|                     Building network (0%)                    | ETA:  --:--:--"
     ]
    },
    {
     "name": "stderr",
     "output_type": "stream",
     "text": [
      "c:\\dev\\anaconda\\envs\\conda_tutorial\\lib\\site-packages\\nengo_dl\\converter.py:324: UserWarning: Layer type <class 'tensorflow.python.keras.layers.core.Dropout'> does not have a registered converter. Falling back to TensorNode.\n",
      "  warnings.warn(\n",
      "c:\\dev\\anaconda\\envs\\conda_tutorial\\lib\\site-packages\\nengo_dl\\converter.py:586: UserWarning: Activation type <function softmax_v2 at 0x000002B021647F70> does not have a native Nengo equivalent; falling back to a TensorNode\n",
      "  warnings.warn(\n"
     ]
    },
    {
     "name": "stdout",
     "output_type": "stream",
     "text": [
      "Build finished in 0:00:01                                                      \n",
      "Optimization finished in 0:00:00                                               \n",
      "Construction finished in 0:00:00                                               \n",
      "Epoch 1/30\n",
      "|###           Constructing graph: build stage (5%)              | ETA: 0:00:01"
     ]
    },
    {
     "name": "stderr",
     "output_type": "stream",
     "text": [
      "c:\\dev\\anaconda\\envs\\conda_tutorial\\lib\\site-packages\\nengo_dl\\simulator.py:1927: UserWarning: Number of elements in input data (97) is not evenly divisible by Simulator.minibatch_size (16); input data will be truncated.\n",
      "  warnings.warn(\n",
      "c:\\dev\\anaconda\\envs\\conda_tutorial\\lib\\site-packages\\nengo_dl\\simulator.py:1927: UserWarning: Number of elements in input data (875) is not evenly divisible by Simulator.minibatch_size (16); input data will be truncated.\n",
      "  warnings.warn(\n"
     ]
    },
    {
     "name": "stdout",
     "output_type": "stream",
     "text": [
      "54/54 [==============================] - 8s 57ms/step - loss: 1.1222 - probe_loss: 1.1222 - probe_accuracy: 0.5107 - val_loss: 0.6945 - val_probe_loss: 0.6945 - val_probe_accuracy: 0.4896\n",
      "Epoch 2/30\n",
      "54/54 [==============================] - 1s 25ms/step - loss: 0.6932 - probe_loss: 0.6932 - probe_accuracy: 0.5111 - val_loss: 0.6940 - val_probe_loss: 0.6940 - val_probe_accuracy: 0.4896\n",
      "Epoch 3/30\n",
      "54/54 [==============================] - 1s 24ms/step - loss: 0.6936 - probe_loss: 0.6936 - probe_accuracy: 0.5046 - val_loss: 0.6940 - val_probe_loss: 0.6940 - val_probe_accuracy: 0.4896\n",
      "Epoch 4/30\n",
      "54/54 [==============================] - 1s 24ms/step - loss: 0.6918 - probe_loss: 0.6918 - probe_accuracy: 0.5322 - val_loss: 0.6945 - val_probe_loss: 0.6945 - val_probe_accuracy: 0.4896\n",
      "Epoch 5/30\n",
      "54/54 [==============================] - 1s 24ms/step - loss: 0.6927 - probe_loss: 0.6927 - probe_accuracy: 0.5170 - val_loss: 0.6936 - val_probe_loss: 0.6936 - val_probe_accuracy: 0.4896\n",
      "Epoch 6/30\n",
      "54/54 [==============================] - 1s 24ms/step - loss: 0.6927 - probe_loss: 0.6927 - probe_accuracy: 0.5188 - val_loss: 0.6941 - val_probe_loss: 0.6941 - val_probe_accuracy: 0.4896\n",
      "Epoch 7/30\n",
      "54/54 [==============================] - 1s 24ms/step - loss: 0.6924 - probe_loss: 0.6924 - probe_accuracy: 0.5283 - val_loss: 0.6938 - val_probe_loss: 0.6938 - val_probe_accuracy: 0.4896\n",
      "Epoch 8/30\n",
      "54/54 [==============================] - 1s 24ms/step - loss: 0.6932 - probe_loss: 0.6932 - probe_accuracy: 0.5167 - val_loss: 0.6934 - val_probe_loss: 0.6934 - val_probe_accuracy: 0.4896\n",
      "Epoch 9/30\n",
      "54/54 [==============================] - 1s 24ms/step - loss: 0.6932 - probe_loss: 0.6932 - probe_accuracy: 0.4952 - val_loss: 0.6937 - val_probe_loss: 0.6937 - val_probe_accuracy: 0.4896\n",
      "Epoch 10/30\n",
      "54/54 [==============================] - 1s 24ms/step - loss: 0.6928 - probe_loss: 0.6928 - probe_accuracy: 0.5231 - val_loss: 0.6937 - val_probe_loss: 0.6937 - val_probe_accuracy: 0.4792\n",
      "Epoch 11/30\n",
      "54/54 [==============================] - 1s 24ms/step - loss: 0.6945 - probe_loss: 0.6945 - probe_accuracy: 0.5003 - val_loss: 0.6939 - val_probe_loss: 0.6939 - val_probe_accuracy: 0.4896\n",
      "Epoch 12/30\n",
      "54/54 [==============================] - 1s 24ms/step - loss: 0.6925 - probe_loss: 0.6925 - probe_accuracy: 0.5264 - val_loss: 0.6943 - val_probe_loss: 0.6943 - val_probe_accuracy: 0.4583\n",
      "Epoch 13/30\n",
      "54/54 [==============================] - 1s 24ms/step - loss: 0.6927 - probe_loss: 0.6927 - probe_accuracy: 0.5203 - val_loss: 0.7004 - val_probe_loss: 0.7004 - val_probe_accuracy: 0.4792\n",
      "Epoch 14/30\n",
      "54/54 [==============================] - 1s 24ms/step - loss: 0.6924 - probe_loss: 0.6924 - probe_accuracy: 0.5069 - val_loss: 0.7063 - val_probe_loss: 0.7063 - val_probe_accuracy: 0.4583\n",
      "Epoch 15/30\n",
      "54/54 [==============================] - 1s 24ms/step - loss: 0.6841 - probe_loss: 0.6841 - probe_accuracy: 0.5615 - val_loss: 0.6890 - val_probe_loss: 0.6890 - val_probe_accuracy: 0.5417\n",
      "Epoch 16/30\n",
      "54/54 [==============================] - 1s 24ms/step - loss: 0.6965 - probe_loss: 0.6965 - probe_accuracy: 0.5084 - val_loss: 0.7042 - val_probe_loss: 0.7042 - val_probe_accuracy: 0.4375\n",
      "Epoch 17/30\n",
      "54/54 [==============================] - 1s 25ms/step - loss: 0.6848 - probe_loss: 0.6848 - probe_accuracy: 0.5450 - val_loss: 0.7178 - val_probe_loss: 0.7178 - val_probe_accuracy: 0.4167\n",
      "Epoch 18/30\n",
      "54/54 [==============================] - 1s 24ms/step - loss: 0.6925 - probe_loss: 0.6925 - probe_accuracy: 0.5234 - val_loss: 0.6944 - val_probe_loss: 0.6944 - val_probe_accuracy: 0.4792\n",
      "Epoch 19/30\n",
      "54/54 [==============================] - 1s 24ms/step - loss: 0.6929 - probe_loss: 0.6929 - probe_accuracy: 0.5307 - val_loss: 0.7019 - val_probe_loss: 0.7019 - val_probe_accuracy: 0.4375\n",
      "Epoch 20/30\n",
      "54/54 [==============================] - 1s 24ms/step - loss: 0.6871 - probe_loss: 0.6871 - probe_accuracy: 0.5347 - val_loss: 0.7117 - val_probe_loss: 0.7117 - val_probe_accuracy: 0.4792\n",
      "Epoch 21/30\n",
      "54/54 [==============================] - 1s 24ms/step - loss: 0.6760 - probe_loss: 0.6760 - probe_accuracy: 0.5906 - val_loss: 0.7085 - val_probe_loss: 0.7085 - val_probe_accuracy: 0.4583\n",
      "Epoch 22/30\n",
      "54/54 [==============================] - 1s 24ms/step - loss: 0.6740 - probe_loss: 0.6740 - probe_accuracy: 0.5865 - val_loss: 0.7914 - val_probe_loss: 0.7914 - val_probe_accuracy: 0.4271\n",
      "Epoch 23/30\n",
      "54/54 [==============================] - 1s 24ms/step - loss: 0.6507 - probe_loss: 0.6507 - probe_accuracy: 0.6359 - val_loss: 0.7293 - val_probe_loss: 0.7293 - val_probe_accuracy: 0.4375\n",
      "Restoring model weights from the end of the best epoch.\n",
      "Epoch 00023: early stopping\n",
      "|##############Constructing graph: build stage (26%)             | ETA: 0:00:00"
     ]
    },
    {
     "name": "stderr",
     "output_type": "stream",
     "text": [
      "c:\\dev\\anaconda\\envs\\conda_tutorial\\lib\\site-packages\\nengo_dl\\simulator.py:1765: UserWarning: Number of elements (1) in ['ndarray'] does not match number of Nodes (4); consider using an explicit input dictionary in this case, so that the assignment of data to objects is unambiguous.\n",
      "  warnings.warn(\n"
     ]
    },
    {
     "name": "stdout",
     "output_type": "stream",
     "text": [
      "4. CNN: accuracy = 53.125%, precision = 0.5732484076433121, recall = 0.5202312138728323, f1 = 0.5454545454545454\n",
      "Confusion matrix:\n",
      "[[80 67]\n",
      " [83 90]]\n"
     ]
    },
    {
     "name": "stderr",
     "output_type": "stream",
     "text": [
      "c:\\dev\\anaconda\\envs\\conda_tutorial\\lib\\site-packages\\nengo_dl\\converter.py:324: UserWarning: Layer type <class 'tensorflow.python.keras.layers.core.Dropout'> does not have a registered converter. Falling back to TensorNode.\n",
      "  warnings.warn(\n",
      "c:\\dev\\anaconda\\envs\\conda_tutorial\\lib\\site-packages\\nengo_dl\\converter.py:586: UserWarning: Activation type <function softmax_v2 at 0x000002B021647F70> does not have a native Nengo equivalent; falling back to a TensorNode\n",
      "  warnings.warn(\n"
     ]
    },
    {
     "name": "stdout",
     "output_type": "stream",
     "text": [
      "Build finished in 0:00:01                                                      \n",
      "Optimization finished in 0:00:00                                               \n",
      "Construction finished in 0:00:00                                               \n",
      "|             Constructing graph: build stage (0%)             | ETA:  --:--:--"
     ]
    },
    {
     "name": "stderr",
     "output_type": "stream",
     "text": [
      "c:\\dev\\anaconda\\envs\\conda_tutorial\\lib\\site-packages\\nengo_dl\\simulator.py:1765: UserWarning: Number of elements (1) in ['ndarray'] does not match number of Nodes (4); consider using an explicit input dictionary in this case, so that the assignment of data to objects is unambiguous.\n",
      "  warnings.warn(\n"
     ]
    },
    {
     "name": "stdout",
     "output_type": "stream",
     "text": [
      "4. CNN (SNN conversion): accuracy = 49.6875%, precision = 0.536144578313253, recall = 0.5144508670520231, f1 = 0.5250737463126844\n",
      "Confusion matrix:\n",
      "[[70 77]\n",
      " [84 89]]\n",
      "Current iteration:  5\n",
      "|                     Building network (0%)                    | ETA:  --:--:--"
     ]
    },
    {
     "name": "stderr",
     "output_type": "stream",
     "text": [
      "c:\\dev\\anaconda\\envs\\conda_tutorial\\lib\\site-packages\\nengo_dl\\converter.py:324: UserWarning: Layer type <class 'tensorflow.python.keras.layers.core.Dropout'> does not have a registered converter. Falling back to TensorNode.\n",
      "  warnings.warn(\n",
      "c:\\dev\\anaconda\\envs\\conda_tutorial\\lib\\site-packages\\nengo_dl\\converter.py:586: UserWarning: Activation type <function softmax_v2 at 0x000002B021647F70> does not have a native Nengo equivalent; falling back to a TensorNode\n",
      "  warnings.warn(\n"
     ]
    },
    {
     "name": "stdout",
     "output_type": "stream",
     "text": [
      "Build finished in 0:00:01                                                      \n",
      "Optimization finished in 0:00:00                                               \n",
      "Construction finished in 0:00:00                                               \n",
      "Epoch 1/30\n",
      "|###           Constructing graph: build stage (5%)              | ETA: 0:00:01"
     ]
    },
    {
     "name": "stderr",
     "output_type": "stream",
     "text": [
      "c:\\dev\\anaconda\\envs\\conda_tutorial\\lib\\site-packages\\nengo_dl\\simulator.py:1927: UserWarning: Number of elements in input data (97) is not evenly divisible by Simulator.minibatch_size (16); input data will be truncated.\n",
      "  warnings.warn(\n",
      "c:\\dev\\anaconda\\envs\\conda_tutorial\\lib\\site-packages\\nengo_dl\\simulator.py:1927: UserWarning: Number of elements in input data (875) is not evenly divisible by Simulator.minibatch_size (16); input data will be truncated.\n",
      "  warnings.warn(\n"
     ]
    },
    {
     "name": "stdout",
     "output_type": "stream",
     "text": [
      "54/54 [==============================] - 8s 57ms/step - loss: 1.1664 - probe_loss: 1.1664 - probe_accuracy: 0.4665 - val_loss: 0.6928 - val_probe_loss: 0.6928 - val_probe_accuracy: 0.5729\n",
      "Epoch 2/30\n",
      "54/54 [==============================] - 1s 24ms/step - loss: 0.6930 - probe_loss: 0.6930 - probe_accuracy: 0.4945 - val_loss: 0.6918 - val_probe_loss: 0.6918 - val_probe_accuracy: 0.5833\n",
      "Epoch 3/30\n",
      "54/54 [==============================] - 1s 25ms/step - loss: 0.6935 - probe_loss: 0.6935 - probe_accuracy: 0.4933 - val_loss: 0.6927 - val_probe_loss: 0.6927 - val_probe_accuracy: 0.5729\n",
      "Epoch 4/30\n",
      "54/54 [==============================] - 1s 24ms/step - loss: 0.6928 - probe_loss: 0.6928 - probe_accuracy: 0.4998 - val_loss: 0.6889 - val_probe_loss: 0.6889 - val_probe_accuracy: 0.5938\n",
      "Epoch 5/30\n",
      "54/54 [==============================] - 1s 24ms/step - loss: 0.6891 - probe_loss: 0.6891 - probe_accuracy: 0.5648 - val_loss: 0.6992 - val_probe_loss: 0.6992 - val_probe_accuracy: 0.3854\n",
      "Epoch 6/30\n",
      "54/54 [==============================] - ETA: 0s - loss: 0.6864 - probe_loss: 0.6864 - probe_accuracy: 0.537 - 1s 24ms/step - loss: 0.6866 - probe_loss: 0.6866 - probe_accuracy: 0.5362 - val_loss: 0.7118 - val_probe_loss: 0.7118 - val_probe_accuracy: 0.4896\n",
      "Epoch 7/30\n",
      "54/54 [==============================] - 1s 24ms/step - loss: 0.6824 - probe_loss: 0.6824 - probe_accuracy: 0.5388 - val_loss: 0.6963 - val_probe_loss: 0.6963 - val_probe_accuracy: 0.4688\n",
      "Epoch 8/30\n",
      "54/54 [==============================] - 1s 24ms/step - loss: 0.6820 - probe_loss: 0.6820 - probe_accuracy: 0.5931 - val_loss: 0.7005 - val_probe_loss: 0.7005 - val_probe_accuracy: 0.4792\n",
      "Epoch 9/30\n",
      "54/54 [==============================] - 1s 24ms/step - loss: 0.6809 - probe_loss: 0.6809 - probe_accuracy: 0.5613 - val_loss: 0.7188 - val_probe_loss: 0.7188 - val_probe_accuracy: 0.5833\n",
      "Epoch 10/30\n",
      "54/54 [==============================] - 1s 23ms/step - loss: 0.6756 - probe_loss: 0.6756 - probe_accuracy: 0.6071 - val_loss: 0.7136 - val_probe_loss: 0.7136 - val_probe_accuracy: 0.4583\n",
      "Epoch 11/30\n",
      "54/54 [==============================] - 1s 23ms/step - loss: 0.6511 - probe_loss: 0.6511 - probe_accuracy: 0.6211 - val_loss: 0.7022 - val_probe_loss: 0.7022 - val_probe_accuracy: 0.5312\n",
      "Epoch 12/30\n",
      "54/54 [==============================] - 1s 23ms/step - loss: 0.6567 - probe_loss: 0.6567 - probe_accuracy: 0.6384 - val_loss: 0.7698 - val_probe_loss: 0.7698 - val_probe_accuracy: 0.4375\n",
      "Restoring model weights from the end of the best epoch.\n",
      "Epoch 00012: early stopping\n",
      "|###           Constructing graph: build stage (5%)              | ETA: 0:00:01"
     ]
    },
    {
     "name": "stderr",
     "output_type": "stream",
     "text": [
      "c:\\dev\\anaconda\\envs\\conda_tutorial\\lib\\site-packages\\nengo_dl\\simulator.py:1765: UserWarning: Number of elements (1) in ['ndarray'] does not match number of Nodes (4); consider using an explicit input dictionary in this case, so that the assignment of data to objects is unambiguous.\n",
      "  warnings.warn(\n"
     ]
    },
    {
     "name": "stdout",
     "output_type": "stream",
     "text": [
      "5. CNN: accuracy = 54.37499999999999%, precision = 0.542319749216301, recall = 1.0, f1 = 0.7032520325203252\n",
      "Confusion matrix:\n",
      "[[  1 146]\n",
      " [  0 173]]\n",
      "|                     Building network (0%)                    | ETA:  --:--:--"
     ]
    },
    {
     "name": "stderr",
     "output_type": "stream",
     "text": [
      "c:\\dev\\anaconda\\envs\\conda_tutorial\\lib\\site-packages\\nengo_dl\\converter.py:324: UserWarning: Layer type <class 'tensorflow.python.keras.layers.core.Dropout'> does not have a registered converter. Falling back to TensorNode.\n",
      "  warnings.warn(\n",
      "c:\\dev\\anaconda\\envs\\conda_tutorial\\lib\\site-packages\\nengo_dl\\converter.py:586: UserWarning: Activation type <function softmax_v2 at 0x000002B021647F70> does not have a native Nengo equivalent; falling back to a TensorNode\n",
      "  warnings.warn(\n"
     ]
    },
    {
     "name": "stdout",
     "output_type": "stream",
     "text": [
      "Build finished in 0:00:01                                                      \n",
      "Optimization finished in 0:00:00                                               \n",
      "Construction finished in 0:00:00                                               \n",
      "|           Constructing graph: pre-build stage (0%)           | ETA:  --:--:--"
     ]
    },
    {
     "name": "stderr",
     "output_type": "stream",
     "text": [
      "c:\\dev\\anaconda\\envs\\conda_tutorial\\lib\\site-packages\\nengo_dl\\simulator.py:1765: UserWarning: Number of elements (1) in ['ndarray'] does not match number of Nodes (4); consider using an explicit input dictionary in this case, so that the assignment of data to objects is unambiguous.\n",
      "  warnings.warn(\n"
     ]
    },
    {
     "name": "stdout",
     "output_type": "stream",
     "text": [
      "5. CNN (SNN conversion): accuracy = 49.0625%, precision = 0.5198412698412699, recall = 0.7572254335260116, f1 = 0.6164705882352942\n",
      "Confusion matrix:\n",
      "[[ 26 121]\n",
      " [ 42 131]]\n",
      "Current iteration:  6\n",
      "|                     Building network (0%)                    | ETA:  --:--:--"
     ]
    },
    {
     "name": "stderr",
     "output_type": "stream",
     "text": [
      "c:\\dev\\anaconda\\envs\\conda_tutorial\\lib\\site-packages\\nengo_dl\\converter.py:324: UserWarning: Layer type <class 'tensorflow.python.keras.layers.core.Dropout'> does not have a registered converter. Falling back to TensorNode.\n",
      "  warnings.warn(\n",
      "c:\\dev\\anaconda\\envs\\conda_tutorial\\lib\\site-packages\\nengo_dl\\converter.py:586: UserWarning: Activation type <function softmax_v2 at 0x000002B021647F70> does not have a native Nengo equivalent; falling back to a TensorNode\n",
      "  warnings.warn(\n"
     ]
    },
    {
     "name": "stdout",
     "output_type": "stream",
     "text": [
      "Build finished in 0:00:01                                                      \n",
      "Optimization finished in 0:00:00                                               \n",
      "Construction finished in 0:00:00                                               \n",
      "Epoch 1/30\n",
      "|###           Constructing graph: build stage (5%)              | ETA: 0:00:01"
     ]
    },
    {
     "name": "stderr",
     "output_type": "stream",
     "text": [
      "c:\\dev\\anaconda\\envs\\conda_tutorial\\lib\\site-packages\\nengo_dl\\simulator.py:1927: UserWarning: Number of elements in input data (97) is not evenly divisible by Simulator.minibatch_size (16); input data will be truncated.\n",
      "  warnings.warn(\n",
      "c:\\dev\\anaconda\\envs\\conda_tutorial\\lib\\site-packages\\nengo_dl\\simulator.py:1927: UserWarning: Number of elements in input data (875) is not evenly divisible by Simulator.minibatch_size (16); input data will be truncated.\n",
      "  warnings.warn(\n"
     ]
    },
    {
     "name": "stdout",
     "output_type": "stream",
     "text": [
      "54/54 [==============================] - 8s 55ms/step - loss: 1.3406 - probe_loss: 1.3406 - probe_accuracy: 0.5097 - val_loss: 0.6932 - val_probe_loss: 0.6932 - val_probe_accuracy: 0.5104\n",
      "Epoch 2/30\n",
      "54/54 [==============================] - 1s 23ms/step - loss: 0.6928 - probe_loss: 0.6928 - probe_accuracy: 0.5506 - val_loss: 0.6931 - val_probe_loss: 0.6931 - val_probe_accuracy: 0.5000\n",
      "Epoch 3/30\n",
      "54/54 [==============================] - 1s 24ms/step - loss: 0.6939 - probe_loss: 0.6939 - probe_accuracy: 0.5279 - val_loss: 0.6930 - val_probe_loss: 0.6930 - val_probe_accuracy: 0.5104\n",
      "Epoch 4/30\n",
      "54/54 [==============================] - 1s 24ms/step - loss: 0.6930 - probe_loss: 0.6930 - probe_accuracy: 0.5278 - val_loss: 0.6946 - val_probe_loss: 0.6946 - val_probe_accuracy: 0.4792\n",
      "Epoch 5/30\n",
      "54/54 [==============================] - 1s 24ms/step - loss: 0.6929 - probe_loss: 0.6929 - probe_accuracy: 0.4983 - val_loss: 0.6927 - val_probe_loss: 0.6927 - val_probe_accuracy: 0.5000\n",
      "Epoch 6/30\n",
      "54/54 [==============================] - 1s 24ms/step - loss: 0.6929 - probe_loss: 0.6929 - probe_accuracy: 0.5230 - val_loss: 0.6991 - val_probe_loss: 0.6991 - val_probe_accuracy: 0.4271\n",
      "Epoch 7/30\n",
      "54/54 [==============================] - 1s 24ms/step - loss: 0.6891 - probe_loss: 0.6891 - probe_accuracy: 0.5771 - val_loss: 0.7006 - val_probe_loss: 0.7006 - val_probe_accuracy: 0.4896\n",
      "Epoch 8/30\n",
      "54/54 [==============================] - 1s 23ms/step - loss: 0.6836 - probe_loss: 0.6836 - probe_accuracy: 0.5531 - val_loss: 0.7106 - val_probe_loss: 0.7106 - val_probe_accuracy: 0.4583\n",
      "Epoch 9/30\n",
      "54/54 [==============================] - 1s 23ms/step - loss: 0.6855 - probe_loss: 0.6855 - probe_accuracy: 0.5645 - val_loss: 0.7026 - val_probe_loss: 0.7026 - val_probe_accuracy: 0.4896\n",
      "Epoch 10/30\n",
      "54/54 [==============================] - 1s 24ms/step - loss: 0.6798 - probe_loss: 0.6798 - probe_accuracy: 0.5867 - val_loss: 0.7258 - val_probe_loss: 0.7258 - val_probe_accuracy: 0.4688\n",
      "Epoch 11/30\n",
      "54/54 [==============================] - 1s 24ms/step - loss: 0.6675 - probe_loss: 0.6675 - probe_accuracy: 0.5859 - val_loss: 0.7355 - val_probe_loss: 0.7355 - val_probe_accuracy: 0.4167\n",
      "Epoch 12/30\n",
      "54/54 [==============================] - 1s 24ms/step - loss: 0.6639 - probe_loss: 0.6639 - probe_accuracy: 0.6396 - val_loss: 0.7603 - val_probe_loss: 0.7603 - val_probe_accuracy: 0.4583\n",
      "Epoch 13/30\n",
      "54/54 [==============================] - 1s 24ms/step - loss: 0.6342 - probe_loss: 0.6342 - probe_accuracy: 0.6137 - val_loss: 0.7190 - val_probe_loss: 0.7190 - val_probe_accuracy: 0.5000\n",
      "Restoring model weights from the end of the best epoch.\n",
      "Epoch 00013: early stopping\n",
      "|#             Constructing graph: build stage (2%)              | ETA: 0:00:02"
     ]
    },
    {
     "name": "stderr",
     "output_type": "stream",
     "text": [
      "c:\\dev\\anaconda\\envs\\conda_tutorial\\lib\\site-packages\\nengo_dl\\simulator.py:1765: UserWarning: Number of elements (1) in ['ndarray'] does not match number of Nodes (4); consider using an explicit input dictionary in this case, so that the assignment of data to objects is unambiguous.\n",
      "  warnings.warn(\n"
     ]
    },
    {
     "name": "stdout",
     "output_type": "stream",
     "text": [
      "6. CNN: accuracy = 53.125%, precision = 0.5427509293680297, recall = 0.8439306358381503, f1 = 0.6606334841628959\n",
      "Confusion matrix:\n",
      "[[ 24 123]\n",
      " [ 27 146]]\n",
      "|                     Building network (0%)                    | ETA:  --:--:--"
     ]
    },
    {
     "name": "stderr",
     "output_type": "stream",
     "text": [
      "c:\\dev\\anaconda\\envs\\conda_tutorial\\lib\\site-packages\\nengo_dl\\converter.py:324: UserWarning: Layer type <class 'tensorflow.python.keras.layers.core.Dropout'> does not have a registered converter. Falling back to TensorNode.\n",
      "  warnings.warn(\n",
      "c:\\dev\\anaconda\\envs\\conda_tutorial\\lib\\site-packages\\nengo_dl\\converter.py:586: UserWarning: Activation type <function softmax_v2 at 0x000002B021647F70> does not have a native Nengo equivalent; falling back to a TensorNode\n",
      "  warnings.warn(\n"
     ]
    },
    {
     "name": "stdout",
     "output_type": "stream",
     "text": [
      "Build finished in 0:00:01                                                      \n",
      "Optimization finished in 0:00:00                                               \n",
      "Construction finished in 0:00:00                                               \n",
      "Constructing graph: pre-build stage finished in 0:00:00                        "
     ]
    },
    {
     "name": "stderr",
     "output_type": "stream",
     "text": [
      "c:\\dev\\anaconda\\envs\\conda_tutorial\\lib\\site-packages\\nengo_dl\\simulator.py:1765: UserWarning: Number of elements (1) in ['ndarray'] does not match number of Nodes (4); consider using an explicit input dictionary in this case, so that the assignment of data to objects is unambiguous.\n",
      "  warnings.warn(\n"
     ]
    },
    {
     "name": "stdout",
     "output_type": "stream",
     "text": [
      "6. CNN (SNN conversion): accuracy = 54.37499999999999%, precision = 0.5467128027681661, recall = 0.9132947976878613, f1 = 0.683982683982684\n",
      "Confusion matrix:\n",
      "[[ 16 131]\n",
      " [ 15 158]]\n",
      "Current iteration:  7\n",
      "|                     Building network (0%)                    | ETA:  --:--:--"
     ]
    },
    {
     "name": "stderr",
     "output_type": "stream",
     "text": [
      "c:\\dev\\anaconda\\envs\\conda_tutorial\\lib\\site-packages\\nengo_dl\\converter.py:324: UserWarning: Layer type <class 'tensorflow.python.keras.layers.core.Dropout'> does not have a registered converter. Falling back to TensorNode.\n",
      "  warnings.warn(\n",
      "c:\\dev\\anaconda\\envs\\conda_tutorial\\lib\\site-packages\\nengo_dl\\converter.py:586: UserWarning: Activation type <function softmax_v2 at 0x000002B021647F70> does not have a native Nengo equivalent; falling back to a TensorNode\n",
      "  warnings.warn(\n"
     ]
    },
    {
     "name": "stdout",
     "output_type": "stream",
     "text": [
      "Build finished in 0:00:01                                                      \n",
      "Optimization finished in 0:00:00                                               \n",
      "Construction finished in 0:00:00                                               \n",
      "Epoch 1/30\n",
      "|###           Constructing graph: build stage (5%)              | ETA: 0:00:01"
     ]
    },
    {
     "name": "stderr",
     "output_type": "stream",
     "text": [
      "c:\\dev\\anaconda\\envs\\conda_tutorial\\lib\\site-packages\\nengo_dl\\simulator.py:1927: UserWarning: Number of elements in input data (97) is not evenly divisible by Simulator.minibatch_size (16); input data will be truncated.\n",
      "  warnings.warn(\n",
      "c:\\dev\\anaconda\\envs\\conda_tutorial\\lib\\site-packages\\nengo_dl\\simulator.py:1927: UserWarning: Number of elements in input data (875) is not evenly divisible by Simulator.minibatch_size (16); input data will be truncated.\n",
      "  warnings.warn(\n"
     ]
    },
    {
     "name": "stdout",
     "output_type": "stream",
     "text": [
      "54/54 [==============================] - 8s 56ms/step - loss: 1.2225 - probe_loss: 1.2225 - probe_accuracy: 0.5216 - val_loss: 0.6929 - val_probe_loss: 0.6929 - val_probe_accuracy: 0.5104\n",
      "Epoch 2/30\n",
      "54/54 [==============================] - 1s 24ms/step - loss: 0.6934 - probe_loss: 0.6934 - probe_accuracy: 0.4987 - val_loss: 0.6923 - val_probe_loss: 0.6923 - val_probe_accuracy: 0.5312\n",
      "Epoch 3/30\n",
      "54/54 [==============================] - 1s 24ms/step - loss: 0.6936 - probe_loss: 0.6936 - probe_accuracy: 0.4756 - val_loss: 0.6926 - val_probe_loss: 0.6926 - val_probe_accuracy: 0.5208\n",
      "Epoch 4/30\n",
      "54/54 [==============================] - 1s 25ms/step - loss: 0.6967 - probe_loss: 0.6967 - probe_accuracy: 0.5135 - val_loss: 0.6936 - val_probe_loss: 0.6936 - val_probe_accuracy: 0.5000\n",
      "Epoch 5/30\n",
      "54/54 [==============================] - 1s 25ms/step - loss: 0.6898 - probe_loss: 0.6898 - probe_accuracy: 0.5260 - val_loss: 0.6964 - val_probe_loss: 0.6964 - val_probe_accuracy: 0.4792\n",
      "Epoch 6/30\n",
      "54/54 [==============================] - 1s 24ms/step - loss: 0.6865 - probe_loss: 0.6865 - probe_accuracy: 0.5585 - val_loss: 0.7321 - val_probe_loss: 0.7321 - val_probe_accuracy: 0.5208\n",
      "Epoch 7/30\n",
      "54/54 [==============================] - 1s 24ms/step - loss: 0.6950 - probe_loss: 0.6950 - probe_accuracy: 0.5486 - val_loss: 0.6940 - val_probe_loss: 0.6940 - val_probe_accuracy: 0.5000\n",
      "Epoch 8/30\n",
      "54/54 [==============================] - 1s 24ms/step - loss: 0.6862 - probe_loss: 0.6862 - probe_accuracy: 0.5960 - val_loss: 0.7186 - val_probe_loss: 0.7186 - val_probe_accuracy: 0.3854\n",
      "Epoch 9/30\n",
      "54/54 [==============================] - 1s 24ms/step - loss: 0.6800 - probe_loss: 0.6800 - probe_accuracy: 0.5677 - val_loss: 0.6974 - val_probe_loss: 0.6974 - val_probe_accuracy: 0.4792\n",
      "Epoch 10/30\n",
      "54/54 [==============================] - 1s 24ms/step - loss: 0.6724 - probe_loss: 0.6724 - probe_accuracy: 0.5998 - val_loss: 0.6976 - val_probe_loss: 0.6976 - val_probe_accuracy: 0.5312\n",
      "Restoring model weights from the end of the best epoch.\n",
      "Epoch 00010: early stopping\n",
      "|##############Constructing graph: build stage (29%)             | ETA: 0:00:00"
     ]
    },
    {
     "name": "stderr",
     "output_type": "stream",
     "text": [
      "c:\\dev\\anaconda\\envs\\conda_tutorial\\lib\\site-packages\\nengo_dl\\simulator.py:1765: UserWarning: Number of elements (1) in ['ndarray'] does not match number of Nodes (4); consider using an explicit input dictionary in this case, so that the assignment of data to objects is unambiguous.\n",
      "  warnings.warn(\n"
     ]
    },
    {
     "name": "stdout",
     "output_type": "stream",
     "text": [
      "7. CNN: accuracy = 54.0625%, precision = 0.540625, recall = 1.0, f1 = 0.7018255578093306\n",
      "Confusion matrix:\n",
      "[[  0 147]\n",
      " [  0 173]]\n",
      "|                     Building network (0%)                    | ETA:  --:--:--"
     ]
    },
    {
     "name": "stderr",
     "output_type": "stream",
     "text": [
      "c:\\dev\\anaconda\\envs\\conda_tutorial\\lib\\site-packages\\nengo_dl\\converter.py:324: UserWarning: Layer type <class 'tensorflow.python.keras.layers.core.Dropout'> does not have a registered converter. Falling back to TensorNode.\n",
      "  warnings.warn(\n",
      "c:\\dev\\anaconda\\envs\\conda_tutorial\\lib\\site-packages\\nengo_dl\\converter.py:586: UserWarning: Activation type <function softmax_v2 at 0x000002B021647F70> does not have a native Nengo equivalent; falling back to a TensorNode\n",
      "  warnings.warn(\n"
     ]
    },
    {
     "name": "stdout",
     "output_type": "stream",
     "text": [
      "Build finished in 0:00:01                                                      \n",
      "Optimization finished in 0:00:00                                               \n",
      "Construction finished in 0:00:00                                               \n",
      "Constructing graph: pre-build stage finished in 0:00:00                        \r"
     ]
    },
    {
     "name": "stderr",
     "output_type": "stream",
     "text": [
      "c:\\dev\\anaconda\\envs\\conda_tutorial\\lib\\site-packages\\nengo_dl\\simulator.py:1765: UserWarning: Number of elements (1) in ['ndarray'] does not match number of Nodes (4); consider using an explicit input dictionary in this case, so that the assignment of data to objects is unambiguous.\n",
      "  warnings.warn(\n"
     ]
    },
    {
     "name": "stdout",
     "output_type": "stream",
     "text": [
      "7. CNN (SNN conversion): accuracy = 51.87500000000001%, precision = 0.5446009389671361, recall = 0.6705202312138728, f1 = 0.6010362694300518\n",
      "Confusion matrix:\n",
      "[[ 50  97]\n",
      " [ 57 116]]\n",
      "Current iteration:  8\n",
      "|                     Building network (0%)                    | ETA:  --:--:--"
     ]
    },
    {
     "name": "stderr",
     "output_type": "stream",
     "text": [
      "c:\\dev\\anaconda\\envs\\conda_tutorial\\lib\\site-packages\\nengo_dl\\converter.py:324: UserWarning: Layer type <class 'tensorflow.python.keras.layers.core.Dropout'> does not have a registered converter. Falling back to TensorNode.\n",
      "  warnings.warn(\n",
      "c:\\dev\\anaconda\\envs\\conda_tutorial\\lib\\site-packages\\nengo_dl\\converter.py:586: UserWarning: Activation type <function softmax_v2 at 0x000002B021647F70> does not have a native Nengo equivalent; falling back to a TensorNode\n",
      "  warnings.warn(\n"
     ]
    },
    {
     "name": "stdout",
     "output_type": "stream",
     "text": [
      "Build finished in 0:00:01                                                      \n",
      "Optimization finished in 0:00:00                                               \n",
      "Construction finished in 0:00:00                                               \n",
      "Epoch 1/30\n",
      "|             Constructing graph: build stage (0%)             | ETA:  --:--:--"
     ]
    },
    {
     "name": "stderr",
     "output_type": "stream",
     "text": [
      "c:\\dev\\anaconda\\envs\\conda_tutorial\\lib\\site-packages\\nengo_dl\\simulator.py:1927: UserWarning: Number of elements in input data (97) is not evenly divisible by Simulator.minibatch_size (16); input data will be truncated.\n",
      "  warnings.warn(\n",
      "c:\\dev\\anaconda\\envs\\conda_tutorial\\lib\\site-packages\\nengo_dl\\simulator.py:1927: UserWarning: Number of elements in input data (875) is not evenly divisible by Simulator.minibatch_size (16); input data will be truncated.\n",
      "  warnings.warn(\n"
     ]
    },
    {
     "name": "stdout",
     "output_type": "stream",
     "text": [
      "54/54 [==============================] - 8s 57ms/step - loss: 1.6410 - probe_loss: 1.6410 - probe_accuracy: 0.4789 - val_loss: 0.6936 - val_probe_loss: 0.6936 - val_probe_accuracy: 0.4583\n",
      "Epoch 2/30\n",
      "54/54 [==============================] - 1s 23ms/step - loss: 0.6935 - probe_loss: 0.6935 - probe_accuracy: 0.4658 - val_loss: 0.6918 - val_probe_loss: 0.6918 - val_probe_accuracy: 0.5417\n",
      "Epoch 3/30\n",
      "54/54 [==============================] - 1s 24ms/step - loss: 0.6927 - probe_loss: 0.6927 - probe_accuracy: 0.5207 - val_loss: 0.6927 - val_probe_loss: 0.6927 - val_probe_accuracy: 0.5417\n",
      "Epoch 4/30\n",
      "54/54 [==============================] - 1s 23ms/step - loss: 0.6931 - probe_loss: 0.6931 - probe_accuracy: 0.5155 - val_loss: 0.6925 - val_probe_loss: 0.6925 - val_probe_accuracy: 0.5417\n",
      "Epoch 5/30\n",
      "54/54 [==============================] - 1s 23ms/step - loss: 0.6932 - probe_loss: 0.6932 - probe_accuracy: 0.5101 - val_loss: 0.6918 - val_probe_loss: 0.6918 - val_probe_accuracy: 0.5417\n",
      "Epoch 6/30\n",
      "54/54 [==============================] - 1s 23ms/step - loss: 0.6926 - probe_loss: 0.6926 - probe_accuracy: 0.5223 - val_loss: 0.6921 - val_probe_loss: 0.6921 - val_probe_accuracy: 0.5417\n",
      "Epoch 7/30\n",
      "54/54 [==============================] - 1s 23ms/step - loss: 0.6929 - probe_loss: 0.6929 - probe_accuracy: 0.5160 - val_loss: 0.6924 - val_probe_loss: 0.6924 - val_probe_accuracy: 0.5417\n",
      "Epoch 8/30\n",
      "54/54 [==============================] - 1s 23ms/step - loss: 0.6930 - probe_loss: 0.6930 - probe_accuracy: 0.5098 - val_loss: 0.6910 - val_probe_loss: 0.6910 - val_probe_accuracy: 0.5417\n",
      "Epoch 9/30\n",
      "54/54 [==============================] - 1s 23ms/step - loss: 0.6925 - probe_loss: 0.6925 - probe_accuracy: 0.5004 - val_loss: 0.6920 - val_probe_loss: 0.6920 - val_probe_accuracy: 0.5417\n",
      "Epoch 10/30\n",
      "54/54 [==============================] - 1s 23ms/step - loss: 0.6930 - probe_loss: 0.6930 - probe_accuracy: 0.5080 - val_loss: 0.6917 - val_probe_loss: 0.6917 - val_probe_accuracy: 0.5417\n",
      "Epoch 11/30\n",
      "54/54 [==============================] - 1s 23ms/step - loss: 0.6944 - probe_loss: 0.6944 - probe_accuracy: 0.4791 - val_loss: 0.6920 - val_probe_loss: 0.6920 - val_probe_accuracy: 0.5417\n",
      "Epoch 12/30\n",
      "54/54 [==============================] - 1s 24ms/step - loss: 0.6919 - probe_loss: 0.6919 - probe_accuracy: 0.5359 - val_loss: 0.6921 - val_probe_loss: 0.6921 - val_probe_accuracy: 0.5417\n",
      "Epoch 13/30\n",
      "54/54 [==============================] - 1s 23ms/step - loss: 0.6940 - probe_loss: 0.6940 - probe_accuracy: 0.4904 - val_loss: 0.6920 - val_probe_loss: 0.6920 - val_probe_accuracy: 0.5417\n",
      "Epoch 14/30\n",
      "54/54 [==============================] - 1s 23ms/step - loss: 0.6927 - probe_loss: 0.6927 - probe_accuracy: 0.5194 - val_loss: 0.6920 - val_probe_loss: 0.6920 - val_probe_accuracy: 0.5417\n",
      "Epoch 15/30\n",
      "54/54 [==============================] - 1s 24ms/step - loss: 0.6937 - probe_loss: 0.6937 - probe_accuracy: 0.4852 - val_loss: 0.6932 - val_probe_loss: 0.6932 - val_probe_accuracy: 0.4583\n",
      "Epoch 16/30\n",
      "54/54 [==============================] - 1s 23ms/step - loss: 0.6933 - probe_loss: 0.6933 - probe_accuracy: 0.4918 - val_loss: 0.6924 - val_probe_loss: 0.6924 - val_probe_accuracy: 0.5417\n",
      "Restoring model weights from the end of the best epoch.\n",
      "Epoch 00016: early stopping\n",
      "|##############Constructing graph: build stage (26%)             | ETA: 0:00:00"
     ]
    },
    {
     "name": "stderr",
     "output_type": "stream",
     "text": [
      "c:\\dev\\anaconda\\envs\\conda_tutorial\\lib\\site-packages\\nengo_dl\\simulator.py:1765: UserWarning: Number of elements (1) in ['ndarray'] does not match number of Nodes (4); consider using an explicit input dictionary in this case, so that the assignment of data to objects is unambiguous.\n",
      "  warnings.warn(\n"
     ]
    },
    {
     "name": "stdout",
     "output_type": "stream",
     "text": [
      "8. CNN: accuracy = 54.0625%, precision = 0.540625, recall = 1.0, f1 = 0.7018255578093306\n",
      "Confusion matrix:\n",
      "[[  0 147]\n",
      " [  0 173]]\n",
      "|                     Building network (0%)                    | ETA:  --:--:--"
     ]
    },
    {
     "name": "stderr",
     "output_type": "stream",
     "text": [
      "c:\\dev\\anaconda\\envs\\conda_tutorial\\lib\\site-packages\\nengo_dl\\converter.py:324: UserWarning: Layer type <class 'tensorflow.python.keras.layers.core.Dropout'> does not have a registered converter. Falling back to TensorNode.\n",
      "  warnings.warn(\n",
      "c:\\dev\\anaconda\\envs\\conda_tutorial\\lib\\site-packages\\nengo_dl\\converter.py:586: UserWarning: Activation type <function softmax_v2 at 0x000002B021647F70> does not have a native Nengo equivalent; falling back to a TensorNode\n",
      "  warnings.warn(\n"
     ]
    },
    {
     "name": "stdout",
     "output_type": "stream",
     "text": [
      "Build finished in 0:00:01                                                      \n",
      "Optimization finished in 0:00:00                                               \n",
      "Construction finished in 0:00:00                                               \n",
      "Constructing graph: pre-build stage finished in 0:00:00                        "
     ]
    },
    {
     "name": "stderr",
     "output_type": "stream",
     "text": [
      "c:\\dev\\anaconda\\envs\\conda_tutorial\\lib\\site-packages\\nengo_dl\\simulator.py:1765: UserWarning: Number of elements (1) in ['ndarray'] does not match number of Nodes (4); consider using an explicit input dictionary in this case, so that the assignment of data to objects is unambiguous.\n",
      "  warnings.warn(\n"
     ]
    },
    {
     "name": "stdout",
     "output_type": "stream",
     "text": [
      "8. CNN (SNN conversion): accuracy = 50.9375%, precision = 0.5317460317460317, recall = 0.7745664739884393, f1 = 0.6305882352941177\n",
      "Confusion matrix:\n",
      "[[ 29 118]\n",
      " [ 39 134]]\n",
      "Current iteration:  9\n",
      "|                     Building network (0%)                    | ETA:  --:--:--"
     ]
    },
    {
     "name": "stderr",
     "output_type": "stream",
     "text": [
      "c:\\dev\\anaconda\\envs\\conda_tutorial\\lib\\site-packages\\nengo_dl\\converter.py:324: UserWarning: Layer type <class 'tensorflow.python.keras.layers.core.Dropout'> does not have a registered converter. Falling back to TensorNode.\n",
      "  warnings.warn(\n",
      "c:\\dev\\anaconda\\envs\\conda_tutorial\\lib\\site-packages\\nengo_dl\\converter.py:586: UserWarning: Activation type <function softmax_v2 at 0x000002B021647F70> does not have a native Nengo equivalent; falling back to a TensorNode\n",
      "  warnings.warn(\n"
     ]
    },
    {
     "name": "stdout",
     "output_type": "stream",
     "text": [
      "Build finished in 0:00:01                                                      \n",
      "Optimization finished in 0:00:00                                               \n",
      "Construction finished in 0:00:00                                               \n",
      "Epoch 1/30\n",
      "|             Constructing graph: build stage (0%)             | ETA:  --:--:--"
     ]
    },
    {
     "name": "stderr",
     "output_type": "stream",
     "text": [
      "c:\\dev\\anaconda\\envs\\conda_tutorial\\lib\\site-packages\\nengo_dl\\simulator.py:1927: UserWarning: Number of elements in input data (97) is not evenly divisible by Simulator.minibatch_size (16); input data will be truncated.\n",
      "  warnings.warn(\n",
      "c:\\dev\\anaconda\\envs\\conda_tutorial\\lib\\site-packages\\nengo_dl\\simulator.py:1927: UserWarning: Number of elements in input data (875) is not evenly divisible by Simulator.minibatch_size (16); input data will be truncated.\n",
      "  warnings.warn(\n"
     ]
    },
    {
     "name": "stdout",
     "output_type": "stream",
     "text": [
      "54/54 [==============================] - 8s 52ms/step - loss: 1.3207 - probe_loss: 1.3207 - probe_accuracy: 0.5154 - val_loss: 0.6948 - val_probe_loss: 0.6948 - val_probe_accuracy: 0.4583\n",
      "Epoch 2/30\n",
      "54/54 [==============================] - 1s 24ms/step - loss: 0.6930 - probe_loss: 0.6930 - probe_accuracy: 0.5167 - val_loss: 0.6947 - val_probe_loss: 0.6947 - val_probe_accuracy: 0.4583\n",
      "Epoch 3/30\n",
      "54/54 [==============================] - 1s 23ms/step - loss: 0.6925 - probe_loss: 0.6925 - probe_accuracy: 0.5248 - val_loss: 0.6968 - val_probe_loss: 0.6968 - val_probe_accuracy: 0.4583\n",
      "Epoch 4/30\n",
      "54/54 [==============================] - 1s 23ms/step - loss: 0.6913 - probe_loss: 0.6913 - probe_accuracy: 0.5364 - val_loss: 0.6956 - val_probe_loss: 0.6956 - val_probe_accuracy: 0.4583\n",
      "Epoch 5/30\n",
      "54/54 [==============================] - 1s 23ms/step - loss: 0.6931 - probe_loss: 0.6931 - probe_accuracy: 0.5278 - val_loss: 0.6952 - val_probe_loss: 0.6952 - val_probe_accuracy: 0.4583\n",
      "Epoch 6/30\n",
      "54/54 [==============================] - 1s 23ms/step - loss: 0.6919 - probe_loss: 0.6919 - probe_accuracy: 0.5285 - val_loss: 0.6951 - val_probe_loss: 0.6951 - val_probe_accuracy: 0.4583\n",
      "Epoch 7/30\n",
      "54/54 [==============================] - 1s 24ms/step - loss: 0.6922 - probe_loss: 0.6922 - probe_accuracy: 0.5138 - val_loss: 0.6965 - val_probe_loss: 0.6965 - val_probe_accuracy: 0.4583\n",
      "Epoch 8/30\n",
      "54/54 [==============================] - 1s 24ms/step - loss: 0.6927 - probe_loss: 0.6927 - probe_accuracy: 0.4931 - val_loss: 0.7120 - val_probe_loss: 0.7120 - val_probe_accuracy: 0.4688\n",
      "Epoch 9/30\n",
      "54/54 [==============================] - 1s 23ms/step - loss: 0.6813 - probe_loss: 0.6813 - probe_accuracy: 0.5591 - val_loss: 0.8281 - val_probe_loss: 0.8281 - val_probe_accuracy: 0.4583\n",
      "Epoch 10/30\n",
      "54/54 [==============================] - 1s 24ms/step - loss: 0.6891 - probe_loss: 0.6891 - probe_accuracy: 0.5076 - val_loss: 0.7032 - val_probe_loss: 0.7032 - val_probe_accuracy: 0.4583\n",
      "Restoring model weights from the end of the best epoch.\n",
      "Epoch 00010: early stopping\n",
      "|###           Constructing graph: build stage (5%)              | ETA: 0:00:01"
     ]
    },
    {
     "name": "stderr",
     "output_type": "stream",
     "text": [
      "c:\\dev\\anaconda\\envs\\conda_tutorial\\lib\\site-packages\\nengo_dl\\simulator.py:1765: UserWarning: Number of elements (1) in ['ndarray'] does not match number of Nodes (4); consider using an explicit input dictionary in this case, so that the assignment of data to objects is unambiguous.\n",
      "  warnings.warn(\n"
     ]
    },
    {
     "name": "stdout",
     "output_type": "stream",
     "text": [
      "9. CNN: accuracy = 54.0625%, precision = 0.540625, recall = 1.0, f1 = 0.7018255578093306\n",
      "Confusion matrix:\n",
      "[[  0 147]\n",
      " [  0 173]]\n",
      "|                     Building network (0%)                    | ETA:  --:--:--"
     ]
    },
    {
     "name": "stderr",
     "output_type": "stream",
     "text": [
      "c:\\dev\\anaconda\\envs\\conda_tutorial\\lib\\site-packages\\nengo_dl\\converter.py:324: UserWarning: Layer type <class 'tensorflow.python.keras.layers.core.Dropout'> does not have a registered converter. Falling back to TensorNode.\n",
      "  warnings.warn(\n",
      "c:\\dev\\anaconda\\envs\\conda_tutorial\\lib\\site-packages\\nengo_dl\\converter.py:586: UserWarning: Activation type <function softmax_v2 at 0x000002B021647F70> does not have a native Nengo equivalent; falling back to a TensorNode\n",
      "  warnings.warn(\n"
     ]
    },
    {
     "name": "stdout",
     "output_type": "stream",
     "text": [
      "Build finished in 0:00:01                                                      \n",
      "Optimization finished in 0:00:00                                               \n",
      "Construction finished in 0:00:00                                               \n",
      "Constructing graph: pre-build stage finished in 0:00:00                        \r"
     ]
    },
    {
     "name": "stderr",
     "output_type": "stream",
     "text": [
      "c:\\dev\\anaconda\\envs\\conda_tutorial\\lib\\site-packages\\nengo_dl\\simulator.py:1765: UserWarning: Number of elements (1) in ['ndarray'] does not match number of Nodes (4); consider using an explicit input dictionary in this case, so that the assignment of data to objects is unambiguous.\n",
      "  warnings.warn(\n"
     ]
    },
    {
     "name": "stdout",
     "output_type": "stream",
     "text": [
      "9. CNN (SNN conversion): accuracy = 51.24999999999999%, precision = 0.5302491103202847, recall = 0.861271676300578, f1 = 0.6563876651982379\n",
      "Confusion matrix:\n",
      "[[ 15 132]\n",
      " [ 24 149]]\n",
      "Current iteration:  10\n",
      "|                     Building network (0%)                    | ETA:  --:--:--"
     ]
    },
    {
     "name": "stderr",
     "output_type": "stream",
     "text": [
      "c:\\dev\\anaconda\\envs\\conda_tutorial\\lib\\site-packages\\nengo_dl\\converter.py:324: UserWarning: Layer type <class 'tensorflow.python.keras.layers.core.Dropout'> does not have a registered converter. Falling back to TensorNode.\n",
      "  warnings.warn(\n",
      "c:\\dev\\anaconda\\envs\\conda_tutorial\\lib\\site-packages\\nengo_dl\\converter.py:586: UserWarning: Activation type <function softmax_v2 at 0x000002B021647F70> does not have a native Nengo equivalent; falling back to a TensorNode\n",
      "  warnings.warn(\n"
     ]
    },
    {
     "name": "stdout",
     "output_type": "stream",
     "text": [
      "Build finished in 0:00:01                                                      \n",
      "Optimization finished in 0:00:00                                               \n",
      "Construction finished in 0:00:00                                               \n",
      "Epoch 1/30\n",
      "|###           Constructing graph: build stage (5%)              | ETA: 0:00:00"
     ]
    },
    {
     "name": "stderr",
     "output_type": "stream",
     "text": [
      "c:\\dev\\anaconda\\envs\\conda_tutorial\\lib\\site-packages\\nengo_dl\\simulator.py:1927: UserWarning: Number of elements in input data (97) is not evenly divisible by Simulator.minibatch_size (16); input data will be truncated.\n",
      "  warnings.warn(\n",
      "c:\\dev\\anaconda\\envs\\conda_tutorial\\lib\\site-packages\\nengo_dl\\simulator.py:1927: UserWarning: Number of elements in input data (875) is not evenly divisible by Simulator.minibatch_size (16); input data will be truncated.\n",
      "  warnings.warn(\n"
     ]
    },
    {
     "name": "stdout",
     "output_type": "stream",
     "text": [
      "54/54 [==============================] - 8s 52ms/step - loss: 1.3935 - probe_loss: 1.3935 - probe_accuracy: 0.4715 - val_loss: 0.6948 - val_probe_loss: 0.6948 - val_probe_accuracy: 0.4896\n",
      "Epoch 2/30\n",
      "54/54 [==============================] - 1s 25ms/step - loss: 0.6942 - probe_loss: 0.6942 - probe_accuracy: 0.5233 - val_loss: 0.6945 - val_probe_loss: 0.6945 - val_probe_accuracy: 0.4896\n",
      "Epoch 3/30\n",
      "54/54 [==============================] - 1s 24ms/step - loss: 0.6939 - probe_loss: 0.6939 - probe_accuracy: 0.5089 - val_loss: 0.6936 - val_probe_loss: 0.6936 - val_probe_accuracy: 0.4896\n",
      "Epoch 4/30\n",
      "54/54 [==============================] - 1s 24ms/step - loss: 0.6926 - probe_loss: 0.6926 - probe_accuracy: 0.5305 - val_loss: 0.6947 - val_probe_loss: 0.6947 - val_probe_accuracy: 0.5000\n",
      "Epoch 5/30\n",
      "54/54 [==============================] - 1s 24ms/step - loss: 0.6923 - probe_loss: 0.6923 - probe_accuracy: 0.5266 - val_loss: 0.6986 - val_probe_loss: 0.6986 - val_probe_accuracy: 0.4896\n",
      "Epoch 6/30\n",
      "54/54 [==============================] - 1s 24ms/step - loss: 0.6971 - probe_loss: 0.6971 - probe_accuracy: 0.5213 - val_loss: 0.6947 - val_probe_loss: 0.6947 - val_probe_accuracy: 0.4896\n",
      "Epoch 7/30\n",
      "54/54 [==============================] - 1s 24ms/step - loss: 0.6932 - probe_loss: 0.6932 - probe_accuracy: 0.5208 - val_loss: 0.7464 - val_probe_loss: 0.7464 - val_probe_accuracy: 0.4896\n",
      "Epoch 8/30\n",
      "54/54 [==============================] - 1s 24ms/step - loss: 0.6924 - probe_loss: 0.6924 - probe_accuracy: 0.5526 - val_loss: 0.7312 - val_probe_loss: 0.7312 - val_probe_accuracy: 0.4792\n",
      "Epoch 9/30\n",
      "54/54 [==============================] - 1s 24ms/step - loss: 0.6934 - probe_loss: 0.6934 - probe_accuracy: 0.5541 - val_loss: 0.7014 - val_probe_loss: 0.7014 - val_probe_accuracy: 0.4167\n",
      "Epoch 10/30\n",
      "54/54 [==============================] - 1s 24ms/step - loss: 0.6881 - probe_loss: 0.6881 - probe_accuracy: 0.5698 - val_loss: 0.6891 - val_probe_loss: 0.6891 - val_probe_accuracy: 0.5000\n",
      "Epoch 11/30\n",
      "54/54 [==============================] - 1s 24ms/step - loss: 0.6823 - probe_loss: 0.6823 - probe_accuracy: 0.5722 - val_loss: 0.7375 - val_probe_loss: 0.7375 - val_probe_accuracy: 0.4896\n",
      "Epoch 12/30\n",
      "54/54 [==============================] - 1s 24ms/step - loss: 0.6820 - probe_loss: 0.6820 - probe_accuracy: 0.5789 - val_loss: 0.6953 - val_probe_loss: 0.6953 - val_probe_accuracy: 0.5417\n",
      "Epoch 13/30\n",
      "54/54 [==============================] - 1s 24ms/step - loss: 0.6799 - probe_loss: 0.6799 - probe_accuracy: 0.5788 - val_loss: 0.7067 - val_probe_loss: 0.7067 - val_probe_accuracy: 0.4896\n",
      "Epoch 14/30\n",
      "54/54 [==============================] - 1s 24ms/step - loss: 0.6780 - probe_loss: 0.6780 - probe_accuracy: 0.5725 - val_loss: 0.6948 - val_probe_loss: 0.6948 - val_probe_accuracy: 0.5521\n",
      "Epoch 15/30\n",
      "54/54 [==============================] - 1s 24ms/step - loss: 0.6775 - probe_loss: 0.6775 - probe_accuracy: 0.6050 - val_loss: 0.7078 - val_probe_loss: 0.7078 - val_probe_accuracy: 0.4896\n",
      "Epoch 16/30\n",
      "54/54 [==============================] - 1s 24ms/step - loss: 0.6602 - probe_loss: 0.6602 - probe_accuracy: 0.6221 - val_loss: 0.7138 - val_probe_loss: 0.7138 - val_probe_accuracy: 0.5104\n",
      "Epoch 17/30\n",
      "54/54 [==============================] - 1s 24ms/step - loss: 0.6749 - probe_loss: 0.6749 - probe_accuracy: 0.5574 - val_loss: 0.7085 - val_probe_loss: 0.7085 - val_probe_accuracy: 0.5104\n",
      "Epoch 18/30\n",
      "54/54 [==============================] - 1s 24ms/step - loss: 0.6583 - probe_loss: 0.6583 - probe_accuracy: 0.6332 - val_loss: 0.7288 - val_probe_loss: 0.7288 - val_probe_accuracy: 0.4792\n",
      "Restoring model weights from the end of the best epoch.\n",
      "Epoch 00018: early stopping\n",
      "|##############Constructing graph: build stage (26%)             | ETA: 0:00:00"
     ]
    },
    {
     "name": "stderr",
     "output_type": "stream",
     "text": [
      "c:\\dev\\anaconda\\envs\\conda_tutorial\\lib\\site-packages\\nengo_dl\\simulator.py:1765: UserWarning: Number of elements (1) in ['ndarray'] does not match number of Nodes (4); consider using an explicit input dictionary in this case, so that the assignment of data to objects is unambiguous.\n",
      "  warnings.warn(\n"
     ]
    },
    {
     "name": "stdout",
     "output_type": "stream",
     "text": [
      "10. CNN: accuracy = 54.6875%, precision = 0.5526315789473685, recall = 0.8497109826589595, f1 = 0.6697038724373576\n",
      "Confusion matrix:\n",
      "[[ 28 119]\n",
      " [ 26 147]]\n",
      "|                     Building network (0%)                    | ETA:  --:--:--"
     ]
    },
    {
     "name": "stderr",
     "output_type": "stream",
     "text": [
      "c:\\dev\\anaconda\\envs\\conda_tutorial\\lib\\site-packages\\nengo_dl\\converter.py:324: UserWarning: Layer type <class 'tensorflow.python.keras.layers.core.Dropout'> does not have a registered converter. Falling back to TensorNode.\n",
      "  warnings.warn(\n",
      "c:\\dev\\anaconda\\envs\\conda_tutorial\\lib\\site-packages\\nengo_dl\\converter.py:586: UserWarning: Activation type <function softmax_v2 at 0x000002B021647F70> does not have a native Nengo equivalent; falling back to a TensorNode\n",
      "  warnings.warn(\n"
     ]
    },
    {
     "name": "stdout",
     "output_type": "stream",
     "text": [
      "Build finished in 0:00:01                                                      \n",
      "Optimization finished in 0:00:00                                               \n",
      "Construction finished in 0:00:00                                               \n",
      "Constructing graph: pre-build stage finished in 0:00:00                        "
     ]
    },
    {
     "name": "stderr",
     "output_type": "stream",
     "text": [
      "c:\\dev\\anaconda\\envs\\conda_tutorial\\lib\\site-packages\\nengo_dl\\simulator.py:1765: UserWarning: Number of elements (1) in ['ndarray'] does not match number of Nodes (4); consider using an explicit input dictionary in this case, so that the assignment of data to objects is unambiguous.\n",
      "  warnings.warn(\n"
     ]
    },
    {
     "name": "stdout",
     "output_type": "stream",
     "text": [
      "10. CNN (SNN conversion): accuracy = 56.56250000000001%, precision = 0.5658914728682171, recall = 0.8439306358381503, f1 = 0.6774941995359629\n",
      "Confusion matrix:\n",
      "[[ 35 112]\n",
      " [ 27 146]]\n"
     ]
    }
   ],
   "source": [
    "ann, snn = [], [] # arrays that will contain data from each iteration for the analog and spiking network\n",
    "\n",
    "num_iterations = 10 # number of iterations in the cross-validation (10)\n",
    "iteration = 1 # number of current iteration\n",
    "\n",
    "for train, valid in KFold(n_splits=num_iterations).split(x_train): # perform K-Fold CV\n",
    "    print('Current iteration: ', iteration)\n",
    "    x_train_curr, y_train_curr = x_train[train], y_train[train] # get current training data\n",
    "    x_val_curr, y_val_curr = x_train[valid], y_train[valid] # get current validation data\n",
    "\n",
    "    params_path = os.path.join(params_output_path, f'params_{iteration}') # configure path for parameters\n",
    "\n",
    "    model = model_fn(seed=seed) # create the model\n",
    "\n",
    "    # run ann\n",
    "    ann_result = utils.run_ann(model=model,\n",
    "                               train=(x_train_curr, y_train_curr),\n",
    "                               valid=(x_val_curr, y_val_curr),\n",
    "                               test=(x_test, y_test),\n",
    "                               optimizer=keras.optimizers.Adam(),\n",
    "                               loss=keras.losses.BinaryCrossentropy(),\n",
    "                               params_save_path=params_path,\n",
    "                               iteration=iteration,\n",
    "                               callbacks=[EarlyStopping(patience=8, restore_best_weights=True, verbose=1)],\n",
    "                               num_epochs=30\n",
    "                         )\n",
    "\n",
    "    # run snn\n",
    "    snn_result = utils.run_snn(model,\n",
    "                               x_test, y_test,\n",
    "                               params_load_path=params_path,\n",
    "                               iteration=iteration\n",
    "                               )\n",
    "\n",
    "    ann.append(ann_result)\n",
    "    snn.append(snn_result)\n",
    "    iteration += 1\n",
    "\n",
    "    K.clear_session() # clear session and delete model since it sometimes causes memory leaks\n",
    "    del model"
   ]
  },
  {
   "cell_type": "code",
   "execution_count": 11,
   "metadata": {
    "pycharm": {
     "is_executing": true,
     "name": "#%%\n"
    }
   },
   "outputs": [
    {
     "data": {
      "text/html": [
       "<div>\n",
       "<style scoped>\n",
       "    .dataframe tbody tr th:only-of-type {\n",
       "        vertical-align: middle;\n",
       "    }\n",
       "\n",
       "    .dataframe tbody tr th {\n",
       "        vertical-align: top;\n",
       "    }\n",
       "\n",
       "    .dataframe thead th {\n",
       "        text-align: right;\n",
       "    }\n",
       "</style>\n",
       "<table border=\"1\" class=\"dataframe\">\n",
       "  <thead>\n",
       "    <tr style=\"text-align: right;\">\n",
       "      <th></th>\n",
       "      <th>iterations</th>\n",
       "      <th>ann_accuracy</th>\n",
       "      <th>ann_precision</th>\n",
       "      <th>ann_recall</th>\n",
       "      <th>ann_f1</th>\n",
       "      <th>snn_accuracy</th>\n",
       "      <th>snn_precision</th>\n",
       "      <th>snn_recall</th>\n",
       "      <th>snn_f1</th>\n",
       "    </tr>\n",
       "  </thead>\n",
       "  <tbody>\n",
       "    <tr>\n",
       "      <th>0</th>\n",
       "      <td>1</td>\n",
       "      <td>0.459375</td>\n",
       "      <td>0.500000</td>\n",
       "      <td>0.011561</td>\n",
       "      <td>0.022599</td>\n",
       "      <td>0.450000</td>\n",
       "      <td>0.466667</td>\n",
       "      <td>0.121387</td>\n",
       "      <td>0.192661</td>\n",
       "    </tr>\n",
       "    <tr>\n",
       "      <th>1</th>\n",
       "      <td>2</td>\n",
       "      <td>0.534375</td>\n",
       "      <td>0.544776</td>\n",
       "      <td>0.843931</td>\n",
       "      <td>0.662132</td>\n",
       "      <td>0.428125</td>\n",
       "      <td>0.250000</td>\n",
       "      <td>0.028902</td>\n",
       "      <td>0.051813</td>\n",
       "    </tr>\n",
       "    <tr>\n",
       "      <th>2</th>\n",
       "      <td>3</td>\n",
       "      <td>0.537500</td>\n",
       "      <td>0.554113</td>\n",
       "      <td>0.739884</td>\n",
       "      <td>0.633663</td>\n",
       "      <td>0.503125</td>\n",
       "      <td>0.589744</td>\n",
       "      <td>0.265896</td>\n",
       "      <td>0.366534</td>\n",
       "    </tr>\n",
       "    <tr>\n",
       "      <th>3</th>\n",
       "      <td>4</td>\n",
       "      <td>0.531250</td>\n",
       "      <td>0.573248</td>\n",
       "      <td>0.520231</td>\n",
       "      <td>0.545455</td>\n",
       "      <td>0.496875</td>\n",
       "      <td>0.536145</td>\n",
       "      <td>0.514451</td>\n",
       "      <td>0.525074</td>\n",
       "    </tr>\n",
       "    <tr>\n",
       "      <th>4</th>\n",
       "      <td>5</td>\n",
       "      <td>0.543750</td>\n",
       "      <td>0.542320</td>\n",
       "      <td>1.000000</td>\n",
       "      <td>0.703252</td>\n",
       "      <td>0.490625</td>\n",
       "      <td>0.519841</td>\n",
       "      <td>0.757225</td>\n",
       "      <td>0.616471</td>\n",
       "    </tr>\n",
       "    <tr>\n",
       "      <th>5</th>\n",
       "      <td>6</td>\n",
       "      <td>0.531250</td>\n",
       "      <td>0.542751</td>\n",
       "      <td>0.843931</td>\n",
       "      <td>0.660633</td>\n",
       "      <td>0.543750</td>\n",
       "      <td>0.546713</td>\n",
       "      <td>0.913295</td>\n",
       "      <td>0.683983</td>\n",
       "    </tr>\n",
       "    <tr>\n",
       "      <th>6</th>\n",
       "      <td>7</td>\n",
       "      <td>0.540625</td>\n",
       "      <td>0.540625</td>\n",
       "      <td>1.000000</td>\n",
       "      <td>0.701826</td>\n",
       "      <td>0.518750</td>\n",
       "      <td>0.544601</td>\n",
       "      <td>0.670520</td>\n",
       "      <td>0.601036</td>\n",
       "    </tr>\n",
       "    <tr>\n",
       "      <th>7</th>\n",
       "      <td>8</td>\n",
       "      <td>0.540625</td>\n",
       "      <td>0.540625</td>\n",
       "      <td>1.000000</td>\n",
       "      <td>0.701826</td>\n",
       "      <td>0.509375</td>\n",
       "      <td>0.531746</td>\n",
       "      <td>0.774566</td>\n",
       "      <td>0.630588</td>\n",
       "    </tr>\n",
       "    <tr>\n",
       "      <th>8</th>\n",
       "      <td>9</td>\n",
       "      <td>0.540625</td>\n",
       "      <td>0.540625</td>\n",
       "      <td>1.000000</td>\n",
       "      <td>0.701826</td>\n",
       "      <td>0.512500</td>\n",
       "      <td>0.530249</td>\n",
       "      <td>0.861272</td>\n",
       "      <td>0.656388</td>\n",
       "    </tr>\n",
       "    <tr>\n",
       "      <th>9</th>\n",
       "      <td>10</td>\n",
       "      <td>0.546875</td>\n",
       "      <td>0.552632</td>\n",
       "      <td>0.849711</td>\n",
       "      <td>0.669704</td>\n",
       "      <td>0.565625</td>\n",
       "      <td>0.565891</td>\n",
       "      <td>0.843931</td>\n",
       "      <td>0.677494</td>\n",
       "    </tr>\n",
       "  </tbody>\n",
       "</table>\n",
       "</div>"
      ],
      "text/plain": [
       "   iterations  ann_accuracy  ann_precision  ann_recall    ann_f1  \\\n",
       "0           1      0.459375       0.500000    0.011561  0.022599   \n",
       "1           2      0.534375       0.544776    0.843931  0.662132   \n",
       "2           3      0.537500       0.554113    0.739884  0.633663   \n",
       "3           4      0.531250       0.573248    0.520231  0.545455   \n",
       "4           5      0.543750       0.542320    1.000000  0.703252   \n",
       "5           6      0.531250       0.542751    0.843931  0.660633   \n",
       "6           7      0.540625       0.540625    1.000000  0.701826   \n",
       "7           8      0.540625       0.540625    1.000000  0.701826   \n",
       "8           9      0.540625       0.540625    1.000000  0.701826   \n",
       "9          10      0.546875       0.552632    0.849711  0.669704   \n",
       "\n",
       "   snn_accuracy  snn_precision  snn_recall    snn_f1  \n",
       "0      0.450000       0.466667    0.121387  0.192661  \n",
       "1      0.428125       0.250000    0.028902  0.051813  \n",
       "2      0.503125       0.589744    0.265896  0.366534  \n",
       "3      0.496875       0.536145    0.514451  0.525074  \n",
       "4      0.490625       0.519841    0.757225  0.616471  \n",
       "5      0.543750       0.546713    0.913295  0.683983  \n",
       "6      0.518750       0.544601    0.670520  0.601036  \n",
       "7      0.509375       0.531746    0.774566  0.630588  \n",
       "8      0.512500       0.530249    0.861272  0.656388  \n",
       "9      0.565625       0.565891    0.843931  0.677494  "
      ]
     },
     "execution_count": 11,
     "metadata": {},
     "output_type": "execute_result"
    }
   ],
   "source": [
    "# Create data dictionary for pandas dataframe\n",
    "df = utils.create_data_df(ann, snn, num_iterations)\n",
    "\n",
    "df"
   ]
  },
  {
   "cell_type": "code",
   "execution_count": 12,
   "metadata": {
    "pycharm": {
     "is_executing": true,
     "name": "#%%\n"
    }
   },
   "outputs": [
    {
     "data": {
      "text/plain": [
       "'Statistics for iterations successfully saved.'"
      ]
     },
     "execution_count": 12,
     "metadata": {},
     "output_type": "execute_result"
    }
   ],
   "source": [
    "os.makedirs(data_output_folder, exist_ok=True)\n",
    "\n",
    "# Save the dataframe to excel\n",
    "df.to_excel(os.path.join(data_output_folder, iteration_data_file_name))\n",
    "\n",
    "# Save path for the P300 model\n",
    "# df.to_excel(os.path.join(data_output_folder, 'cnn_p300_model_10_fold_entire_dataset.xlsx'))\n",
    "\n",
    "'Statistics for iterations successfully saved.'"
   ]
  },
  {
   "cell_type": "code",
   "execution_count": 13,
   "metadata": {
    "pycharm": {
     "is_executing": true,
     "name": "#%%\n"
    }
   },
   "outputs": [
    {
     "data": {
      "text/html": [
       "<div>\n",
       "<style scoped>\n",
       "    .dataframe tbody tr th:only-of-type {\n",
       "        vertical-align: middle;\n",
       "    }\n",
       "\n",
       "    .dataframe tbody tr th {\n",
       "        vertical-align: top;\n",
       "    }\n",
       "\n",
       "    .dataframe thead th {\n",
       "        text-align: right;\n",
       "    }\n",
       "</style>\n",
       "<table border=\"1\" class=\"dataframe\">\n",
       "  <thead>\n",
       "    <tr style=\"text-align: right;\">\n",
       "      <th></th>\n",
       "      <th>models</th>\n",
       "      <th>average_accuracy</th>\n",
       "      <th>max_accuracy</th>\n",
       "      <th>accuracy_std</th>\n",
       "      <th>average_precision</th>\n",
       "      <th>max_precision</th>\n",
       "      <th>average_recall</th>\n",
       "      <th>max_recall</th>\n",
       "      <th>average_f1</th>\n",
       "      <th>max_f1</th>\n",
       "    </tr>\n",
       "  </thead>\n",
       "  <tbody>\n",
       "    <tr>\n",
       "      <th>0</th>\n",
       "      <td>ann</td>\n",
       "      <td>0.530625</td>\n",
       "      <td>0.546875</td>\n",
       "      <td>0.025550</td>\n",
       "      <td>0.543171</td>\n",
       "      <td>0.573248</td>\n",
       "      <td>0.780925</td>\n",
       "      <td>1.000000</td>\n",
       "      <td>0.600291</td>\n",
       "      <td>0.703252</td>\n",
       "    </tr>\n",
       "    <tr>\n",
       "      <th>1</th>\n",
       "      <td>snn</td>\n",
       "      <td>0.501875</td>\n",
       "      <td>0.565625</td>\n",
       "      <td>0.040214</td>\n",
       "      <td>0.508160</td>\n",
       "      <td>0.589744</td>\n",
       "      <td>0.575145</td>\n",
       "      <td>0.913295</td>\n",
       "      <td>0.500204</td>\n",
       "      <td>0.683983</td>\n",
       "    </tr>\n",
       "  </tbody>\n",
       "</table>\n",
       "</div>"
      ],
      "text/plain": [
       "  models  average_accuracy  max_accuracy  accuracy_std  average_precision  \\\n",
       "0    ann          0.530625      0.546875      0.025550           0.543171   \n",
       "1    snn          0.501875      0.565625      0.040214           0.508160   \n",
       "\n",
       "   max_precision  average_recall  max_recall  average_f1    max_f1  \n",
       "0       0.573248        0.780925    1.000000    0.600291  0.703252  \n",
       "1       0.589744        0.575145    0.913295    0.500204  0.683983  "
      ]
     },
     "execution_count": 13,
     "metadata": {},
     "output_type": "execute_result"
    }
   ],
   "source": [
    "# Create statistics such as maximums and averages for each metric\n",
    "df_stats = utils.create_stats_df(df)\n",
    "\n",
    "df_stats"
   ]
  },
  {
   "cell_type": "code",
   "execution_count": 14,
   "metadata": {
    "pycharm": {
     "is_executing": true,
     "name": "#%%\n"
    }
   },
   "outputs": [
    {
     "data": {
      "text/plain": [
       "'File with statistics successfully saved.'"
      ]
     },
     "execution_count": 14,
     "metadata": {},
     "output_type": "execute_result"
    }
   ],
   "source": [
    "# Create dataframe for statistics and save it as excel file\n",
    "df_stats.to_excel(os.path.join(data_output_folder, iteration_stats_file_name))\n",
    "\n",
    "# Save path for the P300 model\n",
    "# df_stats.to_excel(os.path.join(data_output_folder, 'cnn_p300_model_10_fold_entire_dataset_stats.xlsx'))\n",
    "\n",
    "'File with statistics successfully saved.'"
   ]
  },
  {
   "cell_type": "code",
   "execution_count": 15,
   "metadata": {
    "pycharm": {
     "is_executing": true,
     "name": "#%%\n"
    }
   },
   "outputs": [
    {
     "name": "stdout",
     "output_type": "stream",
     "text": [
      "Confusion matrices for the ANN:\n",
      "[[145   2]\n",
      " [171   2]] \n",
      "\n",
      "[[ 25 122]\n",
      " [ 27 146]] \n",
      "\n",
      "[[ 44 103]\n",
      " [ 45 128]] \n",
      "\n",
      "[[80 67]\n",
      " [83 90]] \n",
      "\n",
      "[[  1 146]\n",
      " [  0 173]] \n",
      "\n",
      "[[ 24 123]\n",
      " [ 27 146]] \n",
      "\n",
      "[[  0 147]\n",
      " [  0 173]] \n",
      "\n",
      "[[  0 147]\n",
      " [  0 173]] \n",
      "\n",
      "[[  0 147]\n",
      " [  0 173]] \n",
      "\n",
      "[[ 28 119]\n",
      " [ 26 147]] \n",
      "\n",
      "Confusion matrices for the SNN\n",
      "[[123  24]\n",
      " [152  21]] \n",
      "\n",
      "[[132  15]\n",
      " [168   5]] \n",
      "\n",
      "[[115  32]\n",
      " [127  46]] \n",
      "\n",
      "[[70 77]\n",
      " [84 89]] \n",
      "\n",
      "[[ 26 121]\n",
      " [ 42 131]] \n",
      "\n",
      "[[ 16 131]\n",
      " [ 15 158]] \n",
      "\n",
      "[[ 50  97]\n",
      " [ 57 116]] \n",
      "\n",
      "[[ 29 118]\n",
      " [ 39 134]] \n",
      "\n",
      "[[ 15 132]\n",
      " [ 24 149]] \n",
      "\n",
      "[[ 35 112]\n",
      " [ 27 146]] \n",
      "\n"
     ]
    }
   ],
   "source": [
    "# Print confusion matrices for ANN and SNN in each iteration\n",
    "utils.print_confusion_matrices(ann, snn)\n"
   ]
  },
  {
   "cell_type": "code",
   "execution_count": null,
   "metadata": {},
   "outputs": [],
   "source": []
  }
 ],
 "metadata": {
  "kernelspec": {
   "display_name": "Python 3",
   "language": "python",
   "name": "python3"
  },
  "language_info": {
   "codemirror_mode": {
    "name": "ipython",
    "version": 3
   },
   "file_extension": ".py",
   "mimetype": "text/x-python",
   "name": "python",
   "nbconvert_exporter": "python",
   "pygments_lexer": "ipython3",
   "version": "3.8.5"
  }
 },
 "nbformat": 4,
 "nbformat_minor": 1
}
