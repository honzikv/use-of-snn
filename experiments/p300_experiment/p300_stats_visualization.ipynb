{
 "cells": [
  {
   "cell_type": "markdown",
   "metadata": {
    "collapsed": true,
    "pycharm": {
     "name": "#%% md\n"
    }
   },
   "source": [
    "This notebook was used for visualization in the experiment - i.e., visualize the network and also show top 10 accuracies\n",
    "of the ANN and results of the converted SNN\n",
    "\n",
    "This is NOT REQUIRED to run the experiments and was only used for the visualization.\n",
    "If you wish to run this, please install pydot using: **pip install pydot** and download graphviz: https://graphviz.gitlab.io/download/"
   ]
  },
  {
   "cell_type": "code",
   "execution_count": 1,
   "outputs": [],
   "source": [
    "import pandas as pd\n",
    "import os\n",
    "import matplotlib.pyplot as plt\n",
    "import numpy as np"
   ],
   "metadata": {
    "collapsed": false,
    "pycharm": {
     "name": "#%%\n"
    }
   }
  },
  {
   "cell_type": "code",
   "execution_count": 5,
   "outputs": [],
   "source": [
    "# Execute this cell to create a visualization of the model\n",
    "from tensorflow.python.keras.utils.vis_utils import plot_model\n",
    "from tensorflow.python.keras.layers import Conv2D, BatchNormalization, Dropout, AveragePooling2D, Flatten, Dense, LSTM\n",
    "from tensorflow.python.keras import Input, Model, Sequential\n",
    "import tensorflow as tf\n",
    "\n",
    "model_output_path = os.path.join('p300_exp_output', 'model.pdf')\n",
    "os.makedirs('p300_exp_output', exist_ok=True)\n",
    "\n",
    "def create_model():\n",
    "    \"\"\"\n",
    "    Function to create tensorflow model\n",
    "    \"\"\"\n",
    "    seed = -1\n",
    "    inp = Input(shape=(3, 1200, 1), name='input_layer')\n",
    "    conv2d = Conv2D(filters=6, kernel_size=(3, 3), activation=tf.nn.relu)(inp)\n",
    "    dropout1 = Dropout(0.5, seed=seed)(conv2d)\n",
    "    avg_pooling = AveragePooling2D(pool_size=(1, 8), padding='same')(dropout1)\n",
    "    flatten = Flatten()(avg_pooling)\n",
    "    dense1 = Dense(100, activation=tf.nn.relu)(flatten)\n",
    "    batch_norm = BatchNormalization()(dense1)\n",
    "    dropout2 = Dropout(0.5, seed=seed)(batch_norm)\n",
    "    output = Dense(2, activation=tf.nn.softmax, name='output_layer')(dropout2)\n",
    "\n",
    "    return Model(inputs=inp, outputs=output)\n",
    "\n",
    "\n",
    "\n",
    "plot_model(create_model(), to_file=model_output_path, show_shapes=True, show_layer_names=False)"
   ],
   "metadata": {
    "collapsed": false,
    "pycharm": {
     "name": "#%%\n"
    }
   }
  },
  {
   "cell_type": "code",
   "execution_count": null,
   "outputs": [],
   "source": [
    "# Config from notebook p300_dataset_exp_convnet.ipynb\n",
    "snn_config = [\n",
    "    [50, 1000, 0.01], # best performing parameters for simulator\n",
    "    [50, 1000, None], # synaptic smoothing turned off\n",
    "    [50, 1, 0.01], # spike scaling turned off\n",
    "    [50, 1, None] # everything turned off, only RELU is swapped for spiking RELU\n",
    "]\n",
    "\n",
    "variants = []\n",
    "for variant in snn_config:\n",
    "        # name of the configuration\n",
    "        name = f'snn [timesteps={variant[0]}, scaling={variant[1]}, synapse=None]' if variant[2] is None \\\n",
    "            else 'snn [timesteps={}, scaling={}, synapse={:3f}]'.format(variant[0], int(variant[1]), variant[2])\n",
    "        variants.append(name)"
   ],
   "metadata": {
    "collapsed": false,
    "pycharm": {
     "name": "#%%\n"
    }
   }
  },
  {
   "cell_type": "code",
   "execution_count": 3,
   "outputs": [],
   "source": [
    "default_output_path = 'p300_exp_output'\n",
    "\n",
    "# Read excel file to the data frame\n",
    "df = pd.read_excel(os.path.join(default_output_path, 'data_iterations.xlsx'))"
   ],
   "metadata": {
    "collapsed": false,
    "pycharm": {
     "name": "#%%\n"
    }
   }
  },
  {
   "cell_type": "code",
   "execution_count": 4,
   "outputs": [
    {
     "data": {
      "text/plain": "    Unnamed: 0  iterations  ann_accuracy  ann_precision  ann_recall    ann_f1  \\\n21          21          22      0.647177       0.654295    0.622603  0.638056   \n24          24          25      0.645665       0.657895    0.605449  0.630583   \n25          25          26      0.643145       0.664726    0.576186  0.617297   \n10          10          11      0.642641       0.647490    0.624622  0.635850   \n18          18          19      0.642137       0.670303    0.558022  0.609031   \n\n    snn [timesteps=50, scaling=1000, synapse=0.010000]_accuracy  \\\n21                                           0.644102             \n24                                           0.648581             \n25                                           0.642111             \n10                                           0.641115             \n18                                           0.641613             \n\n    snn [timesteps=50, scaling=1000, synapse=0.010000]_precision  \\\n21                                           0.652266              \n24                                           0.662309              \n25                                           0.663230              \n10                                           0.645427              \n18                                           0.669856              \n\n    snn [timesteps=50, scaling=1000, synapse=0.010000]_recall  \\\n21                                           0.616534           \n24                                           0.605578           \n25                                           0.576693           \n10                                           0.625498           \n18                                           0.557769           \n\n    snn [timesteps=50, scaling=1000, synapse=0.010000]_f1  ...  \\\n21                                           0.633897      ...   \n24                                           0.632674      ...   \n25                                           0.616942      ...   \n10                                           0.635306      ...   \n18                                           0.608696      ...   \n\n    snn [timesteps=50, scaling=1000, synapse=None]_recall  \\\n21                                           0.617530       \n24                                           0.608566       \n25                                           0.577689       \n10                                           0.625498       \n18                                           0.558765       \n\n    snn [timesteps=50, scaling=1000, synapse=None]_f1  \\\n21                                           0.634271   \n24                                           0.634476   \n25                                           0.618997   \n10                                           0.636917   \n18                                           0.609451   \n\n    snn [timesteps=50, scaling=1, synapse=0.010000]_accuracy  \\\n21                                           0.511200          \n24                                           0.501742          \n25                                           0.531608          \n10                                           0.543056          \n18                                           0.531608          \n\n    snn [timesteps=50, scaling=1, synapse=0.010000]_precision  \\\n21                                           0.518771           \n24                                           0.502063           \n25                                           0.542282           \n10                                           0.552956           \n18                                           0.540025           \n\n    snn [timesteps=50, scaling=1, synapse=0.010000]_recall  \\\n21                                           0.302789        \n24                                           0.363546        \n25                                           0.402390        \n10                                           0.447211        \n18                                           0.423307        \n\n    snn [timesteps=50, scaling=1, synapse=0.010000]_f1  \\\n21                                           0.382390    \n24                                           0.421722    \n25                                           0.461978    \n10                                           0.494493    \n18                                           0.474595    \n\n    snn [timesteps=50, scaling=1, synapse=None]_accuracy  \\\n21                                           0.494276      \n24                                           0.518666      \n25                                           0.517173      \n10                                           0.525635      \n18                                           0.545047      \n\n    snn [timesteps=50, scaling=1, synapse=None]_precision  \\\n21                                           0.489831       \n24                                           0.525802       \n25                                           0.525000       \n10                                           0.533074       \n18                                           0.560811       \n\n    snn [timesteps=50, scaling=1, synapse=None]_recall  \\\n21                                           0.287849    \n24                                           0.375498    \n25                                           0.355578    \n10                                           0.409363    \n18                                           0.413347    \n\n    snn [timesteps=50, scaling=1, synapse=None]_f1  \n21                                        0.362610  \n24                                        0.438117  \n25                                        0.423990  \n10                                        0.463099  \n18                                        0.475917  \n\n[5 rows x 22 columns]",
      "text/html": "<div>\n<style scoped>\n    .dataframe tbody tr th:only-of-type {\n        vertical-align: middle;\n    }\n\n    .dataframe tbody tr th {\n        vertical-align: top;\n    }\n\n    .dataframe thead th {\n        text-align: right;\n    }\n</style>\n<table border=\"1\" class=\"dataframe\">\n  <thead>\n    <tr style=\"text-align: right;\">\n      <th></th>\n      <th>Unnamed: 0</th>\n      <th>iterations</th>\n      <th>ann_accuracy</th>\n      <th>ann_precision</th>\n      <th>ann_recall</th>\n      <th>ann_f1</th>\n      <th>snn [timesteps=50, scaling=1000, synapse=0.010000]_accuracy</th>\n      <th>snn [timesteps=50, scaling=1000, synapse=0.010000]_precision</th>\n      <th>snn [timesteps=50, scaling=1000, synapse=0.010000]_recall</th>\n      <th>snn [timesteps=50, scaling=1000, synapse=0.010000]_f1</th>\n      <th>...</th>\n      <th>snn [timesteps=50, scaling=1000, synapse=None]_recall</th>\n      <th>snn [timesteps=50, scaling=1000, synapse=None]_f1</th>\n      <th>snn [timesteps=50, scaling=1, synapse=0.010000]_accuracy</th>\n      <th>snn [timesteps=50, scaling=1, synapse=0.010000]_precision</th>\n      <th>snn [timesteps=50, scaling=1, synapse=0.010000]_recall</th>\n      <th>snn [timesteps=50, scaling=1, synapse=0.010000]_f1</th>\n      <th>snn [timesteps=50, scaling=1, synapse=None]_accuracy</th>\n      <th>snn [timesteps=50, scaling=1, synapse=None]_precision</th>\n      <th>snn [timesteps=50, scaling=1, synapse=None]_recall</th>\n      <th>snn [timesteps=50, scaling=1, synapse=None]_f1</th>\n    </tr>\n  </thead>\n  <tbody>\n    <tr>\n      <th>21</th>\n      <td>21</td>\n      <td>22</td>\n      <td>0.647177</td>\n      <td>0.654295</td>\n      <td>0.622603</td>\n      <td>0.638056</td>\n      <td>0.644102</td>\n      <td>0.652266</td>\n      <td>0.616534</td>\n      <td>0.633897</td>\n      <td>...</td>\n      <td>0.617530</td>\n      <td>0.634271</td>\n      <td>0.511200</td>\n      <td>0.518771</td>\n      <td>0.302789</td>\n      <td>0.382390</td>\n      <td>0.494276</td>\n      <td>0.489831</td>\n      <td>0.287849</td>\n      <td>0.362610</td>\n    </tr>\n    <tr>\n      <th>24</th>\n      <td>24</td>\n      <td>25</td>\n      <td>0.645665</td>\n      <td>0.657895</td>\n      <td>0.605449</td>\n      <td>0.630583</td>\n      <td>0.648581</td>\n      <td>0.662309</td>\n      <td>0.605578</td>\n      <td>0.632674</td>\n      <td>...</td>\n      <td>0.608566</td>\n      <td>0.634476</td>\n      <td>0.501742</td>\n      <td>0.502063</td>\n      <td>0.363546</td>\n      <td>0.421722</td>\n      <td>0.518666</td>\n      <td>0.525802</td>\n      <td>0.375498</td>\n      <td>0.438117</td>\n    </tr>\n    <tr>\n      <th>25</th>\n      <td>25</td>\n      <td>26</td>\n      <td>0.643145</td>\n      <td>0.664726</td>\n      <td>0.576186</td>\n      <td>0.617297</td>\n      <td>0.642111</td>\n      <td>0.663230</td>\n      <td>0.576693</td>\n      <td>0.616942</td>\n      <td>...</td>\n      <td>0.577689</td>\n      <td>0.618997</td>\n      <td>0.531608</td>\n      <td>0.542282</td>\n      <td>0.402390</td>\n      <td>0.461978</td>\n      <td>0.517173</td>\n      <td>0.525000</td>\n      <td>0.355578</td>\n      <td>0.423990</td>\n    </tr>\n    <tr>\n      <th>10</th>\n      <td>10</td>\n      <td>11</td>\n      <td>0.642641</td>\n      <td>0.647490</td>\n      <td>0.624622</td>\n      <td>0.635850</td>\n      <td>0.641115</td>\n      <td>0.645427</td>\n      <td>0.625498</td>\n      <td>0.635306</td>\n      <td>...</td>\n      <td>0.625498</td>\n      <td>0.636917</td>\n      <td>0.543056</td>\n      <td>0.552956</td>\n      <td>0.447211</td>\n      <td>0.494493</td>\n      <td>0.525635</td>\n      <td>0.533074</td>\n      <td>0.409363</td>\n      <td>0.463099</td>\n    </tr>\n    <tr>\n      <th>18</th>\n      <td>18</td>\n      <td>19</td>\n      <td>0.642137</td>\n      <td>0.670303</td>\n      <td>0.558022</td>\n      <td>0.609031</td>\n      <td>0.641613</td>\n      <td>0.669856</td>\n      <td>0.557769</td>\n      <td>0.608696</td>\n      <td>...</td>\n      <td>0.558765</td>\n      <td>0.609451</td>\n      <td>0.531608</td>\n      <td>0.540025</td>\n      <td>0.423307</td>\n      <td>0.474595</td>\n      <td>0.545047</td>\n      <td>0.560811</td>\n      <td>0.413347</td>\n      <td>0.475917</td>\n    </tr>\n  </tbody>\n</table>\n<p>5 rows × 22 columns</p>\n</div>"
     },
     "execution_count": 4,
     "metadata": {},
     "output_type": "execute_result"
    }
   ],
   "source": [
    "# Filter top 10 accuracies of the ANN\n",
    "top_10_accs_df = df.sort_values('ann_accuracy', ascending=False)[:10]\n",
    "\n",
    "top_10_accs_df.head(5)"
   ],
   "metadata": {
    "collapsed": false,
    "pycharm": {
     "name": "#%%\n"
    }
   }
  },
  {
   "cell_type": "code",
   "execution_count": 5,
   "outputs": [
    {
     "data": {
      "text/plain": "<matplotlib.legend.Legend at 0x1f895dcb970>"
     },
     "execution_count": 5,
     "metadata": {},
     "output_type": "execute_result"
    },
    {
     "data": {
      "text/plain": "<Figure size 691.2x760.32 with 1 Axes>",
      "image/png": "[encoded data removed]"
     },
     "metadata": {
      "needs_background": "light"
     },
     "output_type": "display_data"
    }
   ],
   "source": [
    "# Create chart for accuracies of the models\n",
    "\n",
    "# Colors for each bar\n",
    "colors = ['CornflowerBlue', 'GoldenRod', 'SpringGreen', 'LightSlateGray', 'LightCoral']\n",
    "\n",
    "columns = ['ann_accuracy'] + [f'{name}_accuracy' for name in variants] # name of columns containing accuracy\n",
    "ax = top_10_accs_df.plot.barh(x='iterations', y=columns,\n",
    "                        width=0.8, color=colors,  figsize=[6.4 * 1.5, 8.8 * 1.2])\n",
    "\n",
    "\n",
    "plt.xticks(np.arange(0, .75, 0.05))\n",
    "plt.yticks(rotation=0)\n",
    "plt.xlabel('Accuracy')\n",
    "plt.ylabel('Iteration number')\n",
    "\n",
    "# Set legend labels\n",
    "legend_labels = ['ANN'] + variants\n",
    "ax.legend(labels=legend_labels, loc='lower right', frameon=False, bbox_to_anchor=(1.0, 1.0),\n",
    "          ncol=1, borderaxespad=0.)"
   ],
   "metadata": {
    "collapsed": false,
    "pycharm": {
     "name": "#%%\n"
    }
   }
  },
  {
   "cell_type": "code",
   "execution_count": 6,
   "outputs": [],
   "source": [
    "# Paths for saving top 10 accuracies in .pdf and .svg\n",
    "acc_top_10_path_svg = os.path.join(default_output_path, 'acc_top_10.svg')\n",
    "acc_top_10_path_pdf = os.path.join(default_output_path, 'acc_top_10.pdf')\n",
    "\n",
    "\n",
    "# Save output as svg and pdf file\n",
    "fig = ax.get_figure()\n",
    "fig.savefig(acc_top_10_path_svg, format='svg', bbox_inches='tight')\n",
    "fig.savefig(acc_top_10_path_pdf, format='pdf', bbox_inches='tight')"
   ],
   "metadata": {
    "collapsed": false,
    "pycharm": {
     "name": "#%%\n"
    }
   }
  }
 ],
 "metadata": {
  "kernelspec": {
   "display_name": "Python 3",
   "language": "python",
   "name": "python3"
  },
  "language_info": {
   "codemirror_mode": {
    "name": "ipython",
    "version": 2
   },
   "file_extension": ".py",
   "mimetype": "text/x-python",
   "name": "python",
   "nbconvert_exporter": "python",
   "pygments_lexer": "ipython2",
   "version": "2.7.6"
  }
 },
 "nbformat": 4,
 "nbformat_minor": 0
}