{
 "cells": [
  {
   "cell_type": "code",
   "execution_count": 2,
   "outputs": [
    {
     "name": "stdout",
     "output_type": "stream",
     "text": [
      "train_x shape: (11655, 3, 1201)\n",
      "train_y shape: (11655, 10)\n",
      "test_x shape: (3885, 3, 1201)\n",
      "test_y shape: (3885, 10)\n"
     ]
    }
   ],
   "source": [
    "import os\n",
    "import numpy as np\n",
    "from keras import models\n",
    "from tensorflow.python.keras.layers.convolutional import Conv2D\n",
    "from tensorflow.python.keras.utils.np_utils import to_categorical\n",
    "from tensorflow.python.layers.core import Dropout\n",
    "from tensorflow.python.layers.normalization import BatchNormalization\n",
    "from tensorflow.python.layers.pooling import AveragePooling2D\n",
    "\n",
    "dataset_path = os.path.join('..', 'datasets', 'p300', 'p300_dataset.npz')\n",
    "\n",
    "if not os.path.exists(dataset_path):\n",
    "    # todo fix\n",
    "    %run ..\\src\\CreateDataset.py\n",
    "\n",
    "dataset_dict = np.load(file=dataset_path)\n",
    "\n",
    "train_x, train_y = dataset_dict['train_x'], dataset_dict['train_y']\n",
    "test_x, test_y = dataset_dict['test_x'], dataset_dict['test_y']\n",
    "\n",
    "train_y = to_categorical(train_y)\n",
    "test_y = to_categorical(test_y)\n",
    "\n",
    "print('train_x shape:', train_x.shape)\n",
    "print('train_y shape:', train_y.shape)\n",
    "print('test_x shape:', test_x.shape)\n",
    "print('test_y shape:', test_y.shape)\n"
   ],
   "metadata": {
    "collapsed": false,
    "pycharm": {
     "name": "#%%\n"
    }
   }
  },
  {
   "cell_type": "code",
   "execution_count": 3,
   "outputs": [
    {
     "ename": "SyntaxError",
     "evalue": "invalid syntax (<ipython-input-3-b18e7ac2b93e>, line 8)",
     "output_type": "error",
     "traceback": [
      "\u001B[1;36m  File \u001B[1;32m\"<ipython-input-3-b18e7ac2b93e>\"\u001B[1;36m, line \u001B[1;32m8\u001B[0m\n\u001B[1;33m    AveragePooling2D((3, 3), strides=)\u001B[0m\n\u001B[1;37m                                     ^\u001B[0m\n\u001B[1;31mSyntaxError\u001B[0m\u001B[1;31m:\u001B[0m invalid syntax\n"
     ]
    }
   ],
   "source": [
    "# creating vanilla tensorflow network\n",
    "\n",
    "model = models.Sequential(\n",
    "    [\n",
    "        Conv2D(input_shape=(3, 1201, 1), activation='relu', ),\n",
    "        BatchNormalization(),\n",
    "        Dropout(.2),\n",
    "        AveragePooling2D((3, 3), strides=)\n",
    "    ]\n",
    ")"
   ],
   "metadata": {
    "collapsed": false,
    "pycharm": {
     "name": "#%%\n"
    }
   }
  }
 ],
 "metadata": {
  "kernelspec": {
   "name": "pycharm-9c9070f4",
   "language": "python",
   "display_name": "PyCharm (use-of-snn)"
  },
  "language_info": {
   "codemirror_mode": {
    "name": "ipython",
    "version": 2
   },
   "file_extension": ".py",
   "mimetype": "text/x-python",
   "name": "python",
   "nbconvert_exporter": "python",
   "pygments_lexer": "ipython2",
   "version": "2.7.6"
  }
 },
 "nbformat": 4,
 "nbformat_minor": 0
}