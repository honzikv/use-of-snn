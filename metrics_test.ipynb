{
 "cells": [
  {
   "cell_type": "code",
   "execution_count": 1,
   "metadata": {
    "collapsed": true
   },
   "outputs": [],
   "source": [
    "from sklearn import metrics\n",
    "from sklearn.preprocessing import OneHotEncoder\n",
    "import numpy as np\n",
    "import os\n",
    "import random"
   ]
  },
  {
   "cell_type": "code",
   "execution_count": 2,
   "outputs": [
    {
     "name": "stdout",
     "output_type": "stream",
     "text": [
      "['no', 'yes', 'no', 'yes', 'no', 'yes', 'yes', 'no', 'no', 'yes']\n",
      "['yes', 'no', 'no', 'yes', 'no', 'no', 'no', 'yes', 'yes', 'no']\n",
      "1\n"
     ]
    }
   ],
   "source": [
    "seed = 1\n",
    "random.seed(seed)\n",
    "rand = random.Random()\n",
    "y_pred = []\n",
    "y_true = []\n",
    "for x in range(10):\n",
    "    y_true.append('yes' if random.random() > 0.5 else 'no')\n",
    "    y_pred.append('yes' if random.random() > 0.5 else 'no')\n",
    "\n",
    "print(y_true)\n",
    "print(y_pred)\n",
    "\n",
    "y_true = np.array(y_true)\n",
    "y_pred = np.array(y_pred)\n",
    "\n",
    "y_pred = y_pred.reshape(-1, 1)\n",
    "y_true = y_true.reshape(-1, 1)\n",
    "\n",
    "one_hot_enc = OneHotEncoder()\n",
    "y_true_oh = one_hot_enc.fit_transform(y_true).toarray()\n",
    "y_pred_oh = one_hot_enc.transform(y_pred).toarray()\n",
    "\n",
    "y_true_oh, y_pred_oh, one_hot_enc.inverse_transform([[0,1], [1,0]])\n",
    "\n",
    "true_ref_idx = np.argmax(one_hot_enc.transform([['yes']]).toarray())\n",
    "print(true_ref_idx)"
   ],
   "metadata": {
    "collapsed": false,
    "pycharm": {
     "name": "#%%\n"
    }
   }
  },
  {
   "cell_type": "code",
   "execution_count": 3,
   "outputs": [
    {
     "name": "stdout",
     "output_type": "stream",
     "text": [
      "[0 1 0 1 0 1 1 0 0 1]\n",
      "[1 0 0 1 0 0 0 1 1 0]\n"
     ]
    }
   ],
   "source": [
    "tp, fp, fn = 0, 0, 0\n",
    "for i, item in enumerate(y_pred):\n",
    "    if item == 'yes' and y_true[i] == 'yes':\n",
    "        tp += 1\n",
    "    elif item == 'yes' and y_true[i] != 'yes':\n",
    "        fp += 1\n",
    "    elif item == 'no' and y_true[i] != 'no':\n",
    "        fn += 1\n",
    "\n",
    "# tp / tp + fp\n",
    "true_precision = tp / (tp + fp)\n",
    "\n",
    "# tp / tp + fn\n",
    "true_recall = tp / (tp + fn)\n",
    "\n",
    "y_true_argm = np.argmax(y_true_oh, axis=-1)\n",
    "y_pred_argm = np.argmax(y_pred_oh, axis=-1)\n",
    "\n",
    "print(y_true_argm)\n",
    "print(y_pred_argm)"
   ],
   "metadata": {
    "collapsed": false,
    "pycharm": {
     "name": "#%%\n"
    }
   }
  },
  {
   "cell_type": "code",
   "execution_count": 4,
   "outputs": [
    {
     "name": "stdout",
     "output_type": "stream",
     "text": [
      "True\n",
      "True\n",
      "[[1 4]\n",
      " [3 2]]\n",
      "[[2 3]\n",
      " [4 1]]\n",
      "0.2\n"
     ]
    }
   ],
   "source": [
    "precision = metrics.precision_score(y_true=y_true_argm, y_pred=y_pred_argm)\n",
    "recall = metrics.recall_score(y_true=y_true_argm, y_pred=y_pred_argm)\n",
    "conf_mtx = metrics.confusion_matrix(y_true=y_true_argm, y_pred=y_pred_argm, labels=[1, 0])\n",
    "conf_mtx2 = metrics.confusion_matrix(y_true=y_true_argm, y_pred=y_pred_argm)\n",
    "print(true_precision == precision)\n",
    "print(true_recall == recall)\n",
    "print(conf_mtx)\n",
    "print(conf_mtx2)\n",
    "print(recall)"
   ],
   "metadata": {
    "collapsed": false,
    "pycharm": {
     "name": "#%%\n"
    }
   }
  },
  {
   "cell_type": "code",
   "execution_count": 6,
   "outputs": [
    {
     "data": {
      "text/plain": "0.9662459935897436"
     },
     "execution_count": 6,
     "metadata": {},
     "output_type": "execute_result"
    }
   ],
   "source": [
    "array = np.array([[ 960,    0,    1,    0,    1,    2,    8,    4,    1,    2],\n",
    "       [   0, 1118,    4,    0,    0,    0,    1,    0,   10,    0],\n",
    "       [   3,    2,  995,    5,    3,    0,    3,    3,   15,    1],\n",
    "       [   2,    0,   15,  968,    0,    8,    0,    3,    8,    4],\n",
    "       [   1,    0,    3,    0,  955,    0,    4,    4,    2,   11],\n",
    "       [   5,    1,    0,   10,    2,  850,    8,    2,    9,    3],\n",
    "       [   4,    3,    2,    0,    8,    5,  930,    0,    4,    0],\n",
    "       [   1,    3,    9,    2,    4,    0,    0,  997,    1,   10],\n",
    "       [   8,    1,    6,    5,    5,    4,    3,    4,  924,   13],\n",
    "       [   5,    5,    2,    4,   14,    3,    0,   13,   12,  950]])\n",
    "\n",
    "correct = sum([array[i,i] for i in range(array.shape[0])])\n",
    "all = np.sum(np.sum(array))\n",
    "\n",
    "correct / all"
   ],
   "metadata": {
    "collapsed": false,
    "pycharm": {
     "name": "#%%\n"
    }
   }
  }
 ],
 "metadata": {
  "kernelspec": {
   "display_name": "Python 3",
   "language": "python",
   "name": "python3"
  },
  "language_info": {
   "codemirror_mode": {
    "name": "ipython",
    "version": 2
   },
   "file_extension": ".py",
   "mimetype": "text/x-python",
   "name": "python",
   "nbconvert_exporter": "python",
   "pygments_lexer": "ipython2",
   "version": "2.7.6"
  }
 },
 "nbformat": 4,
 "nbformat_minor": 0
}