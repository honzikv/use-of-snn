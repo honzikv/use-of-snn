{
 "cells": [
  {
   "cell_type": "code",
   "execution_count": null,
   "metadata": {
    "collapsed": true
   },
   "outputs": [],
   "source": [
    "import pandas as pd\n",
    "import os\n",
    "import matplotlib.pyplot as plt\n",
    "import numpy as np"
   ]
  },
  {
   "cell_type": "code",
   "execution_count": null,
   "outputs": [],
   "source": [
    "# Config from notebook p300_dataset_exp_convnet.ipynb\n",
    "snn_config = [\n",
    "    [50, 1000, 0.01], # best performing parameters for simulator\n",
    "    [50, 1000, None], # synaptic smoothing turned off\n",
    "    [50, 1, 0.01], # spike scaling turned off\n",
    "    [50, 1, None] # everything turned off, only RELU is swapped for spiking RELU\n",
    "]\n",
    "\n",
    "variants = []\n",
    "for variant in snn_config:\n",
    "        # name of the configuration\n",
    "        name = f'snn [timesteps={variant[0]}, scaling={variant[1]}, synapse=None]' if variant[2] is None \\\n",
    "            else 'snn [timesteps={}, scaling={}, synapse={:3f}]'.format(variant[0], int(variant[1]), variant[2])\n",
    "        variants.append(name)"
   ],
   "metadata": {
    "collapsed": false,
    "pycharm": {
     "name": "#%%\n"
    }
   }
  },
  {
   "cell_type": "code",
   "execution_count": null,
   "outputs": [],
   "source": [
    "default_output_path = 'p300_exp_output'\n",
    "\n",
    "# Read excel file to the data frame\n",
    "df = pd.read_excel(os.path.join(default_output_path, 'data_iterations'))\n"
   ],
   "metadata": {
    "collapsed": false,
    "pycharm": {
     "name": "#%%\n"
    }
   }
  },
  {
   "cell_type": "code",
   "execution_count": null,
   "outputs": [],
   "source": [
    "# Filter top 10 accuracies of the ANN\n",
    "top_10_accs_df = df.sort_values('ann_accuracy', ascending=False)[:10]\n",
    "\n",
    "top_10_accs_df.head(2)"
   ],
   "metadata": {
    "collapsed": false,
    "pycharm": {
     "name": "#%%\n"
    }
   }
  },
  {
   "cell_type": "code",
   "execution_count": null,
   "outputs": [],
   "source": [
    "# Create chart for accuracies of the models\n",
    "\n",
    "# Colors for each bar\n",
    "colors = ['CornflowerBlue', 'GoldenRod', 'SpringGreen', 'LightSlateGray', 'LightCoral']\n",
    "\n",
    "columns = ['ann_accuracy'] + [f'{name}_accuracy' for name in variants] # name of columns containing accuracy\n",
    "ax = top_10_accs_df.plot.barh(x='iterations', y=columns,\n",
    "                        width=0.8, color=colors,  figsize=[6.4 * 1.5, 8.8 * 1.2])\n",
    "\n",
    "\n",
    "plt.xticks(np.arange(0, .75, 0.05))\n",
    "plt.yticks(rotation=0)\n",
    "plt.xlabel('Accuracy')\n",
    "plt.ylabel('Iteration number')\n",
    "\n",
    "# Set legend labels\n",
    "legend_labels = ['ANN'] + variants\n",
    "ax.legend(labels=legend_labels, loc='lower right', frameon=False, bbox_to_anchor=(1.0, 1.0),\n",
    "          ncol=1, borderaxespad=0.)"
   ],
   "metadata": {
    "collapsed": false,
    "pycharm": {
     "name": "#%%\n"
    }
   }
  },
  {
   "cell_type": "code",
   "execution_count": null,
   "outputs": [],
   "source": [
    "# Paths for saving top 10 accuracies in .pdf and .svg\n",
    "acc_top_10_path_svg = os.path.join(default_output_path, 'acc_top_10.svg')\n",
    "acc_top_10_path_pdf = os.path.join(default_output_path, 'acc_top_10.pdf')\n",
    "\n",
    "# Save output as svg and pdf file\n",
    "plt.savefig(acc_top_10_path_svg, bbox_inches='tight')\n",
    "plt.savefig(acc_top_10_path_pdf, bbox_inches='tight')\n",
    "plt.show()"
   ],
   "metadata": {
    "collapsed": false,
    "pycharm": {
     "name": "#%%\n"
    }
   }
  }
 ],
 "metadata": {
  "kernelspec": {
   "display_name": "Python 3",
   "language": "python",
   "name": "python3"
  },
  "language_info": {
   "codemirror_mode": {
    "name": "ipython",
    "version": 2
   },
   "file_extension": ".py",
   "mimetype": "text/x-python",
   "name": "python",
   "nbconvert_exporter": "python",
   "pygments_lexer": "ipython2",
   "version": "2.7.6"
  }
 },
 "nbformat": 4,
 "nbformat_minor": 0
}