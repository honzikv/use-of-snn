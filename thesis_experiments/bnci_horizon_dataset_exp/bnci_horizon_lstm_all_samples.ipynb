{
 "cells": [
  {
   "cell_type": "code",
   "execution_count": null,
   "metadata": {
    "collapsed": true
   },
   "outputs": [],
   "source": [
    "import os\n",
    "import numpy as np\n",
    "import tensorflow as tf\n",
    "import keras\n",
    "import nengo_dl\n",
    "from tensorflow.python.keras import Input, Model\n",
    "import nengo\n",
    "from tensorflow.python.keras.callbacks import EarlyStopping\n",
    "from tensorflow.python.keras.layers import Conv2D, Dropout, AveragePooling2D, Flatten, Dense, BatchNormalization, \\\n",
    "    Conv3D, MaxPooling2D, LSTM\n",
    "from sklearn.preprocessing import OneHotEncoder\n",
    "from sklearn.model_selection import train_test_split, KFold\n",
    "from keras import backend as K\n",
    "import pandas as pd\n",
    "from sklearn import metrics\n",
    "from tensorflow.python.keras.models import Sequential\n",
    "\n",
    "import bnci_utils as utils"
   ]
  },
  {
   "cell_type": "code",
   "execution_count": null,
   "outputs": [],
   "source": [
    "# Dataset path is by default saved in dataset_result/bci_dataset.npz\n",
    "dataset_path = os.path.join('dataset_result', 'entire_dataset.npz')\n",
    "\n",
    "# Get features and labels\n",
    "features, labels = utils.load_dataset(dataset_path)\n",
    "\n",
    "f'Features shape: {features.shape}, labels shape: {labels.shape}'"
   ],
   "metadata": {
    "collapsed": false,
    "pycharm": {
     "name": "#%%\n"
    }
   }
  },
  {
   "cell_type": "code",
   "execution_count": null,
   "outputs": [],
   "source": [
    "# Reshape the dataset for TensorFlow only\n",
    "features = features.reshape((features.shape[0], 14, -1))\n",
    "\n",
    "labels = labels.reshape((-1, 1))\n",
    "labels = OneHotEncoder().fit_transform(labels).toarray()\n",
    "\n",
    "f'features shape: {features.shape}, labels_shape: {labels.shape}'"
   ],
   "metadata": {
    "collapsed": false,
    "pycharm": {
     "name": "#%%\n"
    }
   }
  },
  {
   "cell_type": "code",
   "execution_count": null,
   "outputs": [],
   "source": [
    "# set seed to produce a consistent result\n",
    "seed = 2\n",
    "np.random.seed(seed)\n",
    "tf.random.set_seed(seed)"
   ],
   "metadata": {
    "collapsed": false,
    "pycharm": {
     "name": "#%%\n"
    }
   }
  },
  {
   "cell_type": "code",
   "execution_count": null,
   "outputs": [],
   "source": [
    "# Function to create the LSTM model\n",
    "def lstm_model():\n",
    "    model = Sequential([\n",
    "        LSTM(124, input_shape=(features.shape[1:]), activation=tf.nn.relu, return_sequences=True),\n",
    "        Dropout(0.4),\n",
    "        BatchNormalization(),\n",
    "        LSTM(124, activation=tf.nn.relu),\n",
    "        Dropout(0.3),\n",
    "        BatchNormalization(),\n",
    "        Dense(64, activation=tf.nn.relu),\n",
    "        Dropout(0.2),\n",
    "        Dense(2, activation=tf.nn.softmax, name='output_layer')\n",
    "    ])\n",
    "\n",
    "    return model"
   ],
   "metadata": {
    "collapsed": false,
    "pycharm": {
     "name": "#%%\n"
    }
   }
  },
  {
   "cell_type": "code",
   "execution_count": null,
   "outputs": [],
   "source": [
    "def run_network(model, train, valid, test, iteration, epochs=30):\n",
    "    x_train, y_train = train[0], train[1]\n",
    "    x_val, y_val = valid[0], valid[1]\n",
    "    x_test, y_test = test[0], test[1]\n",
    "\n",
    "    model.compile(\n",
    "        optimizer=tf.keras.optimizers.Adam(),\n",
    "        loss=tf.losses.BinaryCrossentropy(),\n",
    "        metrics=['accuracy']\n",
    "    )\n",
    "\n",
    "    # Train the model and validate on the validation data\n",
    "    model.fit(x_train, y_train, epochs=epochs, validation_data=(x_val, y_val),\n",
    "              callbacks=[EarlyStopping(patience=8, verbose=1, restore_best_weights=True)]\n",
    "              )\n",
    "\n",
    "    # Get the statistics\n",
    "    accuracy, precision, recall, f1, confusion_matrix = utils.get_metrics_keras(model, x_test, y_test, f'{iteration}. CNN')\n",
    "\n",
    "    return {\n",
    "            'accuracy': accuracy,\n",
    "            'precision': precision,\n",
    "            'recall': recall,\n",
    "            'f1': f1,\n",
    "            'confusion_matrix': confusion_matrix\n",
    "        }\n"
   ],
   "metadata": {
    "collapsed": false,
    "pycharm": {
     "name": "#%%\n"
    }
   }
  },
  {
   "cell_type": "code",
   "execution_count": null,
   "outputs": [],
   "source": [
    "results = []\n",
    "num_splits = 10\n",
    "iteration = 1\n",
    "\n",
    "# Run 10-fold CV in the same manner as in the case of the CNN\n",
    "x_train, x_test, y_train, y_test = train_test_split(features, labels, test_size=0.25)\n",
    "for train_idx, val_idx in KFold(n_splits=num_splits).split(x_train):\n",
    "    x_train_curr, y_train_curr = x_train[train_idx], y_train[train_idx] # get the current training data\n",
    "    x_val, y_val = x_train[val_idx], y_train[val_idx] # get the current validation data\n",
    "\n",
    "    model = lstm_model() # create the LSTM model\n",
    "\n",
    "    # Run the network and save the results\n",
    "    result = run_network(model, (x_train_curr, y_train_curr), (x_val, y_val), (x_test, y_test), iteration)\n",
    "    results.append(result)\n",
    "\n",
    "    # Delete the model\n",
    "    K.clear_session()\n",
    "    del model\n",
    "\n",
    "    iteration += 1"
   ],
   "metadata": {
    "collapsed": false,
    "pycharm": {
     "name": "#%%\n"
    }
   }
  },
  {
   "cell_type": "code",
   "execution_count": null,
   "outputs": [],
   "source": [],
   "metadata": {
    "collapsed": false,
    "pycharm": {
     "name": "#%%\n"
    }
   }
  }
 ],
 "metadata": {
  "kernelspec": {
   "display_name": "Python 3",
   "language": "python",
   "name": "python3"
  },
  "language_info": {
   "codemirror_mode": {
    "name": "ipython",
    "version": 2
   },
   "file_extension": ".py",
   "mimetype": "text/x-python",
   "name": "python",
   "nbconvert_exporter": "python",
   "pygments_lexer": "ipython2",
   "version": "2.7.6"
  }
 },
 "nbformat": 4,
 "nbformat_minor": 0
}