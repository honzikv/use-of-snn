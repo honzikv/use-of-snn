{
 "cells": [
  {
   "cell_type": "markdown",
   "source": [
    "This notebook needs to be run before all other notebook since it performs creation of the dataset. The dataset files can\n",
    "be downloaded at: http://bnci-horizon-2020.eu/database/data-sets\n",
    "\n",
    "To work properly make sure the dataset files are contained in \"dataset\" folder and **no other file** (except for init.py)\n",
    "is present.\n",
    "\n",
    "After successfully running this notebook, the results will (by default) be saved in the \"dataset_result\" folder\n",
    "\n",
    "   - Files *P01, P02, ..., P18.npz* contain data from a single participant\n",
    "   - *entire_dataset.npz* - samples from all subjects\n",
    "   - *dataset_male_gender.npz* - data from male subjects\n",
    "   - *dataset_female_gender.npz* - data from female subjects"
   ],
   "metadata": {
    "collapsed": false
   }
  },
  {
   "cell_type": "code",
   "execution_count": 1,
   "metadata": {
    "collapsed": true
   },
   "outputs": [],
   "source": [
    "import scipy.signal\n",
    "import numpy as np\n",
    "from pymatreader import read_mat\n",
    "import os"
   ]
  },
  {
   "cell_type": "code",
   "execution_count": 2,
   "outputs": [],
   "source": [
    "# Create a list with all the dataset files\n",
    "dataset_files = []\n",
    "dataset_folder = 'dataset' # dataset folder to load data\n",
    "for file in os.listdir(dataset_folder):\n",
    "    if file == '__init__.py':\n",
    "        continue # skip init.py file\n",
    "    dataset_files.append(os.path.join(dataset_folder, file)) # append relative path"
   ],
   "metadata": {
    "collapsed": false,
    "pycharm": {
     "name": "#%%\n"
    }
   }
  },
  {
   "cell_type": "code",
   "execution_count": 3,
   "outputs": [],
   "source": [
    "def preprocess_data(mat):\n",
    "    \"\"\"\n",
    "    This function is a Matlab rewritten function from\n",
    "    https://gitlab.stimulate.ovgu.de/christoph.reichert/visual-spatial-attention-bci\n",
    "    :param mat: matrix loaded with read_mat library\n",
    "    :return: features extracted from the specific file\n",
    "    \"\"\"\n",
    "    bci_exp = mat['bciexp'] # reference to the bci exp data which are the only relevant data\n",
    "    labels = bci_exp['label'] # all channels\n",
    "\n",
    "    sampling_rate = bci_exp['srate']\n",
    "    downsampling_fact = 5 # downsampling factor, 250 / 5 = 50 Hz\n",
    "    bandpass = np.array([1, 12.5]) # cutoff frequencies for the bandpass filter\n",
    "    interval_len = .75 # seconds\n",
    "\n",
    "    # calculate bandpass filter coefficients\n",
    "    butter_b, butter_a = scipy.signal.butter(N=2, Wn=bandpass / (sampling_rate / 2), btype='bandpass')\n",
    "\n",
    "    channels_of_interest = ['O9', 'CP1', 'CP2', 'O10', 'P7', 'P3', 'Pz',\n",
    "            'P4', 'P8', 'PO7', 'PO3', 'Oz', 'PO4', 'PO8']\n",
    "\n",
    "    # get the index of each channel in labels array\n",
    "    channel_indexes = np.array([labels.index(ch) for ch in channels_of_interest])\n",
    "    lmast_channel_idx = np.char.equal('LMAST', labels)\n",
    "\n",
    "    # number of samples per analysis window\n",
    "    num_samples_per_window = int(interval_len * sampling_rate / downsampling_fact) - 1\n",
    "\n",
    "    stimuli = np.array(bci_exp['stim'], dtype=np.double)\n",
    "    num_stimuli = np.sum(np.diff( np.sum(stimuli[:, :, 0], axis=0)) > 0)\n",
    "\n",
    "    eeg_data = bci_exp['data']\n",
    "    num_trials = eeg_data.shape[2]\n",
    "    num_channels = len(channel_indexes)\n",
    "    data = np.zeros(shape=(num_channels, num_samples_per_window, num_stimuli, num_trials))\n",
    "\n",
    "    # For each trial\n",
    "    for tr in range(num_trials):\n",
    "        rdat = eeg_data[channel_indexes, :, tr] - (eeg_data[lmast_channel_idx, :, tr] / 2)\n",
    "        filtfilt_signal = scipy.signal.filtfilt(butter_b, butter_a, rdat, padtype='odd',\n",
    "                                                padlen=3 * (max(len(butter_b),len(butter_a)) - 1))\n",
    "        # Resample to 50 Hz\n",
    "        rdat = scipy.signal.resample_poly(filtfilt_signal, 1, downsampling_fact, axis=1)\n",
    "        rdat = rdat.T\n",
    "        x1 = np.insert(stimuli[0, :, tr], 0, 0, axis=0)\n",
    "        x2 = np.insert(stimuli[1, :, tr], 0, 0, axis=0)\n",
    "        stim = np.array((np.diff(x1) > 0) + (np.diff(x2) > 0), dtype=np.double)\n",
    "\n",
    "        stim_onsets = np.array(np.where(stim != 0))[0]\n",
    "\n",
    "        for st in range(num_stimuli):\n",
    "            start = int(np.ceil((stim_onsets[st] + 1) / downsampling_fact)) - 1\n",
    "            idx = np.arange(start, start + num_samples_per_window)\n",
    "\n",
    "            data[:, :, st, tr] = rdat[idx, :].T\n",
    "\n",
    "    return data\n"
   ],
   "metadata": {
    "collapsed": false,
    "pycharm": {
     "name": "#%%\n"
    }
   }
  },
  {
   "cell_type": "code",
   "execution_count": 4,
   "outputs": [],
   "source": [
    "def form_dataset(dataset_files):\n",
    "    \"\"\"\n",
    "    Forms the dataset as a pair of features and labels\n",
    "    :param dataset_files: array of all dataset files - their relative or absolute paths\n",
    "    :return: pair of features and labels for ML\n",
    "    \"\"\"\n",
    "    X_men, X_women, Y_men, Y_women, X, Y = [], [], [], [], [], []\n",
    "    for file in dataset_files:\n",
    "        mat = read_mat(file)\n",
    "        data = preprocess_data(mat)\n",
    "        features = data.reshape(-1, 14, 36, 10)\n",
    "        labels = mat['bciexp']['intention']\n",
    "        X.append(features)\n",
    "        Y.append(labels)\n",
    "        gender = mat['subject']['sex']\n",
    "\n",
    "        if gender == 'male':\n",
    "            X_men.append(features)\n",
    "            Y_men.append(labels)\n",
    "        else:\n",
    "            X_women.append(features)\n",
    "            Y_women.append(labels)\n",
    "\n",
    "    X_concat = np.concatenate(X, axis=0)\n",
    "    Y_concat = np.concatenate(Y) # concatenate all labels\n",
    "    X_men = np.concatenate(X_men)\n",
    "    Y_men = np.concatenate(Y_men)\n",
    "    X_women = np.concatenate(X_women)\n",
    "    Y_women = np.concatenate(Y_women)\n",
    "\n",
    "    print('The entire dataset X shape:', X_concat.shape)\n",
    "    print('The entire dataset Y shape:', Y_concat.shape)\n",
    "    print('Women dataset X shape:', X_women.shape)\n",
    "    print('Women dataset Y shape:', Y_women.shape)\n",
    "    print('Men dataset Y shape:', X_men.shape)\n",
    "    print('Men dataset Y shape:', Y_men.shape)\n",
    "    return X, Y, X_concat, Y_concat, X_men, Y_men, X_women, Y_women\n"
   ],
   "metadata": {
    "collapsed": false,
    "pycharm": {
     "name": "#%%\n"
    }
   }
  },
  {
   "cell_type": "code",
   "execution_count": 5,
   "outputs": [
    {
     "name": "stdout",
     "output_type": "stream",
     "text": [
      "The entire dataset X shape: (2976, 14, 36, 10)\n",
      "The entire dataset Y shape: (2976,)\n",
      "Women dataset X shape: (1680, 14, 36, 10)\n",
      "Women dataset Y shape: (1680,)\n",
      "Men dataset Y shape: (1296, 14, 36, 10)\n",
      "Men dataset Y shape: (1296,)\n"
     ]
    }
   ],
   "source": [
    "# Concatenated dataset\n",
    "X, Y, X_concat, Y_concat, X_men, Y_men, X_women, Y_women = form_dataset(dataset_files)"
   ],
   "metadata": {
    "collapsed": false,
    "pycharm": {
     "name": "#%%\n"
    }
   }
  },
  {
   "cell_type": "code",
   "execution_count": 6,
   "outputs": [
    {
     "data": {
      "text/plain": "'All saved'"
     },
     "execution_count": 6,
     "metadata": {},
     "output_type": "execute_result"
    }
   ],
   "source": [
    "# Dataset path is dataset_result/bci_dataset.npz relative to this notebook\n",
    "dataset_path = os.path.join('dataset_result')\n",
    "concat_path = os.path.join(dataset_path, 'entire_dataset.npz')\n",
    "men_only_path = os.path.join(dataset_path, 'dataset_male_gender.npz')\n",
    "women_only_path = os.path.join(dataset_path, 'dataset_female_gender.npz')\n",
    "\n",
    "# Create a directory if it does not exist already\n",
    "os.makedirs('dataset_result', exist_ok=True)\n",
    "np.savez_compressed(concat_path, features=X_concat, labels=Y_concat)\n",
    "np.savez_compressed(men_only_path, features=X_men, labels=Y_men)\n",
    "np.savez_compressed(women_only_path, features=X_women, labels=Y_women)\n",
    "\n",
    "# Save each participant individually\n",
    "for i in range(len(X)):\n",
    "    file_path = os.path.join(dataset_path, 'P{:02d}'.format(i + 1))\n",
    "    np.savez_compressed(file_path, features=X[i], labels=Y[i])\n",
    "\n",
    "'All saved'"
   ],
   "metadata": {
    "collapsed": false,
    "pycharm": {
     "name": "#%%\n"
    }
   }
  }
 ],
 "metadata": {
  "kernelspec": {
   "display_name": "Python 3",
   "language": "python",
   "name": "python3"
  },
  "language_info": {
   "codemirror_mode": {
    "name": "ipython",
    "version": 2
   },
   "file_extension": ".py",
   "mimetype": "text/x-python",
   "name": "python",
   "nbconvert_exporter": "python",
   "pygments_lexer": "ipython2",
   "version": "2.7.6"
  }
 },
 "nbformat": 4,
 "nbformat_minor": 0
}